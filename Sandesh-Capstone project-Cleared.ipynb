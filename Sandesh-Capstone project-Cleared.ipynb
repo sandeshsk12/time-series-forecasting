{
 "cells": [
  {
   "cell_type": "markdown",
   "id": "4816d860",
   "metadata": {
    "toc": true
   },
   "source": [
    "<h1>Table of Contents<span class=\"tocSkip\"></span></h1>\n",
    "<div class=\"toc\"><ul class=\"toc-item\"><li><span><a href=\"#Problem-Statement\" data-toc-modified-id=\"Problem-Statement-1\"><span class=\"toc-item-num\">1&nbsp;&nbsp;</span>Problem Statement</a></span></li><li><span><a href=\"#Importing-important-packages\" data-toc-modified-id=\"Importing-important-packages-2\"><span class=\"toc-item-num\">2&nbsp;&nbsp;</span>Importing important packages</a></span></li><li><span><a href=\"#Importing-data\" data-toc-modified-id=\"Importing-data-3\"><span class=\"toc-item-num\">3&nbsp;&nbsp;</span>Importing data</a></span></li><li><span><a href=\"#Exploring-data\" data-toc-modified-id=\"Exploring-data-4\"><span class=\"toc-item-num\">4&nbsp;&nbsp;</span>Exploring data</a></span><ul class=\"toc-item\"><li><span><a href=\"#sales-dataset\" data-toc-modified-id=\"sales-dataset-4.1\"><span class=\"toc-item-num\">4.1&nbsp;&nbsp;</span>sales dataset</a></span><ul class=\"toc-item\"><li><span><a href=\"#Check-for-missing-values\" data-toc-modified-id=\"Check-for-missing-values-4.1.1\"><span class=\"toc-item-num\">4.1.1&nbsp;&nbsp;</span>Check for missing values</a></span></li><li><span><a href=\"#Converting-data-into-suitable-format\" data-toc-modified-id=\"Converting-data-into-suitable-format-4.1.2\"><span class=\"toc-item-num\">4.1.2&nbsp;&nbsp;</span>Converting data into suitable format</a></span></li><li><span><a href=\"#Check-for-sales-on-closed-days\" data-toc-modified-id=\"Check-for-sales-on-closed-days-4.1.3\"><span class=\"toc-item-num\">4.1.3&nbsp;&nbsp;</span>Check for sales on closed days</a></span></li></ul></li><li><span><a href=\"#Explore-store-dataset\" data-toc-modified-id=\"Explore-store-dataset-4.2\"><span class=\"toc-item-num\">4.2&nbsp;&nbsp;</span>Explore store dataset</a></span></li><li><span><a href=\"#Deriving-new-features\" data-toc-modified-id=\"Deriving-new-features-4.3\"><span class=\"toc-item-num\">4.3&nbsp;&nbsp;</span>Deriving new features</a></span></li></ul></li><li><span><a href=\"#EDA\" data-toc-modified-id=\"EDA-5\"><span class=\"toc-item-num\">5&nbsp;&nbsp;</span>EDA</a></span><ul class=\"toc-item\"><li><span><a href=\"#Cleaning-data\" data-toc-modified-id=\"Cleaning-data-5.1\"><span class=\"toc-item-num\">5.1&nbsp;&nbsp;</span>Cleaning data</a></span></li><li><span><a href=\"#Univariate-analysis\" data-toc-modified-id=\"Univariate-analysis-5.2\"><span class=\"toc-item-num\">5.2&nbsp;&nbsp;</span>Univariate analysis</a></span><ul class=\"toc-item\"><li><span><a href=\"#Store-data\" data-toc-modified-id=\"Store-data-5.2.1\"><span class=\"toc-item-num\">5.2.1&nbsp;&nbsp;</span>Store data</a></span></li><li><span><a href=\"#Sales-data\" data-toc-modified-id=\"Sales-data-5.2.2\"><span class=\"toc-item-num\">5.2.2&nbsp;&nbsp;</span>Sales data</a></span></li></ul></li><li><span><a href=\"#Bivariate-analysis\" data-toc-modified-id=\"Bivariate-analysis-5.3\"><span class=\"toc-item-num\">5.3&nbsp;&nbsp;</span>Bivariate analysis</a></span></li><li><span><a href=\"#Multi-variate-analysis\" data-toc-modified-id=\"Multi-variate-analysis-5.4\"><span class=\"toc-item-num\">5.4&nbsp;&nbsp;</span>Multi-variate analysis</a></span></li></ul></li><li><span><a href=\"#Outlier-removal\" data-toc-modified-id=\"Outlier-removal-6\"><span class=\"toc-item-num\">6&nbsp;&nbsp;</span>Outlier removal</a></span></li><li><span><a href=\"#Create-dataset-for-each-store\" data-toc-modified-id=\"Create-dataset-for-each-store-7\"><span class=\"toc-item-num\">7&nbsp;&nbsp;</span>Create dataset for each store</a></span></li><li><span><a href=\"#Store-details-for-important-stores\" data-toc-modified-id=\"Store-details-for-important-stores-8\"><span class=\"toc-item-num\">8&nbsp;&nbsp;</span>Store details for important stores</a></span></li><li><span><a href=\"#model-building\" data-toc-modified-id=\"model-building-9\"><span class=\"toc-item-num\">9&nbsp;&nbsp;</span>model building</a></span><ul class=\"toc-item\"><li><span><a href=\"#Store-1\" data-toc-modified-id=\"Store-1-9.1\"><span class=\"toc-item-num\">9.1&nbsp;&nbsp;</span>Store 1</a></span><ul class=\"toc-item\"><li><span><a href=\"#Visualisation\" data-toc-modified-id=\"Visualisation-9.1.1\"><span class=\"toc-item-num\">9.1.1&nbsp;&nbsp;</span>Visualisation</a></span></li><li><span><a href=\"#Time-series-decomposition\" data-toc-modified-id=\"Time-series-decomposition-9.1.2\"><span class=\"toc-item-num\">9.1.2&nbsp;&nbsp;</span>Time series decomposition</a></span></li><li><span><a href=\"#Splitting-data-into-test-and-train\" data-toc-modified-id=\"Splitting-data-into-test-and-train-9.1.3\"><span class=\"toc-item-num\">9.1.3&nbsp;&nbsp;</span>Splitting data into test and train</a></span></li><li><span><a href=\"#Modelling\" data-toc-modified-id=\"Modelling-9.1.4\"><span class=\"toc-item-num\">9.1.4&nbsp;&nbsp;</span>Modelling</a></span><ul class=\"toc-item\"><li><span><a href=\"#Naive-method\" data-toc-modified-id=\"Naive-method-9.1.4.1\"><span class=\"toc-item-num\">9.1.4.1&nbsp;&nbsp;</span>Naive method</a></span></li><li><span><a href=\"#Simple-moving-average-method\" data-toc-modified-id=\"Simple-moving-average-method-9.1.4.2\"><span class=\"toc-item-num\">9.1.4.2&nbsp;&nbsp;</span>Simple moving average method</a></span></li><li><span><a href=\"#holt-winters-method-with-additive-trend-and-seasonality\" data-toc-modified-id=\"holt-winters-method-with-additive-trend-and-seasonality-9.1.4.3\"><span class=\"toc-item-num\">9.1.4.3&nbsp;&nbsp;</span>holt winters method with additive trend and seasonality</a></span></li><li><span><a href=\"#ARIMA-family-pre-requisites\" data-toc-modified-id=\"ARIMA-family-pre-requisites-9.1.4.4\"><span class=\"toc-item-num\">9.1.4.4&nbsp;&nbsp;</span>ARIMA family pre-requisites</a></span></li><li><span><a href=\"#Arima-model\" data-toc-modified-id=\"Arima-model-9.1.4.5\"><span class=\"toc-item-num\">9.1.4.5&nbsp;&nbsp;</span>Arima model</a></span></li><li><span><a href=\"#VAR-Model-pre-requisites\" data-toc-modified-id=\"VAR-Model-pre-requisites-9.1.4.6\"><span class=\"toc-item-num\">9.1.4.6&nbsp;&nbsp;</span>VAR Model pre-requisites</a></span></li><li><span><a href=\"#Varma-model\" data-toc-modified-id=\"Varma-model-9.1.4.7\"><span class=\"toc-item-num\">9.1.4.7&nbsp;&nbsp;</span>Varma model</a></span></li><li><span><a href=\"#Varmax-model\" data-toc-modified-id=\"Varmax-model-9.1.4.8\"><span class=\"toc-item-num\">9.1.4.8&nbsp;&nbsp;</span>Varmax model</a></span></li><li><span><a href=\"#Impulse-response-function\" data-toc-modified-id=\"Impulse-response-function-9.1.4.9\"><span class=\"toc-item-num\">9.1.4.9&nbsp;&nbsp;</span>Impulse response function</a></span></li><li><span><a href=\"#Varmax-with-'open'-variable\" data-toc-modified-id=\"Varmax-with-'open'-variable-9.1.4.10\"><span class=\"toc-item-num\">9.1.4.10&nbsp;&nbsp;</span>Varmax with 'open' variable</a></span></li><li><span><a href=\"#Impulse-response-function\" data-toc-modified-id=\"Impulse-response-function-9.1.4.11\"><span class=\"toc-item-num\">9.1.4.11&nbsp;&nbsp;</span>Impulse response function</a></span></li><li><span><a href=\"#Final-varmax_model\" data-toc-modified-id=\"Final-varmax_model-9.1.4.12\"><span class=\"toc-item-num\">9.1.4.12&nbsp;&nbsp;</span>Final varmax_model</a></span></li><li><span><a href=\"#Impulse-response-function\" data-toc-modified-id=\"Impulse-response-function-9.1.4.13\"><span class=\"toc-item-num\">9.1.4.13&nbsp;&nbsp;</span>Impulse response function</a></span></li></ul></li><li><span><a href=\"#Summary\" data-toc-modified-id=\"Summary-9.1.5\"><span class=\"toc-item-num\">9.1.5&nbsp;&nbsp;</span>Summary</a></span></li></ul></li><li><span><a href=\"#Store-3\" data-toc-modified-id=\"Store-3-9.2\"><span class=\"toc-item-num\">9.2&nbsp;&nbsp;</span>Store 3</a></span><ul class=\"toc-item\"><li><span><a href=\"#Visualisation\" data-toc-modified-id=\"Visualisation-9.2.1\"><span class=\"toc-item-num\">9.2.1&nbsp;&nbsp;</span>Visualisation</a></span></li><li><span><a href=\"#Time-series-decomposition\" data-toc-modified-id=\"Time-series-decomposition-9.2.2\"><span class=\"toc-item-num\">9.2.2&nbsp;&nbsp;</span>Time series decomposition</a></span></li><li><span><a href=\"#Splitting-data-into-test-and-train\" data-toc-modified-id=\"Splitting-data-into-test-and-train-9.2.3\"><span class=\"toc-item-num\">9.2.3&nbsp;&nbsp;</span>Splitting data into test and train</a></span></li><li><span><a href=\"#Modelling\" data-toc-modified-id=\"Modelling-9.2.4\"><span class=\"toc-item-num\">9.2.4&nbsp;&nbsp;</span>Modelling</a></span><ul class=\"toc-item\"><li><span><a href=\"#Naive-method\" data-toc-modified-id=\"Naive-method-9.2.4.1\"><span class=\"toc-item-num\">9.2.4.1&nbsp;&nbsp;</span>Naive method</a></span></li><li><span><a href=\"#Simple-moving-average-method\" data-toc-modified-id=\"Simple-moving-average-method-9.2.4.2\"><span class=\"toc-item-num\">9.2.4.2&nbsp;&nbsp;</span>Simple moving average method</a></span></li><li><span><a href=\"#holt-winters-method-with-additive-trend-and-seasonality\" data-toc-modified-id=\"holt-winters-method-with-additive-trend-and-seasonality-9.2.4.3\"><span class=\"toc-item-num\">9.2.4.3&nbsp;&nbsp;</span>holt winters method with additive trend and seasonality</a></span></li><li><span><a href=\"#ARIMA-family-pre-requisites\" data-toc-modified-id=\"ARIMA-family-pre-requisites-9.2.4.4\"><span class=\"toc-item-num\">9.2.4.4&nbsp;&nbsp;</span>ARIMA family pre-requisites</a></span></li><li><span><a href=\"#Arima-model\" data-toc-modified-id=\"Arima-model-9.2.4.5\"><span class=\"toc-item-num\">9.2.4.5&nbsp;&nbsp;</span>Arima model</a></span></li><li><span><a href=\"#VAR-Model-pre-requisites\" data-toc-modified-id=\"VAR-Model-pre-requisites-9.2.4.6\"><span class=\"toc-item-num\">9.2.4.6&nbsp;&nbsp;</span>VAR Model pre-requisites</a></span></li><li><span><a href=\"#Varma-model\" data-toc-modified-id=\"Varma-model-9.2.4.7\"><span class=\"toc-item-num\">9.2.4.7&nbsp;&nbsp;</span>Varma model</a></span></li><li><span><a href=\"#Varmax-model\" data-toc-modified-id=\"Varmax-model-9.2.4.8\"><span class=\"toc-item-num\">9.2.4.8&nbsp;&nbsp;</span>Varmax model</a></span></li><li><span><a href=\"#Impulse-response-function\" data-toc-modified-id=\"Impulse-response-function-9.2.4.9\"><span class=\"toc-item-num\">9.2.4.9&nbsp;&nbsp;</span>Impulse response function</a></span></li><li><span><a href=\"#Varmax-with-'open'-variable\" data-toc-modified-id=\"Varmax-with-'open'-variable-9.2.4.10\"><span class=\"toc-item-num\">9.2.4.10&nbsp;&nbsp;</span>Varmax with 'open' variable</a></span></li><li><span><a href=\"#Impulse-response-function\" data-toc-modified-id=\"Impulse-response-function-9.2.4.11\"><span class=\"toc-item-num\">9.2.4.11&nbsp;&nbsp;</span>Impulse response function</a></span></li><li><span><a href=\"#Final-varmax_model\" data-toc-modified-id=\"Final-varmax_model-9.2.4.12\"><span class=\"toc-item-num\">9.2.4.12&nbsp;&nbsp;</span>Final varmax_model</a></span></li><li><span><a href=\"#Impulse-response-function\" data-toc-modified-id=\"Impulse-response-function-9.2.4.13\"><span class=\"toc-item-num\">9.2.4.13&nbsp;&nbsp;</span>Impulse response function</a></span></li></ul></li><li><span><a href=\"#Summary\" data-toc-modified-id=\"Summary-9.2.5\"><span class=\"toc-item-num\">9.2.5&nbsp;&nbsp;</span>Summary</a></span></li></ul></li><li><span><a href=\"#Store-8\" data-toc-modified-id=\"Store-8-9.3\"><span class=\"toc-item-num\">9.3&nbsp;&nbsp;</span>Store 8</a></span><ul class=\"toc-item\"><li><span><a href=\"#Visualisation\" data-toc-modified-id=\"Visualisation-9.3.1\"><span class=\"toc-item-num\">9.3.1&nbsp;&nbsp;</span>Visualisation</a></span></li><li><span><a href=\"#Time-series-decomposition\" data-toc-modified-id=\"Time-series-decomposition-9.3.2\"><span class=\"toc-item-num\">9.3.2&nbsp;&nbsp;</span>Time series decomposition</a></span></li><li><span><a href=\"#Splitting-data-into-test-and-train\" data-toc-modified-id=\"Splitting-data-into-test-and-train-9.3.3\"><span class=\"toc-item-num\">9.3.3&nbsp;&nbsp;</span>Splitting data into test and train</a></span></li><li><span><a href=\"#Modelling\" data-toc-modified-id=\"Modelling-9.3.4\"><span class=\"toc-item-num\">9.3.4&nbsp;&nbsp;</span>Modelling</a></span><ul class=\"toc-item\"><li><span><a href=\"#Naive-method\" data-toc-modified-id=\"Naive-method-9.3.4.1\"><span class=\"toc-item-num\">9.3.4.1&nbsp;&nbsp;</span>Naive method</a></span></li><li><span><a href=\"#Simple-moving-average-method\" data-toc-modified-id=\"Simple-moving-average-method-9.3.4.2\"><span class=\"toc-item-num\">9.3.4.2&nbsp;&nbsp;</span>Simple moving average method</a></span></li><li><span><a href=\"#holt-winters-method-with-additive-trend-and-seasonality\" data-toc-modified-id=\"holt-winters-method-with-additive-trend-and-seasonality-9.3.4.3\"><span class=\"toc-item-num\">9.3.4.3&nbsp;&nbsp;</span>holt winters method with additive trend and seasonality</a></span></li><li><span><a href=\"#ARIMA-family-pre-requisites\" data-toc-modified-id=\"ARIMA-family-pre-requisites-9.3.4.4\"><span class=\"toc-item-num\">9.3.4.4&nbsp;&nbsp;</span>ARIMA family pre-requisites</a></span></li><li><span><a href=\"#Arima-model\" data-toc-modified-id=\"Arima-model-9.3.4.5\"><span class=\"toc-item-num\">9.3.4.5&nbsp;&nbsp;</span>Arima model</a></span></li><li><span><a href=\"#VAR-Model-pre-requisites\" data-toc-modified-id=\"VAR-Model-pre-requisites-9.3.4.6\"><span class=\"toc-item-num\">9.3.4.6&nbsp;&nbsp;</span>VAR Model pre-requisites</a></span></li><li><span><a href=\"#Varma-model\" data-toc-modified-id=\"Varma-model-9.3.4.7\"><span class=\"toc-item-num\">9.3.4.7&nbsp;&nbsp;</span>Varma model</a></span></li><li><span><a href=\"#Varmax-model\" data-toc-modified-id=\"Varmax-model-9.3.4.8\"><span class=\"toc-item-num\">9.3.4.8&nbsp;&nbsp;</span>Varmax model</a></span></li><li><span><a href=\"#Impulse-response-function\" data-toc-modified-id=\"Impulse-response-function-9.3.4.9\"><span class=\"toc-item-num\">9.3.4.9&nbsp;&nbsp;</span>Impulse response function</a></span></li><li><span><a href=\"#Varmax-with-'open'-variable\" data-toc-modified-id=\"Varmax-with-'open'-variable-9.3.4.10\"><span class=\"toc-item-num\">9.3.4.10&nbsp;&nbsp;</span>Varmax with 'open' variable</a></span></li><li><span><a href=\"#Impulse-response-function\" data-toc-modified-id=\"Impulse-response-function-9.3.4.11\"><span class=\"toc-item-num\">9.3.4.11&nbsp;&nbsp;</span>Impulse response function</a></span></li><li><span><a href=\"#Final-varmax_model\" data-toc-modified-id=\"Final-varmax_model-9.3.4.12\"><span class=\"toc-item-num\">9.3.4.12&nbsp;&nbsp;</span>Final varmax_model</a></span></li><li><span><a href=\"#Impulse-response-function\" data-toc-modified-id=\"Impulse-response-function-9.3.4.13\"><span class=\"toc-item-num\">9.3.4.13&nbsp;&nbsp;</span>Impulse response function</a></span></li></ul></li><li><span><a href=\"#Summary\" data-toc-modified-id=\"Summary-9.3.5\"><span class=\"toc-item-num\">9.3.5&nbsp;&nbsp;</span>Summary</a></span></li></ul></li><li><span><a href=\"#Store-9\" data-toc-modified-id=\"Store-9-9.4\"><span class=\"toc-item-num\">9.4&nbsp;&nbsp;</span>Store 9</a></span><ul class=\"toc-item\"><li><span><a href=\"#Visualisation\" data-toc-modified-id=\"Visualisation-9.4.1\"><span class=\"toc-item-num\">9.4.1&nbsp;&nbsp;</span>Visualisation</a></span></li><li><span><a href=\"#Time-series-decomposition\" data-toc-modified-id=\"Time-series-decomposition-9.4.2\"><span class=\"toc-item-num\">9.4.2&nbsp;&nbsp;</span>Time series decomposition</a></span></li><li><span><a href=\"#Splitting-data-into-test-and-train\" data-toc-modified-id=\"Splitting-data-into-test-and-train-9.4.3\"><span class=\"toc-item-num\">9.4.3&nbsp;&nbsp;</span>Splitting data into test and train</a></span></li><li><span><a href=\"#Modelling\" data-toc-modified-id=\"Modelling-9.4.4\"><span class=\"toc-item-num\">9.4.4&nbsp;&nbsp;</span>Modelling</a></span><ul class=\"toc-item\"><li><span><a href=\"#Naive-method\" data-toc-modified-id=\"Naive-method-9.4.4.1\"><span class=\"toc-item-num\">9.4.4.1&nbsp;&nbsp;</span>Naive method</a></span></li><li><span><a href=\"#Simple-moving-average-method\" data-toc-modified-id=\"Simple-moving-average-method-9.4.4.2\"><span class=\"toc-item-num\">9.4.4.2&nbsp;&nbsp;</span>Simple moving average method</a></span></li><li><span><a href=\"#holt-winters-method-with-additive-trend-and-seasonality\" data-toc-modified-id=\"holt-winters-method-with-additive-trend-and-seasonality-9.4.4.3\"><span class=\"toc-item-num\">9.4.4.3&nbsp;&nbsp;</span>holt winters method with additive trend and seasonality</a></span></li><li><span><a href=\"#ARIMA-family-pre-requisites\" data-toc-modified-id=\"ARIMA-family-pre-requisites-9.4.4.4\"><span class=\"toc-item-num\">9.4.4.4&nbsp;&nbsp;</span>ARIMA family pre-requisites</a></span></li><li><span><a href=\"#Arima-model\" data-toc-modified-id=\"Arima-model-9.4.4.5\"><span class=\"toc-item-num\">9.4.4.5&nbsp;&nbsp;</span>Arima model</a></span></li><li><span><a href=\"#VAR-Model-pre-requisites\" data-toc-modified-id=\"VAR-Model-pre-requisites-9.4.4.6\"><span class=\"toc-item-num\">9.4.4.6&nbsp;&nbsp;</span>VAR Model pre-requisites</a></span></li><li><span><a href=\"#Varma-model\" data-toc-modified-id=\"Varma-model-9.4.4.7\"><span class=\"toc-item-num\">9.4.4.7&nbsp;&nbsp;</span>Varma model</a></span></li><li><span><a href=\"#Varmax-model\" data-toc-modified-id=\"Varmax-model-9.4.4.8\"><span class=\"toc-item-num\">9.4.4.8&nbsp;&nbsp;</span>Varmax model</a></span></li><li><span><a href=\"#Impulse-response-function\" data-toc-modified-id=\"Impulse-response-function-9.4.4.9\"><span class=\"toc-item-num\">9.4.4.9&nbsp;&nbsp;</span>Impulse response function</a></span></li><li><span><a href=\"#Varmax-with-'open'-variable\" data-toc-modified-id=\"Varmax-with-'open'-variable-9.4.4.10\"><span class=\"toc-item-num\">9.4.4.10&nbsp;&nbsp;</span>Varmax with 'open' variable</a></span></li><li><span><a href=\"#Impulse-response-function\" data-toc-modified-id=\"Impulse-response-function-9.4.4.11\"><span class=\"toc-item-num\">9.4.4.11&nbsp;&nbsp;</span>Impulse response function</a></span></li><li><span><a href=\"#Final-varmax_model\" data-toc-modified-id=\"Final-varmax_model-9.4.4.12\"><span class=\"toc-item-num\">9.4.4.12&nbsp;&nbsp;</span>Final varmax_model</a></span></li><li><span><a href=\"#Impulse-response-function\" data-toc-modified-id=\"Impulse-response-function-9.4.4.13\"><span class=\"toc-item-num\">9.4.4.13&nbsp;&nbsp;</span>Impulse response function</a></span></li></ul></li><li><span><a href=\"#Summary\" data-toc-modified-id=\"Summary-9.4.5\"><span class=\"toc-item-num\">9.4.5&nbsp;&nbsp;</span>Summary</a></span></li></ul></li><li><span><a href=\"#Store-13\" data-toc-modified-id=\"Store-13-9.5\"><span class=\"toc-item-num\">9.5&nbsp;&nbsp;</span>Store 13</a></span><ul class=\"toc-item\"><li><span><a href=\"#Visualisation\" data-toc-modified-id=\"Visualisation-9.5.1\"><span class=\"toc-item-num\">9.5.1&nbsp;&nbsp;</span>Visualisation</a></span></li><li><span><a href=\"#Time-series-decomposition\" data-toc-modified-id=\"Time-series-decomposition-9.5.2\"><span class=\"toc-item-num\">9.5.2&nbsp;&nbsp;</span>Time series decomposition</a></span></li><li><span><a href=\"#Splitting-data-into-test-and-train\" data-toc-modified-id=\"Splitting-data-into-test-and-train-9.5.3\"><span class=\"toc-item-num\">9.5.3&nbsp;&nbsp;</span>Splitting data into test and train</a></span></li><li><span><a href=\"#Modelling\" data-toc-modified-id=\"Modelling-9.5.4\"><span class=\"toc-item-num\">9.5.4&nbsp;&nbsp;</span>Modelling</a></span><ul class=\"toc-item\"><li><span><a href=\"#Naive-method\" data-toc-modified-id=\"Naive-method-9.5.4.1\"><span class=\"toc-item-num\">9.5.4.1&nbsp;&nbsp;</span>Naive method</a></span></li><li><span><a href=\"#Simple-moving-average-method\" data-toc-modified-id=\"Simple-moving-average-method-9.5.4.2\"><span class=\"toc-item-num\">9.5.4.2&nbsp;&nbsp;</span>Simple moving average method</a></span></li><li><span><a href=\"#holt-winters-method-with-additive-trend-and-seasonality\" data-toc-modified-id=\"holt-winters-method-with-additive-trend-and-seasonality-9.5.4.3\"><span class=\"toc-item-num\">9.5.4.3&nbsp;&nbsp;</span>holt winters method with additive trend and seasonality</a></span></li><li><span><a href=\"#ARIMA-family-pre-requisites\" data-toc-modified-id=\"ARIMA-family-pre-requisites-9.5.4.4\"><span class=\"toc-item-num\">9.5.4.4&nbsp;&nbsp;</span>ARIMA family pre-requisites</a></span></li><li><span><a href=\"#Arima-model\" data-toc-modified-id=\"Arima-model-9.5.4.5\"><span class=\"toc-item-num\">9.5.4.5&nbsp;&nbsp;</span>Arima model</a></span></li><li><span><a href=\"#VAR-Model-pre-requisites\" data-toc-modified-id=\"VAR-Model-pre-requisites-9.5.4.6\"><span class=\"toc-item-num\">9.5.4.6&nbsp;&nbsp;</span>VAR Model pre-requisites</a></span></li><li><span><a href=\"#Varma-model\" data-toc-modified-id=\"Varma-model-9.5.4.7\"><span class=\"toc-item-num\">9.5.4.7&nbsp;&nbsp;</span>Varma model</a></span></li><li><span><a href=\"#Varmax-model\" data-toc-modified-id=\"Varmax-model-9.5.4.8\"><span class=\"toc-item-num\">9.5.4.8&nbsp;&nbsp;</span>Varmax model</a></span></li><li><span><a href=\"#Impulse-response-function\" data-toc-modified-id=\"Impulse-response-function-9.5.4.9\"><span class=\"toc-item-num\">9.5.4.9&nbsp;&nbsp;</span>Impulse response function</a></span></li><li><span><a href=\"#Varmax-with-'open'-variable\" data-toc-modified-id=\"Varmax-with-'open'-variable-9.5.4.10\"><span class=\"toc-item-num\">9.5.4.10&nbsp;&nbsp;</span>Varmax with 'open' variable</a></span></li><li><span><a href=\"#Impulse-response-function\" data-toc-modified-id=\"Impulse-response-function-9.5.4.11\"><span class=\"toc-item-num\">9.5.4.11&nbsp;&nbsp;</span>Impulse response function</a></span></li><li><span><a href=\"#Final-varmax_model\" data-toc-modified-id=\"Final-varmax_model-9.5.4.12\"><span class=\"toc-item-num\">9.5.4.12&nbsp;&nbsp;</span>Final varmax_model</a></span></li><li><span><a href=\"#Impulse-response-function\" data-toc-modified-id=\"Impulse-response-function-9.5.4.13\"><span class=\"toc-item-num\">9.5.4.13&nbsp;&nbsp;</span>Impulse response function</a></span></li></ul></li><li><span><a href=\"#Summary\" data-toc-modified-id=\"Summary-9.5.5\"><span class=\"toc-item-num\">9.5.5&nbsp;&nbsp;</span>Summary</a></span></li></ul></li><li><span><a href=\"#Store-25\" data-toc-modified-id=\"Store-25-9.6\"><span class=\"toc-item-num\">9.6&nbsp;&nbsp;</span>Store 25</a></span><ul class=\"toc-item\"><li><span><a href=\"#Visualisation\" data-toc-modified-id=\"Visualisation-9.6.1\"><span class=\"toc-item-num\">9.6.1&nbsp;&nbsp;</span>Visualisation</a></span></li><li><span><a href=\"#Time-series-decomposition\" data-toc-modified-id=\"Time-series-decomposition-9.6.2\"><span class=\"toc-item-num\">9.6.2&nbsp;&nbsp;</span>Time series decomposition</a></span></li><li><span><a href=\"#Splitting-data-into-test-and-train\" data-toc-modified-id=\"Splitting-data-into-test-and-train-9.6.3\"><span class=\"toc-item-num\">9.6.3&nbsp;&nbsp;</span>Splitting data into test and train</a></span></li><li><span><a href=\"#Modelling\" data-toc-modified-id=\"Modelling-9.6.4\"><span class=\"toc-item-num\">9.6.4&nbsp;&nbsp;</span>Modelling</a></span><ul class=\"toc-item\"><li><span><a href=\"#Naive-method\" data-toc-modified-id=\"Naive-method-9.6.4.1\"><span class=\"toc-item-num\">9.6.4.1&nbsp;&nbsp;</span>Naive method</a></span></li><li><span><a href=\"#Simple-moving-average-method\" data-toc-modified-id=\"Simple-moving-average-method-9.6.4.2\"><span class=\"toc-item-num\">9.6.4.2&nbsp;&nbsp;</span>Simple moving average method</a></span></li><li><span><a href=\"#holt-winters-method-with-additive-trend-and-seasonality\" data-toc-modified-id=\"holt-winters-method-with-additive-trend-and-seasonality-9.6.4.3\"><span class=\"toc-item-num\">9.6.4.3&nbsp;&nbsp;</span>holt winters method with additive trend and seasonality</a></span></li><li><span><a href=\"#ARIMA-family-pre-requisites\" data-toc-modified-id=\"ARIMA-family-pre-requisites-9.6.4.4\"><span class=\"toc-item-num\">9.6.4.4&nbsp;&nbsp;</span>ARIMA family pre-requisites</a></span></li><li><span><a href=\"#Arima-model\" data-toc-modified-id=\"Arima-model-9.6.4.5\"><span class=\"toc-item-num\">9.6.4.5&nbsp;&nbsp;</span>Arima model</a></span></li><li><span><a href=\"#VAR-Model-pre-requisites\" data-toc-modified-id=\"VAR-Model-pre-requisites-9.6.4.6\"><span class=\"toc-item-num\">9.6.4.6&nbsp;&nbsp;</span>VAR Model pre-requisites</a></span></li><li><span><a href=\"#Varma-model\" data-toc-modified-id=\"Varma-model-9.6.4.7\"><span class=\"toc-item-num\">9.6.4.7&nbsp;&nbsp;</span>Varma model</a></span></li><li><span><a href=\"#Varmax-model\" data-toc-modified-id=\"Varmax-model-9.6.4.8\"><span class=\"toc-item-num\">9.6.4.8&nbsp;&nbsp;</span>Varmax model</a></span></li><li><span><a href=\"#Impulse-response-function\" data-toc-modified-id=\"Impulse-response-function-9.6.4.9\"><span class=\"toc-item-num\">9.6.4.9&nbsp;&nbsp;</span>Impulse response function</a></span></li><li><span><a href=\"#Varmax-with-'open'-variable\" data-toc-modified-id=\"Varmax-with-'open'-variable-9.6.4.10\"><span class=\"toc-item-num\">9.6.4.10&nbsp;&nbsp;</span>Varmax with 'open' variable</a></span></li><li><span><a href=\"#Impulse-response-function\" data-toc-modified-id=\"Impulse-response-function-9.6.4.11\"><span class=\"toc-item-num\">9.6.4.11&nbsp;&nbsp;</span>Impulse response function</a></span></li><li><span><a href=\"#Final-varmax_model\" data-toc-modified-id=\"Final-varmax_model-9.6.4.12\"><span class=\"toc-item-num\">9.6.4.12&nbsp;&nbsp;</span>Final varmax_model</a></span></li><li><span><a href=\"#Impulse-response-function\" data-toc-modified-id=\"Impulse-response-function-9.6.4.13\"><span class=\"toc-item-num\">9.6.4.13&nbsp;&nbsp;</span>Impulse response function</a></span></li></ul></li><li><span><a href=\"#Summary\" data-toc-modified-id=\"Summary-9.6.5\"><span class=\"toc-item-num\">9.6.5&nbsp;&nbsp;</span>Summary</a></span></li></ul></li><li><span><a href=\"#Store-29\" data-toc-modified-id=\"Store-29-9.7\"><span class=\"toc-item-num\">9.7&nbsp;&nbsp;</span>Store 29</a></span><ul class=\"toc-item\"><li><span><a href=\"#Visualisation\" data-toc-modified-id=\"Visualisation-9.7.1\"><span class=\"toc-item-num\">9.7.1&nbsp;&nbsp;</span>Visualisation</a></span></li><li><span><a href=\"#Time-series-decomposition\" data-toc-modified-id=\"Time-series-decomposition-9.7.2\"><span class=\"toc-item-num\">9.7.2&nbsp;&nbsp;</span>Time series decomposition</a></span></li><li><span><a href=\"#Splitting-data-into-test-and-train\" data-toc-modified-id=\"Splitting-data-into-test-and-train-9.7.3\"><span class=\"toc-item-num\">9.7.3&nbsp;&nbsp;</span>Splitting data into test and train</a></span></li><li><span><a href=\"#Modelling\" data-toc-modified-id=\"Modelling-9.7.4\"><span class=\"toc-item-num\">9.7.4&nbsp;&nbsp;</span>Modelling</a></span><ul class=\"toc-item\"><li><span><a href=\"#Naive-method\" data-toc-modified-id=\"Naive-method-9.7.4.1\"><span class=\"toc-item-num\">9.7.4.1&nbsp;&nbsp;</span>Naive method</a></span></li><li><span><a href=\"#Simple-moving-average-method\" data-toc-modified-id=\"Simple-moving-average-method-9.7.4.2\"><span class=\"toc-item-num\">9.7.4.2&nbsp;&nbsp;</span>Simple moving average method</a></span></li><li><span><a href=\"#holt-winters-method-with-additive-trend-and-seasonality\" data-toc-modified-id=\"holt-winters-method-with-additive-trend-and-seasonality-9.7.4.3\"><span class=\"toc-item-num\">9.7.4.3&nbsp;&nbsp;</span>holt winters method with additive trend and seasonality</a></span></li><li><span><a href=\"#ARIMA-family-pre-requisites\" data-toc-modified-id=\"ARIMA-family-pre-requisites-9.7.4.4\"><span class=\"toc-item-num\">9.7.4.4&nbsp;&nbsp;</span>ARIMA family pre-requisites</a></span></li><li><span><a href=\"#Arima-model\" data-toc-modified-id=\"Arima-model-9.7.4.5\"><span class=\"toc-item-num\">9.7.4.5&nbsp;&nbsp;</span>Arima model</a></span></li><li><span><a href=\"#VAR-Model-pre-requisites\" data-toc-modified-id=\"VAR-Model-pre-requisites-9.7.4.6\"><span class=\"toc-item-num\">9.7.4.6&nbsp;&nbsp;</span>VAR Model pre-requisites</a></span></li><li><span><a href=\"#Varma-model\" data-toc-modified-id=\"Varma-model-9.7.4.7\"><span class=\"toc-item-num\">9.7.4.7&nbsp;&nbsp;</span>Varma model</a></span></li><li><span><a href=\"#Varmax-model\" data-toc-modified-id=\"Varmax-model-9.7.4.8\"><span class=\"toc-item-num\">9.7.4.8&nbsp;&nbsp;</span>Varmax model</a></span></li><li><span><a href=\"#Impulse-response-function\" data-toc-modified-id=\"Impulse-response-function-9.7.4.9\"><span class=\"toc-item-num\">9.7.4.9&nbsp;&nbsp;</span>Impulse response function</a></span></li><li><span><a href=\"#Varmax-with-'open'-variable\" data-toc-modified-id=\"Varmax-with-'open'-variable-9.7.4.10\"><span class=\"toc-item-num\">9.7.4.10&nbsp;&nbsp;</span>Varmax with 'open' variable</a></span></li><li><span><a href=\"#Impulse-response-function\" data-toc-modified-id=\"Impulse-response-function-9.7.4.11\"><span class=\"toc-item-num\">9.7.4.11&nbsp;&nbsp;</span>Impulse response function</a></span></li><li><span><a href=\"#Final-varmax_model\" data-toc-modified-id=\"Final-varmax_model-9.7.4.12\"><span class=\"toc-item-num\">9.7.4.12&nbsp;&nbsp;</span>Final varmax_model</a></span></li><li><span><a href=\"#Impulse-response-function\" data-toc-modified-id=\"Impulse-response-function-9.7.4.13\"><span class=\"toc-item-num\">9.7.4.13&nbsp;&nbsp;</span>Impulse response function</a></span></li></ul></li><li><span><a href=\"#Summary\" data-toc-modified-id=\"Summary-9.7.5\"><span class=\"toc-item-num\">9.7.5&nbsp;&nbsp;</span>Summary</a></span></li></ul></li><li><span><a href=\"#Store-31\" data-toc-modified-id=\"Store-31-9.8\"><span class=\"toc-item-num\">9.8&nbsp;&nbsp;</span>Store 31</a></span><ul class=\"toc-item\"><li><span><a href=\"#Visualisation\" data-toc-modified-id=\"Visualisation-9.8.1\"><span class=\"toc-item-num\">9.8.1&nbsp;&nbsp;</span>Visualisation</a></span></li><li><span><a href=\"#Time-series-decomposition\" data-toc-modified-id=\"Time-series-decomposition-9.8.2\"><span class=\"toc-item-num\">9.8.2&nbsp;&nbsp;</span>Time series decomposition</a></span></li><li><span><a href=\"#Splitting-data-into-test-and-train\" data-toc-modified-id=\"Splitting-data-into-test-and-train-9.8.3\"><span class=\"toc-item-num\">9.8.3&nbsp;&nbsp;</span>Splitting data into test and train</a></span></li><li><span><a href=\"#Modelling\" data-toc-modified-id=\"Modelling-9.8.4\"><span class=\"toc-item-num\">9.8.4&nbsp;&nbsp;</span>Modelling</a></span><ul class=\"toc-item\"><li><span><a href=\"#Naive-method\" data-toc-modified-id=\"Naive-method-9.8.4.1\"><span class=\"toc-item-num\">9.8.4.1&nbsp;&nbsp;</span>Naive method</a></span></li><li><span><a href=\"#Simple-moving-average-method\" data-toc-modified-id=\"Simple-moving-average-method-9.8.4.2\"><span class=\"toc-item-num\">9.8.4.2&nbsp;&nbsp;</span>Simple moving average method</a></span></li><li><span><a href=\"#holt-winters-method-with-additive-trend-and-seasonality\" data-toc-modified-id=\"holt-winters-method-with-additive-trend-and-seasonality-9.8.4.3\"><span class=\"toc-item-num\">9.8.4.3&nbsp;&nbsp;</span>holt winters method with additive trend and seasonality</a></span></li><li><span><a href=\"#ARIMA-family-pre-requisites\" data-toc-modified-id=\"ARIMA-family-pre-requisites-9.8.4.4\"><span class=\"toc-item-num\">9.8.4.4&nbsp;&nbsp;</span>ARIMA family pre-requisites</a></span></li><li><span><a href=\"#Arima-model\" data-toc-modified-id=\"Arima-model-9.8.4.5\"><span class=\"toc-item-num\">9.8.4.5&nbsp;&nbsp;</span>Arima model</a></span></li><li><span><a href=\"#VAR-Model-pre-requisites\" data-toc-modified-id=\"VAR-Model-pre-requisites-9.8.4.6\"><span class=\"toc-item-num\">9.8.4.6&nbsp;&nbsp;</span>VAR Model pre-requisites</a></span></li><li><span><a href=\"#Varma-model\" data-toc-modified-id=\"Varma-model-9.8.4.7\"><span class=\"toc-item-num\">9.8.4.7&nbsp;&nbsp;</span>Varma model</a></span></li><li><span><a href=\"#Varmax-model\" data-toc-modified-id=\"Varmax-model-9.8.4.8\"><span class=\"toc-item-num\">9.8.4.8&nbsp;&nbsp;</span>Varmax model</a></span></li><li><span><a href=\"#Impulse-response-function\" data-toc-modified-id=\"Impulse-response-function-9.8.4.9\"><span class=\"toc-item-num\">9.8.4.9&nbsp;&nbsp;</span>Impulse response function</a></span></li><li><span><a href=\"#Varmax-with-'open'-variable\" data-toc-modified-id=\"Varmax-with-'open'-variable-9.8.4.10\"><span class=\"toc-item-num\">9.8.4.10&nbsp;&nbsp;</span>Varmax with 'open' variable</a></span></li><li><span><a href=\"#Impulse-response-function\" data-toc-modified-id=\"Impulse-response-function-9.8.4.11\"><span class=\"toc-item-num\">9.8.4.11&nbsp;&nbsp;</span>Impulse response function</a></span></li><li><span><a href=\"#Final-varmax_model\" data-toc-modified-id=\"Final-varmax_model-9.8.4.12\"><span class=\"toc-item-num\">9.8.4.12&nbsp;&nbsp;</span>Final varmax_model</a></span></li><li><span><a href=\"#Impulse-response-function\" data-toc-modified-id=\"Impulse-response-function-9.8.4.13\"><span class=\"toc-item-num\">9.8.4.13&nbsp;&nbsp;</span>Impulse response function</a></span></li></ul></li><li><span><a href=\"#Summary\" data-toc-modified-id=\"Summary-9.8.5\"><span class=\"toc-item-num\">9.8.5&nbsp;&nbsp;</span>Summary</a></span></li></ul></li><li><span><a href=\"#Store-46\" data-toc-modified-id=\"Store-46-9.9\"><span class=\"toc-item-num\">9.9&nbsp;&nbsp;</span>Store 46</a></span><ul class=\"toc-item\"><li><span><a href=\"#Visualisation\" data-toc-modified-id=\"Visualisation-9.9.1\"><span class=\"toc-item-num\">9.9.1&nbsp;&nbsp;</span>Visualisation</a></span></li><li><span><a href=\"#Time-series-decomposition\" data-toc-modified-id=\"Time-series-decomposition-9.9.2\"><span class=\"toc-item-num\">9.9.2&nbsp;&nbsp;</span>Time series decomposition</a></span></li><li><span><a href=\"#Splitting-data-into-test-and-train\" data-toc-modified-id=\"Splitting-data-into-test-and-train-9.9.3\"><span class=\"toc-item-num\">9.9.3&nbsp;&nbsp;</span>Splitting data into test and train</a></span></li><li><span><a href=\"#Modelling\" data-toc-modified-id=\"Modelling-9.9.4\"><span class=\"toc-item-num\">9.9.4&nbsp;&nbsp;</span>Modelling</a></span><ul class=\"toc-item\"><li><span><a href=\"#Naive-method\" data-toc-modified-id=\"Naive-method-9.9.4.1\"><span class=\"toc-item-num\">9.9.4.1&nbsp;&nbsp;</span>Naive method</a></span></li><li><span><a href=\"#Simple-moving-average-method\" data-toc-modified-id=\"Simple-moving-average-method-9.9.4.2\"><span class=\"toc-item-num\">9.9.4.2&nbsp;&nbsp;</span>Simple moving average method</a></span></li><li><span><a href=\"#holt-winters-method-with-additive-trend-and-seasonality\" data-toc-modified-id=\"holt-winters-method-with-additive-trend-and-seasonality-9.9.4.3\"><span class=\"toc-item-num\">9.9.4.3&nbsp;&nbsp;</span>holt winters method with additive trend and seasonality</a></span></li><li><span><a href=\"#ARIMA-family-pre-requisites\" data-toc-modified-id=\"ARIMA-family-pre-requisites-9.9.4.4\"><span class=\"toc-item-num\">9.9.4.4&nbsp;&nbsp;</span>ARIMA family pre-requisites</a></span></li><li><span><a href=\"#Arima-model\" data-toc-modified-id=\"Arima-model-9.9.4.5\"><span class=\"toc-item-num\">9.9.4.5&nbsp;&nbsp;</span>Arima model</a></span></li><li><span><a href=\"#VAR-Model-pre-requisites\" data-toc-modified-id=\"VAR-Model-pre-requisites-9.9.4.6\"><span class=\"toc-item-num\">9.9.4.6&nbsp;&nbsp;</span>VAR Model pre-requisites</a></span></li><li><span><a href=\"#Varma-model\" data-toc-modified-id=\"Varma-model-9.9.4.7\"><span class=\"toc-item-num\">9.9.4.7&nbsp;&nbsp;</span>Varma model</a></span></li><li><span><a href=\"#Varmax-model\" data-toc-modified-id=\"Varmax-model-9.9.4.8\"><span class=\"toc-item-num\">9.9.4.8&nbsp;&nbsp;</span>Varmax model</a></span></li><li><span><a href=\"#Impulse-response-function\" data-toc-modified-id=\"Impulse-response-function-9.9.4.9\"><span class=\"toc-item-num\">9.9.4.9&nbsp;&nbsp;</span>Impulse response function</a></span></li><li><span><a href=\"#Varmax-with-'open'-variable\" data-toc-modified-id=\"Varmax-with-'open'-variable-9.9.4.10\"><span class=\"toc-item-num\">9.9.4.10&nbsp;&nbsp;</span>Varmax with 'open' variable</a></span></li><li><span><a href=\"#Impulse-response-function\" data-toc-modified-id=\"Impulse-response-function-9.9.4.11\"><span class=\"toc-item-num\">9.9.4.11&nbsp;&nbsp;</span>Impulse response function</a></span></li><li><span><a href=\"#Final-varmax_model\" data-toc-modified-id=\"Final-varmax_model-9.9.4.12\"><span class=\"toc-item-num\">9.9.4.12&nbsp;&nbsp;</span>Final varmax_model</a></span></li><li><span><a href=\"#Impulse-response-function\" data-toc-modified-id=\"Impulse-response-function-9.9.4.13\"><span class=\"toc-item-num\">9.9.4.13&nbsp;&nbsp;</span>Impulse response function</a></span></li></ul></li><li><span><a href=\"#Summary\" data-toc-modified-id=\"Summary-9.9.5\"><span class=\"toc-item-num\">9.9.5&nbsp;&nbsp;</span>Summary</a></span></li></ul></li></ul></li></ul></div>"
   ]
  },
  {
   "cell_type": "markdown",
   "id": "ee9900ec",
   "metadata": {},
   "source": [
    "# Problem Statement\n",
    "\n",
    "Rossmann is a European drug distributor which operates over 3,000 drug stores across seven European countries. Since a lot of drugs come with a short shelf life, that is, they do not have a long expiry date, it becomes imperative for Rossmann to accurately forecast sales at their individual stores. Currently, the forecasting is taken care of by the store managers who are tasked with forecasting daily sales for the next six weeks. \n",
    "\n",
    " \n",
    "\n",
    "As expected, store sales are influenced by many factors, including promotional campaigns, competition, state holidays, seasonality, and locality.\n",
    "\n",
    " \n",
    "\n",
    "With thousands of individual managers predicting sales based on their unique circumstances and intuitions, the accuracy of the forecasts is quite varied. To overcome this problem, the company has hired you as a data scientist to work on the forecasting problem. As part of your job role, you are tasked with building a forecasting model to forecast the daily sales for the next six weeks. To help you with the same, you have been provided with historical sales data for 1,115 Rossmann stores.\n",
    "\n",
    "\n",
    "Since the company is just embarking on this project, the scope has been kept to nine key stores across Europe. The stores are key for the company keeping in mind the revenue and historical prestige associated with them. These stores are numbered - 1,3,8,9,13,25,29,31 and 46."
   ]
  },
  {
   "cell_type": "markdown",
   "id": "5e3e08fe",
   "metadata": {},
   "source": [
    "# Importing important packages"
   ]
  },
  {
   "cell_type": "code",
   "execution_count": null,
   "id": "8082520c",
   "metadata": {},
   "outputs": [],
   "source": [
    "# Importing necessary packages\n",
    "import pandas as pd \n",
    "import numpy as np\n",
    "import matplotlib.pyplot as plt \n",
    "import seaborn as sns\n",
    "import warnings \n",
    "warnings.filterwarnings(\"ignore\")\n",
    "\n",
    "\n",
    "\n",
    "import missingno as msno\n",
    "import plotly.express as px\n",
    "from plotly.subplots import make_subplots\n",
    "\n",
    "from sklearn.preprocessing import StandardScaler\n",
    "from sklearn.metrics import mean_squared_error,mean_absolute_error\n",
    "\n",
    "\n",
    "\n",
    "from pylab import rcParams\n",
    "import statsmodels.api as sm\n",
    "from statsmodels.tsa.holtwinters import ExponentialSmoothing\n",
    "from statsmodels.tsa.stattools import adfuller\n",
    "from statsmodels.graphics.tsaplots import plot_acf\n",
    "from statsmodels.graphics.tsaplots import plot_pacf\n",
    "from statsmodels.tsa.statespace.sarimax import SARIMAX\n",
    "import statsmodels.api as sm\n",
    "\n",
    "\n"
   ]
  },
  {
   "cell_type": "markdown",
   "id": "2e582921",
   "metadata": {},
   "source": [
    "# Importing data"
   ]
  },
  {
   "cell_type": "code",
   "execution_count": null,
   "id": "0601b69f",
   "metadata": {},
   "outputs": [],
   "source": [
    "\n",
    "# importing data \n",
    "store=pd.read_csv('Dataset/store.csv')\n",
    "sales=pd.read_csv('Dataset/train.csv')\n"
   ]
  },
  {
   "cell_type": "markdown",
   "id": "ca9abf6b",
   "metadata": {},
   "source": [
    "# Exploring data"
   ]
  },
  {
   "cell_type": "markdown",
   "id": "b79f2146",
   "metadata": {},
   "source": [
    "## sales dataset"
   ]
  },
  {
   "cell_type": "code",
   "execution_count": null,
   "id": "66888e95",
   "metadata": {},
   "outputs": [],
   "source": [
    "sales.head()"
   ]
  },
  {
   "cell_type": "code",
   "execution_count": null,
   "id": "fc61c99c",
   "metadata": {},
   "outputs": [],
   "source": [
    "# Using info function to understand the data type \n",
    "sales.info()"
   ]
  },
  {
   "cell_type": "code",
   "execution_count": null,
   "id": "ab98bb2c",
   "metadata": {},
   "outputs": [],
   "source": [
    "print('Number of records in sales: ', sales.shape[0])\n",
    "print()\n",
    "print('Number of features in sales: ',sales.shape[1])\n",
    "\n"
   ]
  },
  {
   "cell_type": "markdown",
   "id": "b633bbfc",
   "metadata": {},
   "source": [
    "> Observation \n",
    "\n",
    "1. There are a total of 1017209 records with 9 columns \n",
    "2. Of the columns 7 are integers and 2 are text type\n"
   ]
  },
  {
   "cell_type": "code",
   "execution_count": null,
   "id": "2eafdada",
   "metadata": {},
   "outputs": [],
   "source": [
    "sales.describe()"
   ]
  },
  {
   "cell_type": "markdown",
   "id": "0295b80d",
   "metadata": {},
   "source": [
    "> Observation \n",
    "\n",
    "The sales, customers data appears to be highly skewed"
   ]
  },
  {
   "cell_type": "code",
   "execution_count": null,
   "id": "8d91d2b9",
   "metadata": {},
   "outputs": [],
   "source": [
    "sales[sales.duplicated()]"
   ]
  },
  {
   "cell_type": "markdown",
   "id": "ec6b35de",
   "metadata": {},
   "source": [
    "> Observation \n",
    "\n",
    "There arae no duplicates"
   ]
  },
  {
   "cell_type": "code",
   "execution_count": null,
   "id": "26b1f8d7",
   "metadata": {},
   "outputs": [],
   "source": [
    "sales.nunique()"
   ]
  },
  {
   "cell_type": "markdown",
   "id": "b33d6422",
   "metadata": {},
   "source": [
    "### Check for missing values"
   ]
  },
  {
   "cell_type": "code",
   "execution_count": null,
   "id": "7bf182dc",
   "metadata": {},
   "outputs": [],
   "source": [
    "#check for missing data in percentage\n",
    "100*sales.isna().sum()/len(sales)"
   ]
  },
  {
   "cell_type": "markdown",
   "id": "cf06350b",
   "metadata": {},
   "source": [
    "> Observation \n",
    "\n",
    "There are no duplicated values in sales"
   ]
  },
  {
   "cell_type": "markdown",
   "id": "2f5bec54",
   "metadata": {},
   "source": [
    "### Converting data into suitable format"
   ]
  },
  {
   "cell_type": "code",
   "execution_count": null,
   "id": "43792063",
   "metadata": {},
   "outputs": [],
   "source": [
    "sales[\"Date\"]=pd.to_datetime(sales[\"Date\"])"
   ]
  },
  {
   "cell_type": "code",
   "execution_count": null,
   "id": "dcadd8af",
   "metadata": {},
   "outputs": [],
   "source": [
    "sales[\"Store\"]=sales[\"Store\"].astype('str')"
   ]
  },
  {
   "cell_type": "markdown",
   "id": "f4a85ca2",
   "metadata": {},
   "source": [
    "### Check for sales on closed days"
   ]
  },
  {
   "cell_type": "code",
   "execution_count": null,
   "id": "5f6b06a2",
   "metadata": {},
   "outputs": [],
   "source": [
    "sales[(sales.Open==0) & (sales.Sales>0)]"
   ]
  },
  {
   "cell_type": "markdown",
   "id": "c507a8dc",
   "metadata": {},
   "source": [
    "> Observation\n",
    "\n",
    "We checked If there have been erroneous data where store is closed and yet sales have been recorded and found no erroneous data. "
   ]
  },
  {
   "cell_type": "markdown",
   "id": "06a0a309",
   "metadata": {},
   "source": [
    "## Explore store dataset"
   ]
  },
  {
   "cell_type": "code",
   "execution_count": null,
   "id": "dd5769eb",
   "metadata": {},
   "outputs": [],
   "source": [
    "store.head()"
   ]
  },
  {
   "cell_type": "code",
   "execution_count": null,
   "id": "4f3a9c6a",
   "metadata": {},
   "outputs": [],
   "source": [
    "print('Number of records in store: ', store.shape[0])\n",
    "print()\n",
    "print('Number of features in store: ',store.shape[1])\n",
    "\n"
   ]
  },
  {
   "cell_type": "code",
   "execution_count": null,
   "id": "5ed4789e",
   "metadata": {},
   "outputs": [],
   "source": [
    "store.info()"
   ]
  },
  {
   "cell_type": "markdown",
   "id": "78a0ad75",
   "metadata": {},
   "source": [
    "> Observation \n",
    "\n",
    "1. There are a total of 1115 records with 10 columns \n",
    "2. Of the columns, 5 are float, 2 are integers and 3 are text type\n"
   ]
  },
  {
   "cell_type": "code",
   "execution_count": null,
   "id": "8cf02a34",
   "metadata": {},
   "outputs": [],
   "source": [
    "store.nunique()"
   ]
  },
  {
   "cell_type": "code",
   "execution_count": null,
   "id": "949a6f52",
   "metadata": {},
   "outputs": [],
   "source": [
    "# Looking at numerical columns\n",
    "store.describe()"
   ]
  },
  {
   "cell_type": "code",
   "execution_count": null,
   "id": "04417a45",
   "metadata": {},
   "outputs": [],
   "source": [
    "# Looking at object columns\n",
    "store.describe(include=['O'])"
   ]
  },
  {
   "cell_type": "code",
   "execution_count": null,
   "id": "544abad7",
   "metadata": {},
   "outputs": [],
   "source": [
    "# checking for duplicate values \n",
    "store[store.duplicated()]"
   ]
  },
  {
   "cell_type": "markdown",
   "id": "92e97c71",
   "metadata": {},
   "source": [
    "> Observation \n",
    "\n",
    "There are no duplicates"
   ]
  },
  {
   "cell_type": "code",
   "execution_count": null,
   "id": "d41a0d62",
   "metadata": {},
   "outputs": [],
   "source": [
    "# Converting store id from int to string as it is categorical in nature\n",
    "store[\"Store\"]=store[\"Store\"].astype('str')"
   ]
  },
  {
   "cell_type": "code",
   "execution_count": null,
   "id": "4b3f2a14",
   "metadata": {},
   "outputs": [],
   "source": [
    "#check for missing data \n",
    "store.isna().sum()"
   ]
  },
  {
   "cell_type": "code",
   "execution_count": null,
   "id": "aaec5d11",
   "metadata": {},
   "outputs": [],
   "source": [
    "#check for missing data in percentage\n",
    "100*store.isna().sum()/len(store)"
   ]
  },
  {
   "cell_type": "code",
   "execution_count": null,
   "id": "6ead6f3c",
   "metadata": {},
   "outputs": [],
   "source": [
    "# dive into missing values for the column, CompetitionDistance\n",
    "stores_with_missing_CompetitionDistance=store[store.CompetitionDistance.isna()]['Store'].unique()"
   ]
  },
  {
   "cell_type": "code",
   "execution_count": null,
   "id": "2b0afc16",
   "metadata": {},
   "outputs": [],
   "source": [
    "100*store[(store['Store'].isin(stores_with_missing_CompetitionDistance))].isna().sum()/len(store[store['Store'].isin(stores_with_missing_CompetitionDistance)])"
   ]
  },
  {
   "cell_type": "markdown",
   "id": "e93c0d7e",
   "metadata": {},
   "source": [
    "> Observation\n",
    " We find that stores 291, 622, 879 have missing values for competition and also a very high missing data for promo2. "
   ]
  },
  {
   "cell_type": "code",
   "execution_count": null,
   "id": "3accd569",
   "metadata": {},
   "outputs": [],
   "source": [
    "store.nunique()"
   ]
  },
  {
   "cell_type": "code",
   "execution_count": null,
   "id": "1204542b",
   "metadata": {},
   "outputs": [],
   "source": [
    "store.isna().sum()*100/len(store)"
   ]
  },
  {
   "cell_type": "markdown",
   "id": "4f4fa864",
   "metadata": {},
   "source": [
    "> Observation \n",
    "\n",
    "We Observe that the data related to Promo2 is missing in close to 50 % of the data ( considering all stores) and missing in 69% of the records when we only consider the inmportant 9 stores. \n",
    "\n",
    "Hence, we drop these columns."
   ]
  },
  {
   "cell_type": "code",
   "execution_count": null,
   "id": "95d605db",
   "metadata": {},
   "outputs": [],
   "source": [
    "store.drop(['Promo2SinceWeek','Promo2SinceYear','PromoInterval'],axis=1,inplace=True)\n",
    "store.head()"
   ]
  },
  {
   "cell_type": "markdown",
   "id": "bfa03b00",
   "metadata": {},
   "source": [
    "## Deriving new features\n"
   ]
  },
  {
   "cell_type": "markdown",
   "id": "8a26b2e6",
   "metadata": {},
   "source": [
    "We create a new column, \"competition_open_since_months\" which reflects the number of months the competition store has been open for"
   ]
  },
  {
   "cell_type": "code",
   "execution_count": null,
   "id": "3518415a",
   "metadata": {},
   "outputs": [],
   "source": [
    "store['competition_open_since_months']=(store['CompetitionOpenSinceYear'].max()-store['CompetitionOpenSinceYear'])*12+((store['CompetitionOpenSinceMonth']))"
   ]
  },
  {
   "cell_type": "code",
   "execution_count": null,
   "id": "c412396c",
   "metadata": {},
   "outputs": [],
   "source": [
    "store.isna().sum()"
   ]
  },
  {
   "cell_type": "code",
   "execution_count": null,
   "id": "7503f6d8",
   "metadata": {},
   "outputs": [],
   "source": [
    "plt.figure(figsize=(20,10))\n",
    "sns.distplot(x=store['competition_open_since_months'])\n",
    "plt.axvline(store['competition_open_since_months'].mean(),c='black')\n",
    "plt.axvline(store['competition_open_since_months'].median(),c='red')\n",
    "plt.show()\n",
    "\n",
    "from scipy import stats\n",
    "print(\"Skewness\",store['competition_open_since_months'].skew())\n",
    "print(\"Kurtosis\",store['competition_open_since_months'].kurt())"
   ]
  },
  {
   "cell_type": "markdown",
   "id": "5fba8b59",
   "metadata": {},
   "source": [
    "> Observation \n",
    "\n",
    "It can be seen that the variable competition_open_since_months area is positively skewed. Hence we impute the median instead of mean"
   ]
  },
  {
   "cell_type": "code",
   "execution_count": null,
   "id": "3100f092",
   "metadata": {},
   "outputs": [],
   "source": [
    "store['competition_open_since_months'].fillna(store['competition_open_since_months'].median(),inplace=True)"
   ]
  },
  {
   "cell_type": "code",
   "execution_count": null,
   "id": "4ce0738a",
   "metadata": {},
   "outputs": [],
   "source": [
    "# we drop the variables 'CompetitionOpenSinceMonth','CompetitionOpenSinceYear' as \n",
    "#these are already represented by the new variable competition_open_since_months\n",
    "store.drop(['CompetitionOpenSinceMonth','CompetitionOpenSinceYear'],axis=1,inplace=True)"
   ]
  },
  {
   "cell_type": "code",
   "execution_count": null,
   "id": "46d02d2e",
   "metadata": {},
   "outputs": [],
   "source": [
    "# We derive another variable ASPC -> average sales per customer\n",
    "sales['ASPC']=sales['Sales']/sales['Customers']\n",
    "sales['ASPC']"
   ]
  },
  {
   "cell_type": "code",
   "execution_count": null,
   "id": "18c18d55",
   "metadata": {},
   "outputs": [],
   "source": [
    "# NaN is present in the ASPC column wherever the customers is 0. Which also implies 0 sales, hence we impute 0\n",
    "sales['ASPC'].fillna(0,inplace=True)"
   ]
  },
  {
   "cell_type": "code",
   "execution_count": null,
   "id": "dc7be424",
   "metadata": {
    "scrolled": true
   },
   "outputs": [],
   "source": [
    "store.isna().sum()"
   ]
  },
  {
   "cell_type": "markdown",
   "id": "6876fd05",
   "metadata": {},
   "source": [
    "> Observation\n",
    "\n",
    "Now that we have eliminated all the missing values in the two data sets. We merge them on Store_id"
   ]
  },
  {
   "cell_type": "code",
   "execution_count": null,
   "id": "977bfc94",
   "metadata": {},
   "outputs": [],
   "source": [
    "data=pd.merge(sales,store, how='inner',on='Store')"
   ]
  },
  {
   "cell_type": "code",
   "execution_count": null,
   "id": "8832ac50",
   "metadata": {},
   "outputs": [],
   "source": [
    "# checking if new merged data has mising values\n",
    "data.isna().sum()"
   ]
  },
  {
   "cell_type": "code",
   "execution_count": null,
   "id": "117ac92e",
   "metadata": {},
   "outputs": [],
   "source": [
    "data.head()"
   ]
  },
  {
   "cell_type": "code",
   "execution_count": null,
   "id": "4f4e9073",
   "metadata": {},
   "outputs": [],
   "source": [
    "data.info()"
   ]
  },
  {
   "cell_type": "markdown",
   "id": "91ddb6c5",
   "metadata": {},
   "source": [
    "# EDA"
   ]
  },
  {
   "cell_type": "markdown",
   "id": "ca81109c",
   "metadata": {},
   "source": [
    "## Cleaning data \n",
    "In order to make EDA more readable, we clean the data and rename columns and values to reflect the true value in strings rather than in boolean. Like 1 is replaced with yes and 0 with no"
   ]
  },
  {
   "cell_type": "code",
   "execution_count": null,
   "id": "d2ae5b0e",
   "metadata": {},
   "outputs": [],
   "source": [
    "# Making a copy of the data before changing applying changes on them \n",
    "eda_sales=sales.copy()\n",
    "eda_store=store.copy()"
   ]
  },
  {
   "cell_type": "code",
   "execution_count": null,
   "id": "bd12bef5",
   "metadata": {},
   "outputs": [],
   "source": [
    "def applyweek(day_number):\n",
    "    if day_number==1:\n",
    "        return 'Monday'\n",
    "    elif day_number==2:\n",
    "        return 'Tuesday'\n",
    "    elif day_number==3:\n",
    "        return 'Wednesday'\n",
    "    elif day_number==4:\n",
    "        return 'Thursday'\n",
    "    elif day_number==5:\n",
    "        return 'Friday'\n",
    "    elif day_number==6:\n",
    "        return 'Saturday'\n",
    "    elif day_number==7:\n",
    "        return 'Sunday'\n",
    "    else :\n",
    "        return 'other'\n",
    "            "
   ]
  },
  {
   "cell_type": "code",
   "execution_count": null,
   "id": "7e05cca3",
   "metadata": {},
   "outputs": [],
   "source": [
    "# Converting day of week into readable form\n",
    "eda_sales['DayOfWeek']=eda_sales['DayOfWeek'].apply(applyweek)"
   ]
  },
  {
   "cell_type": "code",
   "execution_count": null,
   "id": "02384805",
   "metadata": {},
   "outputs": [],
   "source": [
    "def apply_assortment(assortment_level):\n",
    "    if assortment_level=='a':\n",
    "        return 'basic'\n",
    "    elif assortment_level=='b':\n",
    "        return 'extra'\n",
    "    elif assortment_level=='c':\n",
    "        return 'extended'\n",
    "    else :\n",
    "        return 'other'\n",
    "            "
   ]
  },
  {
   "cell_type": "code",
   "execution_count": null,
   "id": "1c7effa6",
   "metadata": {},
   "outputs": [],
   "source": [
    "# Converting Assortment into readable form\n",
    "eda_store['Assortment']=eda_store['Assortment'].apply(apply_assortment)"
   ]
  },
  {
   "cell_type": "code",
   "execution_count": null,
   "id": "f5af8fd5",
   "metadata": {},
   "outputs": [],
   "source": [
    "def apply_StateHoliday(StateHoliday_number):\n",
    "    if StateHoliday_number=='a':\n",
    "        return 'public holiday'\n",
    "    elif StateHoliday_number=='b':\n",
    "        return 'Easter holiday'\n",
    "    elif StateHoliday_number=='c':\n",
    "        return 'Christmas'\n",
    "    else :\n",
    "        return 'None'\n",
    "            "
   ]
  },
  {
   "cell_type": "code",
   "execution_count": null,
   "id": "2e9ffe37",
   "metadata": {},
   "outputs": [],
   "source": [
    "# Converting State holiday into readable form\n",
    "eda_sales['StateHoliday']=eda_sales['StateHoliday'].apply(apply_StateHoliday)"
   ]
  },
  {
   "cell_type": "code",
   "execution_count": null,
   "id": "2deb5fc5",
   "metadata": {},
   "outputs": [],
   "source": [
    "eda_store['Promo2']=eda_store['Promo2'].apply(lambda x: 'No' if x==0 else 'Yes')\n",
    "eda_sales['Promo']=eda_sales['Promo'].apply(lambda x: 'No' if x==0 else 'Yes')\n",
    "eda_sales['Open']=eda_sales['Open'].apply(lambda x: 'Closed' if x==0 else 'Open')\n",
    "eda_sales['SchoolHoliday']=eda_sales['SchoolHoliday'].apply(lambda x: 'Closed' if x==0 else 'Open')"
   ]
  },
  {
   "cell_type": "markdown",
   "id": "3fb829d1",
   "metadata": {},
   "source": [
    "## Univariate analysis"
   ]
  },
  {
   "cell_type": "markdown",
   "id": "c7013c12",
   "metadata": {},
   "source": [
    "### Store data"
   ]
  },
  {
   "cell_type": "code",
   "execution_count": null,
   "id": "d42a99da",
   "metadata": {},
   "outputs": [],
   "source": [
    "plt.figure(figsize=(15,10))\n",
    "plt.subplot(2,2,1)\n",
    "sns.distplot(x=store['CompetitionDistance']/1e3)\n",
    "plt.xlabel('Distince in Km',fontsize=20)\n",
    "plt.axvline(store['CompetitionDistance'].median()/1e3,c='red')\n",
    "plt.title('Distribution of {} '.format('CompetitionDistance'),fontsize=20)\n",
    "\n",
    "\n",
    "plt.subplot(2,2,2)\n",
    "sns.boxplot(x=store['CompetitionDistance']/1e3)\n",
    "plt.xlabel('Distance in Km',fontsize=20)\n",
    "plt.title('Distribution of {}'.format('CompetitionDistance'),fontsize=20)\n",
    "plt.show()\n",
    "print(\"Mean distance(Km)\",store['CompetitionDistance'].mean()/1e3)\n",
    "print(\"Median distance(Km)\",store['CompetitionDistance'].median()/1e3)\n",
    "print('='*116)"
   ]
  },
  {
   "cell_type": "markdown",
   "id": "1afbb748",
   "metadata": {},
   "source": [
    "> Observation \n",
    "We observe that the variable CompetitionDistance is highly skewed. The median distanc of a store from it's neigbours is 2.3 Km"
   ]
  },
  {
   "cell_type": "code",
   "execution_count": null,
   "id": "f5fc3830",
   "metadata": {},
   "outputs": [],
   "source": [
    "plt.figure(figsize=(15,10))\n",
    "plt.subplot(2,2,1)\n",
    "sns.distplot(x=store['competition_open_since_months'])\n",
    "plt.xlabel('Duration in months',fontsize=20)\n",
    "plt.axvline(store['competition_open_since_months'].median(),c='red')\n",
    "plt.title('Distribution of {} '.format('competition_open_since_months'),fontsize=20)\n",
    "\n",
    "\n",
    "plt.subplot(2,2,2)\n",
    "sns.boxplot(x=store['competition_open_since_months'])\n",
    "plt.xlabel('Distance in month',fontsize=20)\n",
    "plt.title('Distribution of {}'.format('competition_open_since_months'),fontsize=20)\n",
    "plt.show()\n",
    "print(\"Mean duration(months)\",store['competition_open_since_months'].mean())\n",
    "print(\"Median duration(months)\",store['competition_open_since_months'].median())\n",
    "print('='*116)"
   ]
  },
  {
   "cell_type": "markdown",
   "id": "dfd5ece9",
   "metadata": {},
   "source": [
    "> Observation \n",
    "We observe that the variable CompetitionDistance is highly skewed. The median distanc of a store from it's neigbours is 2.3 Km"
   ]
  },
  {
   "cell_type": "code",
   "execution_count": null,
   "id": "dbe8606c",
   "metadata": {},
   "outputs": [],
   "source": [
    "\n",
    "store_cat_cols=['StoreType', 'Assortment', 'Promo2']\n",
    "plt.figure(figsize=(20,20))\n",
    "c=1\n",
    "for col in store_cat_cols:\n",
    "    plt.subplot(3,2,c)\n",
    "    eda_store[col].value_counts().plot(kind='bar')\n",
    "    plt.title('Distribution of {}'. format(col))\n",
    "    c=c+1"
   ]
  },
  {
   "cell_type": "markdown",
   "id": "97a75353",
   "metadata": {},
   "source": [
    "> observation\n",
    "\n",
    "1. StoreType 'a' is the most common while 'b' are very few.\n",
    "2. Basic stores and extended store make up the majority while extra type of stores are very few. \n",
    "3. Participation in Promo2 is quite split, with almost 50-50 distribution  "
   ]
  },
  {
   "cell_type": "markdown",
   "id": "f49e0e42",
   "metadata": {},
   "source": [
    "### Sales data"
   ]
  },
  {
   "cell_type": "code",
   "execution_count": null,
   "id": "b40f5cf6",
   "metadata": {},
   "outputs": [],
   "source": [
    "sales_by_store=sales.groupby(by='Store',as_index=False).sum()\n",
    "sales_by_store"
   ]
  },
  {
   "cell_type": "code",
   "execution_count": null,
   "id": "37291e50",
   "metadata": {},
   "outputs": [],
   "source": [
    "plt.figure(figsize=(15,10))\n",
    "plt.subplot(2,2,1)\n",
    "sns.distplot(x=sales_by_store['Sales']/1e6)\n",
    "plt.xlabel('Sales in Millions',fontsize=20)\n",
    "plt.axvline(sales_by_store['Sales'].median()/1e6,c='red')\n",
    "plt.title('Distribution of {} in Millions'.format('Sales'),fontsize=20)\n",
    "\n",
    "\n",
    "plt.subplot(2,2,2)\n",
    "sns.boxplot(x=sales_by_store['Sales']/1e6)\n",
    "plt.xlabel('Sales in millions',fontsize=20)\n",
    "plt.title('Distribution of {}'.format('Sales'),fontsize=20)\n",
    "plt.show()\n",
    "print(\"Skewness\",sales_by_store['Sales'].skew())\n",
    "print(\"Kurtosis\",sales_by_store['Sales'].kurt())\n",
    "print('='*116)"
   ]
  },
  {
   "cell_type": "markdown",
   "id": "8cfc6cc1",
   "metadata": {},
   "source": [
    "> Observation \n",
    "\n",
    "We can clearly observe that sales is hihly skewed and a majority of the stores make bewteen 2.5 to 7.5 million sales while the larget makes close to 20 Million."
   ]
  },
  {
   "cell_type": "code",
   "execution_count": null,
   "id": "b74d89d5",
   "metadata": {},
   "outputs": [],
   "source": [
    "plt.figure(figsize=(15,10))\n",
    "plt.subplot(2,2,1)\n",
    "sns.distplot(x=sales_by_store['ASPC'])\n",
    "plt.xlabel('ASPC ',fontsize=20)\n",
    "plt.axvline(sales_by_store['ASPC'].median(),c='red')\n",
    "plt.title('Distribution of {}'.format('ASPC'),fontsize=20)\n",
    "\n",
    "\n",
    "plt.subplot(2,2,2)\n",
    "sns.boxplot(x=sales_by_store['ASPC'])\n",
    "plt.xlabel('ASPC',fontsize=20)\n",
    "plt.title('Distribution of {}'.format('ASPC'),fontsize=20)\n",
    "plt.show()\n",
    "print(\"Skewness\",sales_by_store['ASPC'].skew())\n",
    "print(\"Kurtosis\",sales_by_store['ASPC'].kurt())\n",
    "print('='*116)"
   ]
  },
  {
   "cell_type": "markdown",
   "id": "217f789b",
   "metadata": {},
   "source": [
    "> Observation \n",
    "\n",
    "We can clearly observe that ASPC is mostly normally distributed. with an average of 7500 spent per customer"
   ]
  },
  {
   "cell_type": "code",
   "execution_count": null,
   "id": "691e2dc6",
   "metadata": {},
   "outputs": [],
   "source": [
    "plt.figure(figsize=(15,10))\n",
    "plt.subplot(2,2,1)\n",
    "sns.distplot(x=eda_sales['Customers'])\n",
    "plt.xlabel('Customers',fontsize=20)\n",
    "plt.axvline(eda_sales['Customers'].median(),c='red')\n",
    "plt.title('Distribution of {} '.format('Customers'),fontsize=20)\n",
    "\n",
    "\n",
    "plt.subplot(2,2,2)\n",
    "sns.boxplot(x=eda_sales['Customers'])\n",
    "plt.xlabel('Distance of Customers',fontsize=20)\n",
    "plt.title('Distribution of {}'.format('Customers'),fontsize=20)\n",
    "plt.show()\n",
    "print(\"Mean Customers\",eda_sales['Customers'].mean())\n",
    "print(\"Median Customers\",eda_sales['Customers'].median())\n",
    "print('='*116)"
   ]
  },
  {
   "cell_type": "markdown",
   "id": "5e04631c",
   "metadata": {},
   "source": [
    "> Observation \n",
    "We observe that the variable Customers is highly skewed. The median customers is 610"
   ]
  },
  {
   "cell_type": "code",
   "execution_count": null,
   "id": "bff29761",
   "metadata": {},
   "outputs": [],
   "source": [
    "eda_sales.nunique()"
   ]
  },
  {
   "cell_type": "code",
   "execution_count": null,
   "id": "90920edb",
   "metadata": {},
   "outputs": [],
   "source": [
    "eda_sales.head()"
   ]
  },
  {
   "cell_type": "code",
   "execution_count": null,
   "id": "041512bb",
   "metadata": {},
   "outputs": [],
   "source": [
    "eda_sales.nunique()"
   ]
  },
  {
   "cell_type": "code",
   "execution_count": null,
   "id": "69752cf8",
   "metadata": {
    "scrolled": false
   },
   "outputs": [],
   "source": [
    "sales_cat_cols=['DayOfWeek', 'Open', 'Promo','StateHoliday', 'SchoolHoliday']\n",
    "plt.figure(figsize=(20,20))\n",
    "c=1\n",
    "for col in sales_cat_cols:\n",
    "    plt.subplot(3,2,c)\n",
    "    eda_sales[col].value_counts().plot(kind='bar')\n",
    "    plt.title('Distribution of {}'. format(col))\n",
    "    c=c+1\n",
    "    "
   ]
  },
  {
   "cell_type": "markdown",
   "id": "c6c60017",
   "metadata": {},
   "source": [
    "> Observation \n",
    "\n",
    "1. Stores are open on most days( as expected).\n",
    "2. The promotional offer was active almost 2 in 5 days in any one of the shop atleast. "
   ]
  },
  {
   "cell_type": "markdown",
   "id": "61dc04df",
   "metadata": {},
   "source": [
    "## Bivariate analysis "
   ]
  },
  {
   "cell_type": "code",
   "execution_count": null,
   "id": "11262fb9",
   "metadata": {},
   "outputs": [],
   "source": [
    "# merging eda labeled data\n",
    "eda_data=pd.merge(eda_sales,eda_store, how='inner',on='Store')"
   ]
  },
  {
   "cell_type": "code",
   "execution_count": null,
   "id": "36ac4fec",
   "metadata": {
    "scrolled": false
   },
   "outputs": [],
   "source": [
    "grouped_by_store=eda_data.groupby(by='Store',as_index=False).sum().sort_values(by='Sales')\n",
    "grouped_by_store"
   ]
  },
  {
   "cell_type": "code",
   "execution_count": null,
   "id": "5a6a62bb",
   "metadata": {},
   "outputs": [],
   "source": [
    "px.pie(grouped_by_store.head(10),names='Store',values='Sales',title='Top 10 shops with most sales')"
   ]
  },
  {
   "cell_type": "code",
   "execution_count": null,
   "id": "436c9e2e",
   "metadata": {},
   "outputs": [],
   "source": [
    "grouped_by_store=eda_data.groupby(by=['Store','StoreType'],as_index=False).sum().sort_values(by='ASPC')\n",
    "grouped_by_store"
   ]
  },
  {
   "cell_type": "code",
   "execution_count": null,
   "id": "3586997b",
   "metadata": {},
   "outputs": [],
   "source": [
    "px.bar(grouped_by_store.head(10),x='Store',y='ASPC',color='StoreType',title='Top 10 shops with highest ASPC with storetype')"
   ]
  },
  {
   "cell_type": "code",
   "execution_count": null,
   "id": "4b95837d",
   "metadata": {},
   "outputs": [],
   "source": [
    "grouped_by_week=eda_data.groupby(by='DayOfWeek',as_index=False).sum()\n",
    "\n",
    "px.pie(grouped_by_week,names='DayOfWeek',values='Sales',title='Share of sales on each day of the week')\n"
   ]
  },
  {
   "cell_type": "markdown",
   "id": "43593320",
   "metadata": {},
   "source": [
    "> Observation \n",
    "\n",
    "We observe that the sales is almost equivalently split on all days except sunday, which accounts for only 0.5 % of sales. This is primarily because most of the stores are closed on Sunday"
   ]
  },
  {
   "cell_type": "code",
   "execution_count": null,
   "id": "7c0b5dc2",
   "metadata": {},
   "outputs": [],
   "source": [
    "total_sales=eda_data.groupby(by='Date',as_index=False).sum()\n",
    "px.line(total_sales,x='Date',y='Sales',title='Trend of sales')"
   ]
  },
  {
   "cell_type": "code",
   "execution_count": null,
   "id": "2cdb630d",
   "metadata": {},
   "outputs": [],
   "source": [
    "px.pie(eda_data,names='Promo',values='Sales',title='Distribution of Promo')"
   ]
  },
  {
   "cell_type": "code",
   "execution_count": null,
   "id": "b93ace00",
   "metadata": {},
   "outputs": [],
   "source": [
    "plt.figure(figsize=(20,10))\n",
    "plt.subplot(1,2,1)\n",
    "eda_data.groupby(by='StoreType',as_index=True).mean()['Sales'].plot(kind='bar')\n",
    "plt.subplot(1,2,2)\n",
    "eda_data.groupby(by='StoreType',as_index=True).sum()['Sales'].plot(kind='bar')\n",
    "plt.show()"
   ]
  },
  {
   "cell_type": "markdown",
   "id": "c7567269",
   "metadata": {},
   "source": [
    "> Observation\n",
    "\n",
    "1. Though the number of type 'b' store is less, the sales per store accounted by them is among the highest. \n",
    "2. With most stores being of the type 'a', the total sales drawn in by them is the highest.\n"
   ]
  },
  {
   "cell_type": "code",
   "execution_count": null,
   "id": "fc530662",
   "metadata": {},
   "outputs": [],
   "source": [
    "plt.figure(figsize=(20,10))\n",
    "plt.subplot(1,2,1)\n",
    "eda_data.groupby(by='Assortment',as_index=True).mean()['Sales'].plot(kind='bar')\n",
    "plt.subplot(1,2,2)\n",
    "eda_data.groupby(by='Assortment',as_index=True).sum()['Sales'].plot(kind='bar')\n",
    "plt.show()"
   ]
  },
  {
   "cell_type": "markdown",
   "id": "82470fbb",
   "metadata": {},
   "source": [
    "> Observation\n",
    "\n",
    "1. Though the number of type 'extra' store is less, the sales per store accounted by them is among the highest. \n",
    "2. With most stores being of the type 'basic' and 'extended', the total sales drawn in by them is the highest.\n"
   ]
  },
  {
   "cell_type": "code",
   "execution_count": null,
   "id": "276d1423",
   "metadata": {},
   "outputs": [],
   "source": [
    "plt.figure(figsize=(20,10))\n",
    "plt.subplot(1,2,1)\n",
    "eda_data.groupby(by='Assortment',as_index=True).mean()['CompetitionDistance'].plot(kind='bar')\n",
    "plt.subplot(1,2,2)\n",
    "eda_data.groupby(by='Assortment',as_index=True).sum()['CompetitionDistance'].plot(kind='bar')\n",
    "plt.show()"
   ]
  },
  {
   "cell_type": "markdown",
   "id": "38aa8bed",
   "metadata": {},
   "source": [
    "> Observation \n",
    "\n",
    "It appears that extended type of stores have the highest mean distance from their competitiors. In other words, the extended type of stores are more scattered. "
   ]
  },
  {
   "cell_type": "code",
   "execution_count": null,
   "id": "219afe10",
   "metadata": {},
   "outputs": [],
   "source": [
    "px.bar(eda_data.groupby(by='SchoolHoliday').mean()[['Sales']].sort_values(by='Sales',ascending=False))"
   ]
  },
  {
   "cell_type": "markdown",
   "id": "59fca14f",
   "metadata": {},
   "source": [
    "> Observation \n",
    "\n",
    "The total sales on days when school was closed and on days when it is open appears to be equally split. "
   ]
  },
  {
   "cell_type": "code",
   "execution_count": null,
   "id": "773a8d9d",
   "metadata": {},
   "outputs": [],
   "source": [
    "px.bar(eda_data.groupby(by='StateHoliday').mean()[['Sales']].sort_values(by='Sales',ascending=False))"
   ]
  },
  {
   "cell_type": "markdown",
   "id": "44159938",
   "metadata": {},
   "source": [
    "> Observation \n",
    "\n",
    "The least average sales was on chrismas holidays."
   ]
  },
  {
   "cell_type": "code",
   "execution_count": null,
   "id": "e569d9c4",
   "metadata": {},
   "outputs": [],
   "source": [
    "eda_data['sale_month']=pd.DatetimeIndex(eda_data['Date']).month"
   ]
  },
  {
   "cell_type": "code",
   "execution_count": null,
   "id": "c5d509b6",
   "metadata": {},
   "outputs": [],
   "source": [
    "def applymonth(month_number):\n",
    "    if month_number==1:\n",
    "        return 'Jan'\n",
    "    elif month_number==2:\n",
    "        return 'Feb'\n",
    "    elif month_number==3:\n",
    "        return 'March'\n",
    "    elif month_number==4:\n",
    "        return 'April'\n",
    "    elif month_number==5:\n",
    "        return 'May'\n",
    "    elif month_number==6:\n",
    "        return 'June'\n",
    "    elif month_number==7:\n",
    "        return 'July'\n",
    "    elif month_number==8:\n",
    "        return 'Aug'\n",
    "    elif month_number==9:\n",
    "        return 'Sept'\n",
    "    elif month_number==10:\n",
    "        return 'Oct'\n",
    "    elif month_number==11:\n",
    "        return 'Nov'\n",
    "    else :\n",
    "        return 'Dec'\n",
    "            "
   ]
  },
  {
   "cell_type": "code",
   "execution_count": null,
   "id": "b3b83440",
   "metadata": {},
   "outputs": [],
   "source": [
    "eda_data['sale_month_name']=eda_data['sale_month'].apply(applymonth)"
   ]
  },
  {
   "cell_type": "code",
   "execution_count": null,
   "id": "d42a8a8b",
   "metadata": {},
   "outputs": [],
   "source": [
    "sale_data_monthly=eda_data.groupby('sale_month_name',as_index=False).mean()\n",
    "sale_data_monthly.sort_values(by='sale_month',ascending=True,inplace=True)"
   ]
  },
  {
   "cell_type": "code",
   "execution_count": null,
   "id": "43fec78a",
   "metadata": {},
   "outputs": [],
   "source": [
    "px.line(sale_data_monthly,x='sale_month_name',y='Sales')"
   ]
  },
  {
   "cell_type": "code",
   "execution_count": null,
   "id": "4b7b55c4",
   "metadata": {},
   "outputs": [],
   "source": [
    "px.bar(data_frame=total_sales,x='Date',y='Sales',color=pd.DatetimeIndex(total_sales['Date']).month,color_continuous_scale=px.colors.sequential.Turbo)"
   ]
  },
  {
   "cell_type": "markdown",
   "id": "ce3be2ad",
   "metadata": {},
   "source": [
    "> Observation \n",
    "\n",
    "We observe the sales are lower during the months of August to October. Peaking in December and a minor peak in July"
   ]
  },
  {
   "cell_type": "code",
   "execution_count": null,
   "id": "7ab3b6f8",
   "metadata": {},
   "outputs": [],
   "source": [
    "# extracting the year part out of the sale date\n",
    "eda_data['sale_year']=pd.DatetimeIndex(eda_data['Date']).year"
   ]
  },
  {
   "cell_type": "code",
   "execution_count": null,
   "id": "7db9cdb6",
   "metadata": {},
   "outputs": [],
   "source": [
    "sale_data_yearly=eda_data.groupby('sale_year',as_index=False).mean()\n",
    "sale_data_yearly.sort_values(by='sale_year',ascending=True,inplace=True)"
   ]
  },
  {
   "cell_type": "code",
   "execution_count": null,
   "id": "2fdcc4a8",
   "metadata": {},
   "outputs": [],
   "source": [
    "px.bar(sale_data_yearly,x='sale_year',y='Sales')"
   ]
  },
  {
   "cell_type": "markdown",
   "id": "6dd6c575",
   "metadata": {},
   "source": [
    "> Observation \n",
    "\n",
    "The sales have increased over the last 3 years, but the increase has not been significant"
   ]
  },
  {
   "cell_type": "code",
   "execution_count": null,
   "id": "d753e515",
   "metadata": {},
   "outputs": [],
   "source": [
    "cols=['Customers', 'CompetitionDistance', 'CompetitionDistance']\n",
    "plt.figure(figsize=(20,20))\n",
    "c=1\n",
    "for col in cols:\n",
    "    plt.subplot(2,2,c)\n",
    "    sns.regplot(data=eda_data,x=col,y='Sales',scatter_kws={\"color\": \"black\"}, line_kws={\"color\": \"red\"})\n",
    "    plt.title('Distribution of {}'. format(col))\n",
    "    c=c+1\n",
    "    "
   ]
  },
  {
   "cell_type": "markdown",
   "id": "7644b9be",
   "metadata": {},
   "source": [
    "> Observation \n",
    "\n",
    "1. Sales and customers appears to have a very strong correlation given by the line. \n",
    "2. CompetitionDistance , CompetitionDistance have a very weak correlation  with sales"
   ]
  },
  {
   "cell_type": "code",
   "execution_count": null,
   "id": "8d453a57",
   "metadata": {},
   "outputs": [],
   "source": [
    "sns.heatmap(total_sales[['Sales','Customers','CompetitionDistance','competition_open_since_months']].corr(),annot=True)\n",
    "plt.show()"
   ]
  },
  {
   "cell_type": "markdown",
   "id": "d7e1f039",
   "metadata": {},
   "source": [
    "> Observation \n",
    "The number of customers and sales are highly correlated ( almost 0.98)"
   ]
  },
  {
   "cell_type": "markdown",
   "id": "5c04e864",
   "metadata": {},
   "source": [
    "## Multi-variate analysis"
   ]
  },
  {
   "cell_type": "code",
   "execution_count": null,
   "id": "95e4e013",
   "metadata": {},
   "outputs": [],
   "source": [
    "plt.figure(figsize=(40,40))\n",
    "sns.pairplot(eda_data,vars=['Sales','Customers'],hue='StateHoliday')\n",
    "plt.show()"
   ]
  },
  {
   "cell_type": "markdown",
   "id": "5060b121",
   "metadata": {},
   "source": [
    "> Observation : \n",
    "The sales and the customers are high on hoildays\n"
   ]
  },
  {
   "cell_type": "code",
   "execution_count": null,
   "id": "62c14820",
   "metadata": {},
   "outputs": [],
   "source": [
    "plt.figure(figsize=(20,20))\n",
    "sns.pairplot(eda_data,vars=['Sales','Customers'],hue='Promo')\n",
    "plt.show()"
   ]
  },
  {
   "cell_type": "markdown",
   "id": "4fa73d1f",
   "metadata": {},
   "source": [
    "> Observation \n",
    "\n",
    "It appears that when the promotion is in place, the sales are on the higher side"
   ]
  },
  {
   "cell_type": "code",
   "execution_count": null,
   "id": "8d339360",
   "metadata": {},
   "outputs": [],
   "source": [
    "sns.factorplot(data=eda_data.sort_values(by='sale_month'),x='sale_month_name',y='Sales',col='Promo',hue='Promo2',row='sale_year')\n",
    "plt.show()"
   ]
  },
  {
   "cell_type": "markdown",
   "id": "5859d440",
   "metadata": {},
   "source": [
    "> Observation \n",
    "\n",
    "Sales have been high in months of novemeber and december, especially in stores that had promotion going on. "
   ]
  },
  {
   "cell_type": "code",
   "execution_count": null,
   "id": "140bd546",
   "metadata": {},
   "outputs": [],
   "source": [
    "plt.figure(figsize = (20, 10))\n",
    "sns.heatmap(eda_data.corr(),annot=True,cmap='BuGn')"
   ]
  },
  {
   "cell_type": "markdown",
   "id": "39e1a500",
   "metadata": {},
   "source": [
    "> Observation \n",
    "\n",
    "Among all the variables, sales, customers and ASPC are the most correlated while rest all are un correlated"
   ]
  },
  {
   "cell_type": "code",
   "execution_count": null,
   "id": "185e9ce3",
   "metadata": {},
   "outputs": [],
   "source": [
    "# Plot to observe the effect og storetype and promo on Sales/Customer.\n",
    "\n",
    "sns.factorplot(data = eda_data, x = \"sale_month_name\", y = \"ASPC\", col = \"StoreType\", \n",
    "               hue = \"StoreType\", row = \"Promo\") \n",
    "plt.show()"
   ]
  },
  {
   "cell_type": "markdown",
   "id": "0a73c22e",
   "metadata": {},
   "source": [
    "> Observation \n",
    "\n",
    "We observe that the highest average sales per customer is the highest for store type d and not b. The low ASPC for type b store shows that users use it for small purchases."
   ]
  },
  {
   "cell_type": "markdown",
   "id": "aaa84bc0",
   "metadata": {},
   "source": [
    "# Outlier removal"
   ]
  },
  {
   "cell_type": "code",
   "execution_count": null,
   "id": "38f8a452",
   "metadata": {},
   "outputs": [],
   "source": [
    "eda_data.head()"
   ]
  },
  {
   "cell_type": "code",
   "execution_count": null,
   "id": "828c6e09",
   "metadata": {},
   "outputs": [],
   "source": [
    "num_cols=['Sales', 'Customers', 'ASPC','CompetitionDistance', 'competition_open_since_months']"
   ]
  },
  {
   "cell_type": "code",
   "execution_count": null,
   "id": "ab8e408f",
   "metadata": {},
   "outputs": [],
   "source": [
    "# Visualising outliers\n",
    "plt.figure(figsize=(20,20))\n",
    "c=1\n",
    "for col in num_cols:\n",
    "    plt.subplot(3,2,c)\n",
    "    sns.boxplot(x=eda_data[col])\n",
    "    plt.title('Distribution of {}'.format(col))\n",
    "    c=c+1\n",
    "plt.show()"
   ]
  },
  {
   "cell_type": "markdown",
   "id": "26b41ccf",
   "metadata": {},
   "source": [
    "\n",
    "> Observation \n",
    "\n",
    "Competition distance and competition open since months have significant outliers"
   ]
  },
  {
   "cell_type": "markdown",
   "id": "705011fe",
   "metadata": {},
   "source": [
    "**NOTE** \n",
    "\n",
    "We decide to treat outliers on a store by store basis at a later stage in the process. This decision is taken with the consideration that global outliers do not affect the local (store by store) outliers. Normlization of sales and customers data is dealt with in later stages with the same piece in mind"
   ]
  },
  {
   "cell_type": "markdown",
   "id": "8f0b93f7",
   "metadata": {},
   "source": [
    "# Create dataset for each store"
   ]
  },
  {
   "cell_type": "code",
   "execution_count": null,
   "id": "1d84e760",
   "metadata": {},
   "outputs": [],
   "source": [
    "data"
   ]
  },
  {
   "cell_type": "code",
   "execution_count": null,
   "id": "bc8be412",
   "metadata": {},
   "outputs": [],
   "source": [
    "data.info()"
   ]
  },
  {
   "cell_type": "code",
   "execution_count": null,
   "id": "9262171b",
   "metadata": {},
   "outputs": [],
   "source": [
    "store_1=data[data['Store']=='1']\n",
    "store_3=data[data['Store']=='3']\n",
    "store_8=data[data['Store']=='8']\n",
    "store_9=data[data['Store']=='9']\n",
    "store_13=data[data['Store']=='13']\n",
    "store_25=data[data['Store']=='25']\n",
    "store_29=data[data['Store']=='29']\n",
    "store_31=data[data['Store']=='31']\n",
    "store_46=data[data['Store']=='46']"
   ]
  },
  {
   "cell_type": "code",
   "execution_count": null,
   "id": "1368ef1e",
   "metadata": {},
   "outputs": [],
   "source": [
    "store_1=pd.get_dummies(store_1,drop_first=True)\n",
    "store_3=pd.get_dummies(store_3,drop_first=True)\n",
    "store_8=pd.get_dummies(store_8,drop_first=True)\n",
    "store_9=pd.get_dummies(store_9,drop_first=True)\n",
    "store_13=pd.get_dummies(store_13,drop_first=True)\n",
    "store_25=pd.get_dummies(store_25,drop_first=True)\n",
    "store_29=pd.get_dummies(store_29,drop_first=True)\n",
    "store_31=pd.get_dummies(store_31,drop_first=True)\n",
    "store_46=pd.get_dummies(store_46,drop_first=True)"
   ]
  },
  {
   "cell_type": "code",
   "execution_count": null,
   "id": "078c7c86",
   "metadata": {},
   "outputs": [],
   "source": [
    "# Create an empty dataframe to store the results of tope models for each store\n",
    "top_model_for_each_store=pd.DataFrame([])"
   ]
  },
  {
   "cell_type": "markdown",
   "id": "45a4f48f",
   "metadata": {},
   "source": [
    "# Store details for important stores"
   ]
  },
  {
   "cell_type": "code",
   "execution_count": null,
   "id": "5fa5b05f",
   "metadata": {},
   "outputs": [],
   "source": [
    "# According to the problem statement. the following are the important stores on which we model data\n",
    "important_stores=['1','3','8','9','13','25','29','31','46']\n",
    "eda_store[eda_store['Store'].isin(important_stores)]"
   ]
  },
  {
   "cell_type": "markdown",
   "id": "8ecbae14",
   "metadata": {},
   "source": [
    "# model building "
   ]
  },
  {
   "cell_type": "markdown",
   "id": "719999da",
   "metadata": {},
   "source": [
    "## Store 1\n"
   ]
  },
  {
   "cell_type": "code",
   "execution_count": null,
   "id": "37212a7d",
   "metadata": {},
   "outputs": [],
   "source": [
    "# Sorting the data by date in ascending order and setting data as index column\n",
    "store_1.sort_values(by='Date',ascending=True,inplace=True)\n",
    "store_1.set_index(keys='Date',inplace=True)\n"
   ]
  },
  {
   "cell_type": "code",
   "execution_count": null,
   "id": "f92ad8d6",
   "metadata": {},
   "outputs": [],
   "source": [
    "store_1.nunique()"
   ]
  },
  {
   "cell_type": "markdown",
   "id": "ab2cda8f",
   "metadata": {},
   "source": [
    "> Observation : It appears that only 3 variables are of continious type, and hence these are treated for outliers. Values above 99 percentile are capped"
   ]
  },
  {
   "cell_type": "code",
   "execution_count": null,
   "id": "a209b8ea",
   "metadata": {},
   "outputs": [],
   "source": [
    "num_cont_cols=[\"Sales\", \"Customers\",'ASPC']\n",
    "\n",
    "#capping numerical columns to 0 and 99 percentiles\n",
    "for col in num_cont_cols:\n",
    "    hq=store_1[[col]].quantile(q=99/100).values[0]\n",
    "    store_1[col].apply(lambda x : hq if x > hq else x )"
   ]
  },
  {
   "cell_type": "code",
   "execution_count": null,
   "id": "4c4944cc",
   "metadata": {},
   "outputs": [],
   "source": [
    "# Visualising outliers\n",
    "plt.figure(figsize=(20,20))\n",
    "c=1\n",
    "for col in num_cont_cols:\n",
    "    plt.subplot(3,2,c)\n",
    "    sns.boxplot(x=store_1[col])\n",
    "    plt.title('Distribution of {}'.format(col))\n",
    "    c=c+1\n",
    "plt.show()"
   ]
  },
  {
   "cell_type": "code",
   "execution_count": null,
   "id": "a2dbdb92",
   "metadata": {},
   "outputs": [],
   "source": [
    "# Standardising numerical columns\n",
    "scale = StandardScaler()\n",
    "store_1[[\"Sales\", \"Customers\",'ASPC']] = scale.fit_transform(store_1[[\"Sales\", \"Customers\",'ASPC']])\n",
    "\n",
    "store_1.describe()"
   ]
  },
  {
   "cell_type": "code",
   "execution_count": null,
   "id": "7aa9d6f0",
   "metadata": {},
   "outputs": [],
   "source": [
    "# Visualising data after standardising\n",
    "plt.figure(figsize=(20,20))\n",
    "c=1\n",
    "for col in num_cont_cols:\n",
    "    plt.subplot(3,2,c)\n",
    "    sns.distplot(x=store_1[col])\n",
    "    plt.title('Distribution of {}'.format(col))\n",
    "    c=c+1\n",
    "plt.show()"
   ]
  },
  {
   "cell_type": "markdown",
   "id": "e0058485",
   "metadata": {},
   "source": [
    "> Observation: \n",
    "we can obseve that the distplot shows a bi-modal plot. The major mode is normally distributed in all the 3 cases. However, this is not the case in the peak (where sales =0). This is because the store is closed on Sundays and hence has 0 sales. This is crucial information with respect to prediction, hence we choose to ignore it. "
   ]
  },
  {
   "cell_type": "markdown",
   "id": "4930530a",
   "metadata": {},
   "source": [
    "### Visualisation"
   ]
  },
  {
   "cell_type": "code",
   "execution_count": null,
   "id": "228554e9",
   "metadata": {},
   "outputs": [],
   "source": [
    "# Visualising the trend of sales\n",
    "\n",
    "store_1['Sales'].plot(figsize=(20, 4))\n",
    "plt.title('Sales')\n",
    "plt.show()\n",
    "\n",
    "plt.figure(figsize=(20, 4))\n",
    "sns.boxplot(x=store_1['Sales'])\n",
    "plt.title('Distribution of {}'.format('Sales'))\n",
    "plt.show()\n",
    "\n"
   ]
  },
  {
   "cell_type": "markdown",
   "id": "0f98cdeb",
   "metadata": {},
   "source": [
    "### Time series decomposition"
   ]
  },
  {
   "cell_type": "code",
   "execution_count": null,
   "id": "bc750fac",
   "metadata": {},
   "outputs": [],
   "source": [
    "rcParams['figure.figsize'] = (12, 8)\n",
    "decomposition = sm.tsa.seasonal_decompose(store_1.Sales, model='additive') # additive seasonal index\n",
    "fig = decomposition.plot()\n",
    "plt.show()"
   ]
  },
  {
   "cell_type": "markdown",
   "id": "88f2bad5",
   "metadata": {},
   "source": [
    "> Observation : \n",
    "\n",
    "We observe that there is no significant pattern in the residuals, hence we select the additive model over the multiplicative model\n"
   ]
  },
  {
   "cell_type": "markdown",
   "id": "7de8c829",
   "metadata": {},
   "source": [
    "### Splitting data into test and train"
   ]
  },
  {
   "cell_type": "code",
   "execution_count": null,
   "id": "047b0f7f",
   "metadata": {},
   "outputs": [],
   "source": [
    "# Splitting dataset into test and train\n",
    "weeks=6\n",
    "n_of_obs=7*weeks#(7 days multiplied by 6 weeks)\n",
    "train = store_1.iloc[:len(store_1)-n_of_obs,:]\n",
    "test = store_1.iloc[len(store_1)-n_of_obs:,:]"
   ]
  },
  {
   "cell_type": "markdown",
   "id": "c023c61f",
   "metadata": {},
   "source": [
    "### Modelling"
   ]
  },
  {
   "cell_type": "code",
   "execution_count": null,
   "id": "a4612ecb",
   "metadata": {},
   "outputs": [],
   "source": [
    "# Custom function for plotting test and predicted output\n",
    "def plot_train_test_pred(train,test,pred):\n",
    "    plt.figure(figsize=(20,8))\n",
    "    plt.plot(test['Sales'],label='Test')\n",
    "    plt.plot(pred['Sales'],label='Predicted')\n",
    "    plt.legend()\n",
    "    plt.title('Comparing test and predicted values')\n",
    "    plt.show()"
   ]
  },
  {
   "cell_type": "code",
   "execution_count": null,
   "id": "1d64d700",
   "metadata": {},
   "outputs": [],
   "source": [
    "# Custom function to calculate update error metrics\n",
    "def error_metrics_func(store,method,test, pred,error_metrics):\n",
    "    rmse=np.sqrt(mean_squared_error(test['Sales'],pred['Sales']))\n",
    "    mape=np.abs(np.mean(np.abs(test['Sales']-pred['Sales'])/test['Sales'])*100)\n",
    "    mae=mean_absolute_error(test['Sales'],pred['Sales'])\n",
    "    error=pd.DataFrame({'Store':[store],'Method':[method], 'MAPE': [mape], 'RMSE': [rmse], 'MAE': [mae]})\n",
    "    error_metrics=pd.concat([error_metrics,error])\n",
    "    return error_metrics\n",
    "    \n",
    "    "
   ]
  },
  {
   "cell_type": "code",
   "execution_count": null,
   "id": "7f4a7fce",
   "metadata": {},
   "outputs": [],
   "source": [
    "# Custom function to test stationarity at 0.95 confidence\n",
    "def stationary_test(df,col):\n",
    "    adf_test=adfuller(store_1[col])\n",
    "    print('='*116)\n",
    "    print('performing adf test on {}'. format(col))\n",
    "    print('ADF Stat:', adf_test[0])\n",
    "    print('Critical value at 0.05',adf_test[4]['5%'])\n",
    "    p_value=adf_test[1]\n",
    "    print('P-value:',adf_test[1])\n",
    "    print()\n",
    "    if p_value <0.05:\n",
    "        print('-> {} Series is stationary'.format(col))\n",
    "    else:\n",
    "        print('-> {} Series is not stationary'.format(col))\n",
    "    print('='*116)"
   ]
  },
  {
   "cell_type": "code",
   "execution_count": null,
   "id": "dbab80f3",
   "metadata": {},
   "outputs": [],
   "source": [
    "#  Initialising empty dataframe as error_metrics to be used later\n",
    "error_metrics=pd.DataFrame([])"
   ]
  },
  {
   "cell_type": "markdown",
   "id": "bd990bfe",
   "metadata": {},
   "source": [
    "#### Naive method\n",
    "We first start with the naive method"
   ]
  },
  {
   "cell_type": "code",
   "execution_count": null,
   "id": "9471f2f9",
   "metadata": {},
   "outputs": [],
   "source": [
    "# Naive Method\n",
    "naive_pred = test.copy()\n",
    "naive_pred['Sales'] = train['Sales'][n_of_obs-1]"
   ]
  },
  {
   "cell_type": "code",
   "execution_count": null,
   "id": "babebcc7",
   "metadata": {},
   "outputs": [],
   "source": [
    "# plotting test and prediction graphs\n",
    "plot_train_test_pred(train,test,naive_pred)"
   ]
  },
  {
   "cell_type": "code",
   "execution_count": null,
   "id": "72b82556",
   "metadata": {},
   "outputs": [],
   "source": [
    "# calculating error metrics \n",
    "error_metrics=error_metrics_func('1','naive',test,naive_pred,error_metrics)\n",
    "error_metrics"
   ]
  },
  {
   "cell_type": "markdown",
   "id": "12d62cfc",
   "metadata": {},
   "source": [
    "#### Simple moving average method\n",
    "\n",
    "We now attempt simple moving average model"
   ]
  },
  {
   "cell_type": "markdown",
   "id": "33627d80",
   "metadata": {},
   "source": [
    "on seeing the graph, it appears that the trend repeats after every 7 days, hence we keep the moving average also as 7 days"
   ]
  },
  {
   "cell_type": "code",
   "execution_count": null,
   "id": "b7ffeb45",
   "metadata": {},
   "outputs": [],
   "source": [
    "ma_window=7"
   ]
  },
  {
   "cell_type": "code",
   "execution_count": null,
   "id": "a45cb3c1",
   "metadata": {},
   "outputs": [],
   "source": [
    "# moving average method \n",
    "simple_moving_average_pred = test.copy()\n",
    "simple_moving_average_pred['Sales'] = store_1['Sales'].rolling(ma_window).mean()\n",
    "simple_moving_average_pred['Sales'][len(store_1)-n_of_obs:] = train['Sales'][n_of_obs-1]"
   ]
  },
  {
   "cell_type": "code",
   "execution_count": null,
   "id": "f1a2a805",
   "metadata": {},
   "outputs": [],
   "source": [
    "# plotting test and prediction graphs\n",
    "plot_train_test_pred(train,test,simple_moving_average_pred)"
   ]
  },
  {
   "cell_type": "code",
   "execution_count": null,
   "id": "74a51097",
   "metadata": {},
   "outputs": [],
   "source": [
    "# calculating error metrics \n",
    "error_metrics=error_metrics_func('1','simple_moving_average',test,simple_moving_average_pred,error_metrics)\n",
    "\n",
    "error_metrics"
   ]
  },
  {
   "cell_type": "markdown",
   "id": "a0b2cfed",
   "metadata": {},
   "source": [
    "#### holt winters method with additive trend and seasonality"
   ]
  },
  {
   "cell_type": "code",
   "execution_count": null,
   "id": "2d1a67ba",
   "metadata": {},
   "outputs": [],
   "source": [
    "# Attempting holt-winters additive trend with additive seasonality\n",
    "hwa_pred = test.copy()\n",
    "model = ExponentialSmoothing(np.asarray(train['Sales']) ,seasonal_periods=7 ,trend='add', seasonal='add')\n",
    "model_fit = model.fit(optimized=True)\n",
    "print(model_fit.params)\n",
    "hwa_pred['Sales'] = model_fit.forecast(42)"
   ]
  },
  {
   "cell_type": "code",
   "execution_count": null,
   "id": "d4395e1f",
   "metadata": {},
   "outputs": [],
   "source": [
    "# plotting test and prediction graphs\n",
    "plot_train_test_pred(train,test,hwa_pred)"
   ]
  },
  {
   "cell_type": "code",
   "execution_count": null,
   "id": "4b971ec5",
   "metadata": {},
   "outputs": [],
   "source": [
    "# calculating error metrics \n",
    "error_metrics=error_metrics_func('1','holt winters method with additive trend and seasonality',test,hwa_pred,error_metrics)\n",
    "error_metrics"
   ]
  },
  {
   "cell_type": "markdown",
   "id": "fa631641",
   "metadata": {},
   "source": [
    "#### ARIMA family pre-requisites"
   ]
  },
  {
   "cell_type": "code",
   "execution_count": null,
   "id": "98bb17a3",
   "metadata": {},
   "outputs": [],
   "source": [
    "# We perform the stationarity test on the numerical columns, Namely, Sales, Customers and ASPC\n",
    "\n",
    "stationary_test(store_1,'Sales')\n",
    "stationary_test(store_1,'Customers')\n",
    "stationary_test(store_1,'ASPC')\n",
    "stationary_test(store_1,'DayOfWeek')\n",
    "stationary_test(store_1,'Open')\n",
    "stationary_test(store_1,'Promo')"
   ]
  },
  {
   "cell_type": "markdown",
   "id": "5de517e8",
   "metadata": {},
   "source": [
    "> Observation\n",
    "\n",
    "We find that all the desired endogenous variables are stationary with 95% confidence. This is acceptable for our study, hence we conclude that all the required series are stationary"
   ]
  },
  {
   "cell_type": "code",
   "execution_count": null,
   "id": "05a3667c",
   "metadata": {},
   "outputs": [],
   "source": [
    "# Plotting ACF graph to determin q\n",
    "plt.figure(figsize=(20,8))\n",
    "plot_acf(store_1['Customers'],ax=plt.gca(),lags=60)\n",
    "plt.show()"
   ]
  },
  {
   "cell_type": "markdown",
   "id": "2a136f0f",
   "metadata": {},
   "source": [
    "> Observation \n",
    "It is clearly seen that there is a seasonal pattern in the ACF  graph, hence we consider q to be 0"
   ]
  },
  {
   "cell_type": "code",
   "execution_count": null,
   "id": "9f2af784",
   "metadata": {},
   "outputs": [],
   "source": [
    "# Plotting PACF graph to determine p \n",
    "plt.figure(figsize=(20,8))\n",
    "plot_pacf(store_1['Customers'],ax=plt.gca(),lags=60)\n",
    "plt.show()"
   ]
  },
  {
   "cell_type": "markdown",
   "id": "62c99a46",
   "metadata": {},
   "source": [
    "> Observation \n",
    "We observe that the graph dies down considerably after the 49th period. However, this would make our model very complex, hence we settle at a lower number of 14 after which the reduction in PACF values slows down"
   ]
  },
  {
   "cell_type": "markdown",
   "id": "7eed3235",
   "metadata": {},
   "source": [
    "#### Arima model"
   ]
  },
  {
   "cell_type": "code",
   "execution_count": null,
   "id": "865639ec",
   "metadata": {
    "scrolled": true
   },
   "outputs": [],
   "source": [
    "# Arima model with p=14 , d=0 ( series was stationary without preprocessing) and q=0\n",
    "arima_model = SARIMAX(train['Sales'], order=(14, 0, 0))\n",
    "arima_model_fit = arima_model.fit()\n",
    "print(arima_model_fit.params)"
   ]
  },
  {
   "cell_type": "code",
   "execution_count": null,
   "id": "7f7fd640",
   "metadata": {},
   "outputs": [],
   "source": [
    "arima_pred = test.copy()\n",
    "arima_pred['Sales'] = arima_model_fit.predict(test.index.min(), test.index.max())"
   ]
  },
  {
   "cell_type": "code",
   "execution_count": null,
   "id": "956607b4",
   "metadata": {},
   "outputs": [],
   "source": [
    "# plotting test and prediction graphs\n",
    "plot_train_test_pred(train,test,arima_pred)"
   ]
  },
  {
   "cell_type": "code",
   "execution_count": null,
   "id": "3e40e28e",
   "metadata": {},
   "outputs": [],
   "source": [
    "# calculating error metrics \n",
    "error_metrics=error_metrics_func('1','ARIMA',test,arima_pred,error_metrics)\n",
    "error_metrics"
   ]
  },
  {
   "cell_type": "code",
   "execution_count": null,
   "id": "141f896f",
   "metadata": {},
   "outputs": [],
   "source": [
    "#SARIMA,SArima model with p=7 , d=0 ( series was stationary without preprocessing) and q=0\n",
    "# Values of PQD were arrived by trial and error while m is choosen to be 14 ( mulitple of 7)\n",
    "SARIMAX_model = SARIMAX(train['Sales'], order=(7, 0, 0),seasonal_order=(10,0,0, 14))\n",
    "SARIMAX_model_fit = SARIMAX_model.fit()\n",
    "print(SARIMAX_model_fit.params)"
   ]
  },
  {
   "cell_type": "code",
   "execution_count": null,
   "id": "67e29e4d",
   "metadata": {},
   "outputs": [],
   "source": [
    "sarima_pred = test.copy()\n",
    "sarima_pred['Sales'] = SARIMAX_model_fit.predict(test.index.min(), test.index.max())"
   ]
  },
  {
   "cell_type": "code",
   "execution_count": null,
   "id": "f599dc27",
   "metadata": {},
   "outputs": [],
   "source": [
    "# plotting test and prediction graphs\n",
    "plot_train_test_pred(train,test,sarima_pred)"
   ]
  },
  {
   "cell_type": "code",
   "execution_count": null,
   "id": "43b0c9f2",
   "metadata": {},
   "outputs": [],
   "source": [
    "# calculating error metrics \n",
    "error_metrics=error_metrics_func('1','SARIMA',test,sarima_pred,error_metrics)\n",
    "error_metrics"
   ]
  },
  {
   "cell_type": "code",
   "execution_count": null,
   "id": "bfc4a3ed",
   "metadata": {},
   "outputs": [],
   "source": [
    "#SARIMAX,SArima model with p=14 , d=0 ( series was stationary without preprocessing) and q=0\n",
    "# Values of PQD were arrived by trial and error while m is choosen to be 14 ( mulitple of 7)\n",
    "\n",
    "SARIMAX_model = SARIMAX(train['Sales'], order=(1, 0, 0),seasonal_order=(7,0,0,7),exog=train[['DayOfWeek','Promo','Open','StateHoliday_0']])\n",
    "SARIMAX_model_fit = SARIMAX_model.fit()\n",
    "print(SARIMAX_model_fit.params)\n",
    "\n"
   ]
  },
  {
   "cell_type": "code",
   "execution_count": null,
   "id": "372532c6",
   "metadata": {},
   "outputs": [],
   "source": [
    "sarimax_pred = test.copy()\n",
    "sarimax_pred['Sales'] = SARIMAX_model_fit.predict(test.index.min(), test.index.max(),exog=test[['DayOfWeek','Promo','Open','StateHoliday_0']])\n"
   ]
  },
  {
   "cell_type": "code",
   "execution_count": null,
   "id": "3544bcbd",
   "metadata": {},
   "outputs": [],
   "source": [
    "# plotting test and prediction graphs\n",
    "plot_train_test_pred(train,test,sarimax_pred)"
   ]
  },
  {
   "cell_type": "code",
   "execution_count": null,
   "id": "36315de3",
   "metadata": {},
   "outputs": [],
   "source": [
    "error_metrics=error_metrics_func('1','SARIMAX',test,sarimax_pred,error_metrics)\n",
    "error_metrics"
   ]
  },
  {
   "cell_type": "markdown",
   "id": "61db7e5e",
   "metadata": {},
   "source": [
    "#### VAR Model pre-requisites"
   ]
  },
  {
   "cell_type": "markdown",
   "id": "1e17428d",
   "metadata": {},
   "source": [
    "check co-integration"
   ]
  },
  {
   "cell_type": "code",
   "execution_count": null,
   "id": "f1cda6e6",
   "metadata": {},
   "outputs": [],
   "source": [
    "from statsmodels.tsa.vector_ar.vecm import select_coint_rank"
   ]
  },
  {
   "cell_type": "code",
   "execution_count": null,
   "id": "6a14cc96",
   "metadata": {},
   "outputs": [],
   "source": [
    "store_1"
   ]
  },
  {
   "cell_type": "code",
   "execution_count": null,
   "id": "38241a19",
   "metadata": {},
   "outputs": [],
   "source": [
    "rank=select_coint_rank(store_1[['Sales','Customers','ASPC','DayOfWeek','Promo','Open','SchoolHoliday','StateHoliday_0']],-1,1)\n",
    "print('The rank of trace matrix is: {} while it has {} cols' .format(rank.rank,8))"
   ]
  },
  {
   "cell_type": "markdown",
   "id": "cfe763dc",
   "metadata": {},
   "source": [
    "> Observation : We observe that the length of columns is not equal to rank, hence some of the elements are not con integerated. Hence by trial and error we identify the co-integerated ones"
   ]
  },
  {
   "cell_type": "code",
   "execution_count": null,
   "id": "262d26fc",
   "metadata": {},
   "outputs": [],
   "source": [
    "rank=select_coint_rank(store_1[['Sales','Customers','ASPC','DayOfWeek','Promo']],-1,1)\n",
    "print('The rank of trace matrix is: {} while it has {} cols' .format(rank.rank,5))"
   ]
  },
  {
   "cell_type": "markdown",
   "id": "504bc48d",
   "metadata": {},
   "source": [
    "We know that, for 2 column trace matrix, If rank(π) = 2 ⇒ that there are unique values for \n",
    "ω\n",
    "1\n",
    " and \n",
    "ω\n",
    "2\n",
    " which is possible only when both \n",
    "y\n",
    "1\n",
    "t\n",
    " and \n",
    "y\n",
    "2\n",
    "t\n",
    " are stationary ⇒ \n",
    "y\n",
    "1\n",
    "t\n",
    " and \n",
    "y\n",
    "2\n",
    "t\n",
    " are not cointegrated ⇒ Since these are stationary, you can build a VAR/ VARMAX model"
   ]
  },
  {
   "cell_type": "markdown",
   "id": "034a6677",
   "metadata": {},
   "source": [
    "Hence we can say that the columns 'Sales','Customers','ASPC','DayOfWeek','Promo' are all co-integerated and we can build a VAR Model without violating the principles"
   ]
  },
  {
   "cell_type": "markdown",
   "id": "22076132",
   "metadata": {},
   "source": [
    "#### Varma model"
   ]
  },
  {
   "cell_type": "markdown",
   "id": "31a9021b",
   "metadata": {},
   "source": [
    "**NOTE** :\n",
    "To avoid spuroius relations ,We choose to consider only sales and customer as input series as both are correlated and can cause change in others. While the variables promo, dayofweek, open, stateholiday are not affected by sales or customers. However, ASPC is a simple combination of Sales and customers, we avoid using it."
   ]
  },
  {
   "cell_type": "code",
   "execution_count": null,
   "id": "11389137",
   "metadata": {},
   "outputs": [],
   "source": [
    "# VARMA model\n",
    "\n",
    "VARMA_model = sm.tsa.VARMAX(train[['Sales', 'Customers']], order=(7,0), trend='n')\n",
    "VARMA_model_fit = VARMA_model.fit(maxiter=1000, disp=False)\n",
    "print(VARMA_model_fit.summary())"
   ]
  },
  {
   "cell_type": "code",
   "execution_count": null,
   "id": "74e0c803",
   "metadata": {},
   "outputs": [],
   "source": [
    "start_index = test.index.min()\n",
    "end_index = test.index.max()\n",
    "varma_pred = VARMA_model_fit.predict(start=start_index, end=end_index)"
   ]
  },
  {
   "cell_type": "code",
   "execution_count": null,
   "id": "b8d98272",
   "metadata": {},
   "outputs": [],
   "source": [
    "# plotting test and prediction graphs\n",
    "plot_train_test_pred(train,test,varma_pred)"
   ]
  },
  {
   "cell_type": "code",
   "execution_count": null,
   "id": "6c284322",
   "metadata": {},
   "outputs": [],
   "source": [
    "# calculating error metrics \n",
    "error_metrics=error_metrics_func('1','varma',test,varma_pred,error_metrics)\n",
    "error_metrics"
   ]
  },
  {
   "cell_type": "markdown",
   "id": "4bb9294b",
   "metadata": {},
   "source": [
    "#### Varmax model "
   ]
  },
  {
   "cell_type": "code",
   "execution_count": null,
   "id": "5402bfcf",
   "metadata": {},
   "outputs": [],
   "source": [
    "store_1.columns"
   ]
  },
  {
   "cell_type": "code",
   "execution_count": null,
   "id": "2efedf35",
   "metadata": {
    "scrolled": false
   },
   "outputs": [],
   "source": [
    "# Varmax model\n",
    "Varmax_model = sm.tsa.VARMAX(train[['Sales', 'Customers', 'Promo']], order=(7,0), trend='n')\n",
    "Varmax_model_fit = Varmax_model.fit(maxiter=1000, disp=False)\n",
    "print(Varmax_model_fit.summary())"
   ]
  },
  {
   "cell_type": "code",
   "execution_count": null,
   "id": "2ca9cacf",
   "metadata": {},
   "outputs": [],
   "source": [
    "start_index = test.index.min()\n",
    "end_index = test.index.max()\n",
    "varmax_pred = Varmax_model_fit.predict(start=start_index, end=end_index)"
   ]
  },
  {
   "cell_type": "code",
   "execution_count": null,
   "id": "ff54cd56",
   "metadata": {},
   "outputs": [],
   "source": [
    "# plotting test and prediction graphs\n",
    "plot_train_test_pred(train,test,varmax_pred)"
   ]
  },
  {
   "cell_type": "code",
   "execution_count": null,
   "id": "b1711976",
   "metadata": {},
   "outputs": [],
   "source": [
    "# calculating error metrics \n",
    "\n",
    "error_metrics=error_metrics_func('1','varmax includes promo',test,varmax_pred,error_metrics)\n",
    "\n",
    "error_metrics"
   ]
  },
  {
   "cell_type": "markdown",
   "id": "5399b3e2",
   "metadata": {},
   "source": [
    "#### Impulse response function "
   ]
  },
  {
   "cell_type": "code",
   "execution_count": null,
   "id": "507ff92d",
   "metadata": {},
   "outputs": [],
   "source": [
    "impulse_response_function_fig = Varmax_model_fit.impulse_responses(20, orthogonalized=True).plot(figsize=(20,8))\n",
    "impulse_response_function_fig.set(xlabel='t', title='Responses to a shock to `sales`');"
   ]
  },
  {
   "cell_type": "markdown",
   "id": "4d34c305",
   "metadata": {},
   "source": [
    "> Observation:\n",
    "We observe that while sales and customer variable have significant impact in the time frame, the same cannot be said of PROMO"
   ]
  },
  {
   "cell_type": "markdown",
   "id": "f7f20e4b",
   "metadata": {},
   "source": [
    "#### Varmax with 'open' variable"
   ]
  },
  {
   "cell_type": "markdown",
   "id": "b5301560",
   "metadata": {},
   "source": [
    "**NOTE** :\n",
    "To avoid spuroius relations ,We choose to consider only sales and customer as input series as both are correlated and can cause change in others. While the variables promo, dayofweek, open, stateholiday are not affected by sales or customers. We instead use them as exogeous variables. However, ASPC is a simple combination of Sales and customers, we avoid using it."
   ]
  },
  {
   "cell_type": "code",
   "execution_count": null,
   "id": "1c48d6b8",
   "metadata": {},
   "outputs": [],
   "source": [
    "# Varmax model\n",
    "Varmax_model = sm.tsa.VARMAX(train[['Sales', 'Customers']], order=(7,0), trend='n',exog=train[['Promo','SchoolHoliday','DayOfWeek','Open']])\n",
    "Varmax_model_fit = Varmax_model.fit(maxiter=1000, disp=False)\n",
    "print(Varmax_model_fit.summary())"
   ]
  },
  {
   "cell_type": "code",
   "execution_count": null,
   "id": "b2df9b6f",
   "metadata": {},
   "outputs": [],
   "source": [
    "start_index = test.index.min()\n",
    "end_index = test.index.max()\n",
    "varmax_pred = Varmax_model_fit.predict(start=start_index, end=end_index,exog=test[['Promo','SchoolHoliday','DayOfWeek','Open']])"
   ]
  },
  {
   "cell_type": "code",
   "execution_count": null,
   "id": "f896f77b",
   "metadata": {},
   "outputs": [],
   "source": [
    "# plotting test and prediction graphs\n",
    "plot_train_test_pred(train,test,varmax_pred)"
   ]
  },
  {
   "cell_type": "code",
   "execution_count": null,
   "id": "494bcd14",
   "metadata": {},
   "outputs": [],
   "source": [
    "# calculating error metrics \n",
    "\n",
    "error_metrics=error_metrics_func('1','varmax includes open',test,varmax_pred,error_metrics)\n",
    "\n",
    "error_metrics"
   ]
  },
  {
   "cell_type": "markdown",
   "id": "4022f163",
   "metadata": {},
   "source": [
    "#### Impulse response function "
   ]
  },
  {
   "cell_type": "code",
   "execution_count": null,
   "id": "d6647610",
   "metadata": {},
   "outputs": [],
   "source": [
    "impulse_response_function_fig = Varmax_model_fit.impulse_responses(20, orthogonalized=True,exog=['Promo','SchoolHoliday','DayOfWeek','Open']).plot(figsize=(20,8))\n",
    "impulse_response_function_fig.set(xlabel='t', title='Responses to a shock to `sales`');"
   ]
  },
  {
   "cell_type": "markdown",
   "id": "6dbf4163",
   "metadata": {},
   "source": [
    "> Observation:\n",
    "We observe that while sales and customer variable have significant impact in the time frame"
   ]
  },
  {
   "cell_type": "markdown",
   "id": "6d09009f",
   "metadata": {},
   "source": [
    "#### Final varmax_model\n"
   ]
  },
  {
   "cell_type": "code",
   "execution_count": null,
   "id": "ec6e083a",
   "metadata": {},
   "outputs": [],
   "source": [
    "# Varmax model\n",
    "Varmax_model = sm.tsa.VARMAX(train[['Sales', 'Customers']], order=(7,0), trend='n',exog=train[['Promo','SchoolHoliday','DayOfWeek']])\n",
    "Varmax_model_fit = Varmax_model.fit(maxiter=1000, disp=False)\n",
    "print(Varmax_model_fit.summary())"
   ]
  },
  {
   "cell_type": "code",
   "execution_count": null,
   "id": "60ee1c9d",
   "metadata": {},
   "outputs": [],
   "source": [
    "start_index = test.index.min()\n",
    "end_index = test.index.max()\n",
    "varmax_pred = Varmax_model_fit.predict(start=start_index, end=end_index,exog=test[['Promo','SchoolHoliday','DayOfWeek']])"
   ]
  },
  {
   "cell_type": "code",
   "execution_count": null,
   "id": "28ae6947",
   "metadata": {},
   "outputs": [],
   "source": [
    "# plotting test and prediction graphs\n",
    "plot_train_test_pred(train,test,varmax_pred)"
   ]
  },
  {
   "cell_type": "code",
   "execution_count": null,
   "id": "ff68da4b",
   "metadata": {},
   "outputs": [],
   "source": [
    "# calculating error metrics \n",
    "\n",
    "error_metrics=error_metrics_func('1','varmax',test,varmax_pred,error_metrics)\n",
    "\n",
    "error_metrics"
   ]
  },
  {
   "cell_type": "markdown",
   "id": "303a09e0",
   "metadata": {},
   "source": [
    "#### Impulse response function "
   ]
  },
  {
   "cell_type": "code",
   "execution_count": null,
   "id": "27e8c380",
   "metadata": {},
   "outputs": [],
   "source": [
    "impulse_response_function_fig = Varmax_model_fit.impulse_responses(20, orthogonalized=True,exog=['Promo','SchoolHoliday','DayOfWeek']).plot(figsize=(20,8))\n",
    "impulse_response_function_fig.set(xlabel='t', title='Responses to a shock to `sales`');"
   ]
  },
  {
   "cell_type": "markdown",
   "id": "ae081e60",
   "metadata": {},
   "source": [
    "> Observation:\n",
    "We observe that while sales and customer variable have significant impact in the time frame"
   ]
  },
  {
   "cell_type": "markdown",
   "id": "fac78b93",
   "metadata": {},
   "source": [
    "### Summary"
   ]
  },
  {
   "cell_type": "code",
   "execution_count": null,
   "id": "700250be",
   "metadata": {},
   "outputs": [],
   "source": [
    "error_metrics.sort_values(by='MAPE',ascending=True,inplace=True)\n",
    "error_metrics"
   ]
  },
  {
   "cell_type": "code",
   "execution_count": null,
   "id": "756864b5",
   "metadata": {},
   "outputs": [],
   "source": [
    "# Saving top of each store value for final presentation\n",
    "top_model_for_each_store=pd.concat([top_model_for_each_store,error_metrics.head(1)])\n",
    "top_model_for_each_store"
   ]
  },
  {
   "cell_type": "code",
   "execution_count": null,
   "id": "1e17da46",
   "metadata": {},
   "outputs": [],
   "source": [
    "best_model_store_1=Varmax_model_fit"
   ]
  },
  {
   "cell_type": "markdown",
   "id": "6e355e60",
   "metadata": {},
   "source": [
    "> Observation \n",
    "\n",
    "When the models are compare using MAPE metrics, we find that VARMAX model with Sales and cutomers as endogenous variables and 'Promo','SchoolHoliday','DayOfWeek' and Open is the best performing model. "
   ]
  },
  {
   "cell_type": "markdown",
   "id": "100613a9",
   "metadata": {},
   "source": [
    "## Store 3\n"
   ]
  },
  {
   "cell_type": "code",
   "execution_count": null,
   "id": "b0541c99",
   "metadata": {},
   "outputs": [],
   "source": [
    "# Sorting the data by date in ascending order and setting data as index column\n",
    "store_3.sort_values(by='Date',ascending=True,inplace=True)\n",
    "store_3.set_index(keys='Date',inplace=True)\n"
   ]
  },
  {
   "cell_type": "code",
   "execution_count": null,
   "id": "0c3163e5",
   "metadata": {},
   "outputs": [],
   "source": [
    "store_3.nunique()"
   ]
  },
  {
   "cell_type": "markdown",
   "id": "793074a2",
   "metadata": {},
   "source": [
    "> Observation : It appears that only 3 variables are of continious type, and hence these are treated for outliers. Values above 99 percentile are capped"
   ]
  },
  {
   "cell_type": "code",
   "execution_count": null,
   "id": "01a63e2c",
   "metadata": {},
   "outputs": [],
   "source": [
    "num_cont_cols=[\"Sales\", \"Customers\",'ASPC']\n",
    "\n",
    "#capping numerical columns to 0 and 99 percentiles\n",
    "for col in num_cont_cols:\n",
    "    hq=store_3[[col]].quantile(q=99/100).values[0]\n",
    "    store_3[col].apply(lambda x : hq if x > hq else x )"
   ]
  },
  {
   "cell_type": "code",
   "execution_count": null,
   "id": "d1fd4f74",
   "metadata": {},
   "outputs": [],
   "source": [
    "# Visualising outliers\n",
    "plt.figure(figsize=(20,20))\n",
    "c=1\n",
    "for col in num_cont_cols:\n",
    "    plt.subplot(3,2,c)\n",
    "    sns.boxplot(x=store_3[col])\n",
    "    plt.title('Distribution of {}'.format(col))\n",
    "    c=c+1\n",
    "plt.show()"
   ]
  },
  {
   "cell_type": "code",
   "execution_count": null,
   "id": "2f6a4b0d",
   "metadata": {},
   "outputs": [],
   "source": [
    "# Standardising numerical columns\n",
    "scale = StandardScaler()\n",
    "store_3[[\"Sales\", \"Customers\",'ASPC']] = scale.fit_transform(store_3[[\"Sales\", \"Customers\",'ASPC']])\n",
    "\n",
    "store_3.describe()"
   ]
  },
  {
   "cell_type": "code",
   "execution_count": null,
   "id": "a63bf219",
   "metadata": {},
   "outputs": [],
   "source": [
    "# Visualising data after standardising\n",
    "plt.figure(figsize=(20,20))\n",
    "c=1\n",
    "for col in num_cont_cols:\n",
    "    plt.subplot(3,2,c)\n",
    "    sns.distplot(x=store_3[col])\n",
    "    plt.title('Distribution of {}'.format(col))\n",
    "    c=c+1\n",
    "plt.show()"
   ]
  },
  {
   "cell_type": "markdown",
   "id": "335349a2",
   "metadata": {},
   "source": [
    "> Observation: \n",
    "we can obseve that the distplot shows a bi-modal plot. The major mode is normally distributed in all the 3 cases. However, this is not the case in the peak (where sales =0). This is because the store is closed on Sundays and hence has 0 sales. This is crucial information with respect to prediction, hence we choose to ignore it. "
   ]
  },
  {
   "cell_type": "markdown",
   "id": "98a5ddca",
   "metadata": {},
   "source": [
    "### Visualisation"
   ]
  },
  {
   "cell_type": "code",
   "execution_count": null,
   "id": "57f0ad64",
   "metadata": {},
   "outputs": [],
   "source": [
    "# Visualising the trend of sales\n",
    "\n",
    "store_3['Sales'].plot(figsize=(20, 4))\n",
    "plt.title('Sales')\n",
    "plt.show()\n",
    "\n",
    "plt.figure(figsize=(20, 4))\n",
    "sns.boxplot(x=store_3['Sales'])\n",
    "plt.title('Distribution of {}'.format('Sales'))\n",
    "plt.show()\n",
    "\n"
   ]
  },
  {
   "cell_type": "markdown",
   "id": "00740ec6",
   "metadata": {},
   "source": [
    "### Time series decomposition"
   ]
  },
  {
   "cell_type": "code",
   "execution_count": null,
   "id": "5a651902",
   "metadata": {},
   "outputs": [],
   "source": [
    "rcParams['figure.figsize'] = (12, 8)\n",
    "decomposition = sm.tsa.seasonal_decompose(store_3.Sales, model='additive') # additive seasonal index\n",
    "fig = decomposition.plot()\n",
    "plt.show()"
   ]
  },
  {
   "cell_type": "markdown",
   "id": "5c338a04",
   "metadata": {},
   "source": [
    "> Observation : \n",
    "\n",
    "We observe that there is no significant pattern in the residuals, hence we select the additive model over the multiplicative model\n"
   ]
  },
  {
   "cell_type": "markdown",
   "id": "d91877fd",
   "metadata": {},
   "source": [
    "### Splitting data into test and train"
   ]
  },
  {
   "cell_type": "code",
   "execution_count": null,
   "id": "eddbb50c",
   "metadata": {},
   "outputs": [],
   "source": [
    "# Splitting dataset into test and train\n",
    "weeks=6\n",
    "n_of_obs=7*weeks#(7 days multiplied by 6 weeks)\n",
    "train = store_3.iloc[:len(store_3)-n_of_obs,:]\n",
    "test = store_3.iloc[len(store_3)-n_of_obs:,:]"
   ]
  },
  {
   "cell_type": "markdown",
   "id": "405ce4aa",
   "metadata": {},
   "source": [
    "### Modelling"
   ]
  },
  {
   "cell_type": "code",
   "execution_count": null,
   "id": "2e30aeda",
   "metadata": {},
   "outputs": [],
   "source": [
    "# Custom function for plotting test and predicted output\n",
    "def plot_train_test_pred(train,test,pred):\n",
    "    plt.figure(figsize=(20,8))\n",
    "    plt.plot(test['Sales'],label='Test')\n",
    "    plt.plot(pred['Sales'],label='Predicted')\n",
    "    plt.legend()\n",
    "    plt.title('Comparing test and predicted values')\n",
    "    plt.show()"
   ]
  },
  {
   "cell_type": "code",
   "execution_count": null,
   "id": "2c8b1be6",
   "metadata": {},
   "outputs": [],
   "source": [
    "# Custom function to calculate update error metrics\n",
    "def error_metrics_func(store,method,test, pred,error_metrics):\n",
    "    rmse=np.sqrt(mean_squared_error(test['Sales'],pred['Sales']))\n",
    "    mape=np.abs(np.mean(np.abs(test['Sales']-pred['Sales'])/test['Sales'])*100)\n",
    "    mae=mean_absolute_error(test['Sales'],pred['Sales'])\n",
    "    error=pd.DataFrame({'Store':[store],'Method':[method], 'MAPE': [mape], 'RMSE': [rmse], 'MAE': [mae]})\n",
    "    error_metrics=pd.concat([error_metrics,error])\n",
    "    return error_metrics\n",
    "    \n",
    "    "
   ]
  },
  {
   "cell_type": "code",
   "execution_count": null,
   "id": "b8737654",
   "metadata": {},
   "outputs": [],
   "source": [
    "# Custom function to test stationarity at 0.95 confidence\n",
    "def stationary_test(df,col):\n",
    "    adf_test=adfuller(store_3[col])\n",
    "    print('='*116)\n",
    "    print('performing adf test on {}'. format(col))\n",
    "    print('ADF Stat:', adf_test[0])\n",
    "    print('Critical value at 0.05',adf_test[4]['5%'])\n",
    "    p_value=adf_test[1]\n",
    "    print('P-value:',adf_test[1])\n",
    "    print()\n",
    "    if p_value <0.05:\n",
    "        print('-> {} Series is stationary'.format(col))\n",
    "    else:\n",
    "        print('-> {} Series is not stationary'.format(col))\n",
    "    print('='*116)"
   ]
  },
  {
   "cell_type": "code",
   "execution_count": null,
   "id": "857177a2",
   "metadata": {},
   "outputs": [],
   "source": [
    "#  Initialising empty dataframe as error_metrics to be used later\n",
    "error_metrics=pd.DataFrame([])"
   ]
  },
  {
   "cell_type": "markdown",
   "id": "01066171",
   "metadata": {},
   "source": [
    "#### Naive method\n",
    "We first start with the naive method"
   ]
  },
  {
   "cell_type": "code",
   "execution_count": null,
   "id": "054d0361",
   "metadata": {},
   "outputs": [],
   "source": [
    "# Naive Method\n",
    "naive_pred = test.copy()\n",
    "naive_pred['Sales'] = train['Sales'][n_of_obs-1]"
   ]
  },
  {
   "cell_type": "code",
   "execution_count": null,
   "id": "304ac5b5",
   "metadata": {},
   "outputs": [],
   "source": [
    "# plotting test and prediction graphs\n",
    "plot_train_test_pred(train,test,naive_pred)"
   ]
  },
  {
   "cell_type": "code",
   "execution_count": null,
   "id": "4231c64e",
   "metadata": {},
   "outputs": [],
   "source": [
    "# calculating error metrics \n",
    "error_metrics=error_metrics_func('3','naive',test,naive_pred,error_metrics)\n",
    "error_metrics"
   ]
  },
  {
   "cell_type": "markdown",
   "id": "fe2799f4",
   "metadata": {},
   "source": [
    "#### Simple moving average method\n",
    "\n",
    "We now attempt simple moving average model"
   ]
  },
  {
   "cell_type": "markdown",
   "id": "0ab564fe",
   "metadata": {},
   "source": [
    "on seeing the graph, it appears that the trend repeats after every 7 days, hence we keep the moving average also as 7 days"
   ]
  },
  {
   "cell_type": "code",
   "execution_count": null,
   "id": "184aac59",
   "metadata": {},
   "outputs": [],
   "source": [
    "ma_window=7"
   ]
  },
  {
   "cell_type": "code",
   "execution_count": null,
   "id": "88364c74",
   "metadata": {},
   "outputs": [],
   "source": [
    "# moving average method \n",
    "simple_moving_average_pred = test.copy()\n",
    "simple_moving_average_pred['Sales'] = store_3['Sales'].rolling(ma_window).mean()\n",
    "simple_moving_average_pred['Sales'][len(store_3)-n_of_obs:] = train['Sales'][n_of_obs-1]"
   ]
  },
  {
   "cell_type": "code",
   "execution_count": null,
   "id": "8a79f84f",
   "metadata": {},
   "outputs": [],
   "source": [
    "# plotting test and prediction graphs\n",
    "plot_train_test_pred(train,test,simple_moving_average_pred)"
   ]
  },
  {
   "cell_type": "code",
   "execution_count": null,
   "id": "4b5f682a",
   "metadata": {},
   "outputs": [],
   "source": [
    "# calculating error metrics \n",
    "error_metrics=error_metrics_func('3','simple_moving_average',test,simple_moving_average_pred,error_metrics)\n",
    "\n",
    "error_metrics"
   ]
  },
  {
   "cell_type": "markdown",
   "id": "500070fb",
   "metadata": {},
   "source": [
    "#### holt winters method with additive trend and seasonality"
   ]
  },
  {
   "cell_type": "code",
   "execution_count": null,
   "id": "9c5cc98f",
   "metadata": {},
   "outputs": [],
   "source": [
    "# Attempting holt-winters additive trend with additive seasonality\n",
    "hwa_pred = test.copy()\n",
    "model = ExponentialSmoothing(np.asarray(train['Sales']) ,seasonal_periods=7 ,trend='add', seasonal='add')\n",
    "model_fit = model.fit(optimized=True)\n",
    "print(model_fit.params)\n",
    "hwa_pred['Sales'] = model_fit.forecast(42)"
   ]
  },
  {
   "cell_type": "code",
   "execution_count": null,
   "id": "e34c14cf",
   "metadata": {},
   "outputs": [],
   "source": [
    "# plotting test and prediction graphs\n",
    "plot_train_test_pred(train,test,hwa_pred)"
   ]
  },
  {
   "cell_type": "code",
   "execution_count": null,
   "id": "f077b962",
   "metadata": {},
   "outputs": [],
   "source": [
    "# calculating error metrics \n",
    "error_metrics=error_metrics_func('3','holt winters method with additive trend and seasonality',test,hwa_pred,error_metrics)\n",
    "error_metrics"
   ]
  },
  {
   "cell_type": "markdown",
   "id": "0971bb6a",
   "metadata": {},
   "source": [
    "#### ARIMA family pre-requisites"
   ]
  },
  {
   "cell_type": "code",
   "execution_count": null,
   "id": "420e5b45",
   "metadata": {},
   "outputs": [],
   "source": [
    "# We perform the stationarity test on the numerical columns, Namely, Sales, Customers and ASPC\n",
    "\n",
    "stationary_test(store_3,'Sales')\n",
    "stationary_test(store_3,'Customers')\n",
    "stationary_test(store_3,'ASPC')\n",
    "stationary_test(store_3,'DayOfWeek')\n",
    "stationary_test(store_3,'Open')\n",
    "stationary_test(store_3,'Promo')"
   ]
  },
  {
   "cell_type": "markdown",
   "id": "18386e29",
   "metadata": {},
   "source": [
    "> Observation\n",
    "\n",
    "We find that all the desired endogenous variables are stationary with 95% confidence. This is acceptable for our study, hence we conclude that all the required series are stationary"
   ]
  },
  {
   "cell_type": "code",
   "execution_count": null,
   "id": "1d19837c",
   "metadata": {},
   "outputs": [],
   "source": [
    "# Plotting ACF graph to determin q\n",
    "plt.figure(figsize=(20,8))\n",
    "plot_acf(store_3['Customers'],ax=plt.gca(),lags=60)\n",
    "plt.show()"
   ]
  },
  {
   "cell_type": "markdown",
   "id": "dcb766f3",
   "metadata": {},
   "source": [
    "> Observation \n",
    "It is clearly seen that there is a seasonal pattern in the ACF  graph, hence we consider q to be 0"
   ]
  },
  {
   "cell_type": "code",
   "execution_count": null,
   "id": "522c776b",
   "metadata": {},
   "outputs": [],
   "source": [
    "# Plotting PACF graph to determine p \n",
    "plt.figure(figsize=(20,8))\n",
    "plot_pacf(store_3['Customers'],ax=plt.gca(),lags=60)\n",
    "plt.show()"
   ]
  },
  {
   "cell_type": "markdown",
   "id": "3b6bb861",
   "metadata": {},
   "source": [
    "> Observation \n",
    "We observe that the graph dies down considerably after the 49th period. However, this would make our model very complex, hence we settle at a lower number of 14 after which the reduction in PACF values slows down"
   ]
  },
  {
   "cell_type": "markdown",
   "id": "0cb01d54",
   "metadata": {},
   "source": [
    "#### Arima model"
   ]
  },
  {
   "cell_type": "code",
   "execution_count": null,
   "id": "b487990a",
   "metadata": {
    "scrolled": true
   },
   "outputs": [],
   "source": [
    "# Arima model with p=14 , d=0 ( series was stationary without preprocessing) and q=0\n",
    "arima_model = SARIMAX(train['Sales'], order=(14, 0, 0))\n",
    "arima_model_fit = arima_model.fit()\n",
    "print(arima_model_fit.params)"
   ]
  },
  {
   "cell_type": "code",
   "execution_count": null,
   "id": "b883bc29",
   "metadata": {},
   "outputs": [],
   "source": [
    "arima_pred = test.copy()\n",
    "arima_pred['Sales'] = arima_model_fit.predict(test.index.min(), test.index.max())"
   ]
  },
  {
   "cell_type": "code",
   "execution_count": null,
   "id": "612e0f36",
   "metadata": {},
   "outputs": [],
   "source": [
    "# plotting test and prediction graphs\n",
    "plot_train_test_pred(train,test,arima_pred)"
   ]
  },
  {
   "cell_type": "code",
   "execution_count": null,
   "id": "1673e693",
   "metadata": {},
   "outputs": [],
   "source": [
    "# calculating error metrics \n",
    "error_metrics=error_metrics_func('3','ARIMA',test,arima_pred,error_metrics)\n",
    "error_metrics"
   ]
  },
  {
   "cell_type": "code",
   "execution_count": null,
   "id": "08131dd7",
   "metadata": {},
   "outputs": [],
   "source": [
    "#SARIMA,SArima model with p=7 , d=0 ( series was stationary without preprocessing) and q=0\n",
    "# Values of PQD were arrived by trial and error while m is choosen to be 14 ( mulitple of 7)\n",
    "SARIMAX_model = SARIMAX(train['Sales'], order=(7, 0, 0),seasonal_order=(10,0,0, 14))\n",
    "SARIMAX_model_fit = SARIMAX_model.fit()\n",
    "print(SARIMAX_model_fit.params)"
   ]
  },
  {
   "cell_type": "code",
   "execution_count": null,
   "id": "485c656c",
   "metadata": {},
   "outputs": [],
   "source": [
    "sarima_pred = test.copy()\n",
    "sarima_pred['Sales'] = SARIMAX_model_fit.predict(test.index.min(), test.index.max())"
   ]
  },
  {
   "cell_type": "code",
   "execution_count": null,
   "id": "8b02ef43",
   "metadata": {},
   "outputs": [],
   "source": [
    "# plotting test and prediction graphs\n",
    "plot_train_test_pred(train,test,sarima_pred)"
   ]
  },
  {
   "cell_type": "code",
   "execution_count": null,
   "id": "777d3fea",
   "metadata": {},
   "outputs": [],
   "source": [
    "# calculating error metrics \n",
    "error_metrics=error_metrics_func('3','SARIMA',test,sarima_pred,error_metrics)\n",
    "error_metrics"
   ]
  },
  {
   "cell_type": "code",
   "execution_count": null,
   "id": "c61acf1b",
   "metadata": {},
   "outputs": [],
   "source": [
    "#SARIMAX,SArima model with p=14 , d=0 ( series was stationary without preprocessing) and q=0\n",
    "# Values of PQD were arrived by trial and error while m is choosen to be 14 ( mulitple of 7)\n",
    "\n",
    "SARIMAX_model = SARIMAX(train['Sales'], order=(1, 0, 0),seasonal_order=(7,0,0,7),exog=train[['DayOfWeek','Promo','Open','StateHoliday_0']])\n",
    "SARIMAX_model_fit = SARIMAX_model.fit()\n",
    "print(SARIMAX_model_fit.params)\n",
    "\n"
   ]
  },
  {
   "cell_type": "code",
   "execution_count": null,
   "id": "fd18fdd6",
   "metadata": {},
   "outputs": [],
   "source": [
    "sarimax_pred = test.copy()\n",
    "sarimax_pred['Sales'] = SARIMAX_model_fit.predict(test.index.min(), test.index.max(),exog=test[['DayOfWeek','Promo','Open','StateHoliday_0']])\n"
   ]
  },
  {
   "cell_type": "code",
   "execution_count": null,
   "id": "b233368f",
   "metadata": {},
   "outputs": [],
   "source": [
    "# plotting test and prediction graphs\n",
    "plot_train_test_pred(train,test,sarimax_pred)"
   ]
  },
  {
   "cell_type": "code",
   "execution_count": null,
   "id": "12a7eb94",
   "metadata": {},
   "outputs": [],
   "source": [
    "error_metrics=error_metrics_func('3','SARIMAX',test,sarimax_pred,error_metrics)\n",
    "error_metrics"
   ]
  },
  {
   "cell_type": "markdown",
   "id": "1d8938fb",
   "metadata": {},
   "source": [
    "#### VAR Model pre-requisites"
   ]
  },
  {
   "cell_type": "markdown",
   "id": "d2a08fde",
   "metadata": {},
   "source": [
    "check co-integration"
   ]
  },
  {
   "cell_type": "code",
   "execution_count": null,
   "id": "b68114af",
   "metadata": {},
   "outputs": [],
   "source": [
    "from statsmodels.tsa.vector_ar.vecm import select_coint_rank"
   ]
  },
  {
   "cell_type": "code",
   "execution_count": null,
   "id": "3161a181",
   "metadata": {},
   "outputs": [],
   "source": [
    "store_3"
   ]
  },
  {
   "cell_type": "code",
   "execution_count": null,
   "id": "b3b4ed01",
   "metadata": {},
   "outputs": [],
   "source": [
    "rank=select_coint_rank(store_3[['Sales','Customers','ASPC','DayOfWeek','Promo','Open','SchoolHoliday','StateHoliday_0']],-1,1)\n",
    "print('The rank of trace matrix is: {} while it has {} cols' .format(rank.rank,8))"
   ]
  },
  {
   "cell_type": "markdown",
   "id": "16b9af64",
   "metadata": {},
   "source": [
    "> Observation : We observe that the length of columns is not equal to rank, hence some of the elements are not con integerated. Hence by trial and error we identify the co-integerated ones"
   ]
  },
  {
   "cell_type": "code",
   "execution_count": null,
   "id": "e11981f8",
   "metadata": {},
   "outputs": [],
   "source": [
    "rank=select_coint_rank(store_3[['Sales','Customers','ASPC','DayOfWeek','Promo']],-1,1)\n",
    "print('The rank of trace matrix is: {} while it has {} cols' .format(rank.rank,5))"
   ]
  },
  {
   "cell_type": "markdown",
   "id": "9d79dd56",
   "metadata": {},
   "source": [
    "We know that, for 2 column trace matrix, If rank(π) = 2 ⇒ that there are unique values for \n",
    "ω\n",
    "1\n",
    " and \n",
    "ω\n",
    "2\n",
    " which is possible only when both \n",
    "y\n",
    "1\n",
    "t\n",
    " and \n",
    "y\n",
    "2\n",
    "t\n",
    " are stationary ⇒ \n",
    "y\n",
    "1\n",
    "t\n",
    " and \n",
    "y\n",
    "2\n",
    "t\n",
    " are not cointegrated ⇒ Since these are stationary, you can build a VAR/ VARMAX model"
   ]
  },
  {
   "cell_type": "markdown",
   "id": "733f4f70",
   "metadata": {},
   "source": [
    "Hence we can say that the columns 'Sales','Customers','ASPC','DayOfWeek','Promo' are all co-integerated and we can build a VAR Model without violating the principles"
   ]
  },
  {
   "cell_type": "markdown",
   "id": "be0d7b3e",
   "metadata": {},
   "source": [
    "#### Varma model"
   ]
  },
  {
   "cell_type": "markdown",
   "id": "ba160036",
   "metadata": {},
   "source": [
    "**NOTE** :\n",
    "To avoid spuroius relations ,We choose to consider only sales and customer as input series as both are correlated and can cause change in others. While the variables promo, dayofweek, open, stateholiday are not affected by sales or customers. However, ASPC is a simple combination of Sales and customers, we avoid using it."
   ]
  },
  {
   "cell_type": "code",
   "execution_count": null,
   "id": "e017f541",
   "metadata": {},
   "outputs": [],
   "source": [
    "# VARMA model\n",
    "\n",
    "VARMA_model = sm.tsa.VARMAX(train[['Sales', 'Customers']], order=(7,0), trend='n')\n",
    "VARMA_model_fit = VARMA_model.fit(maxiter=1000, disp=False)\n",
    "print(VARMA_model_fit.summary())"
   ]
  },
  {
   "cell_type": "code",
   "execution_count": null,
   "id": "66c6dc93",
   "metadata": {},
   "outputs": [],
   "source": [
    "start_index = test.index.min()\n",
    "end_index = test.index.max()\n",
    "varma_pred = VARMA_model_fit.predict(start=start_index, end=end_index)"
   ]
  },
  {
   "cell_type": "code",
   "execution_count": null,
   "id": "0acf90c4",
   "metadata": {},
   "outputs": [],
   "source": [
    "# plotting test and prediction graphs\n",
    "plot_train_test_pred(train,test,varma_pred)"
   ]
  },
  {
   "cell_type": "code",
   "execution_count": null,
   "id": "6455a84e",
   "metadata": {},
   "outputs": [],
   "source": [
    "# calculating error metrics \n",
    "error_metrics=error_metrics_func('3','varma',test,varma_pred,error_metrics)\n",
    "error_metrics"
   ]
  },
  {
   "cell_type": "markdown",
   "id": "4ae317b9",
   "metadata": {},
   "source": [
    "#### Varmax model "
   ]
  },
  {
   "cell_type": "code",
   "execution_count": null,
   "id": "23b211ff",
   "metadata": {},
   "outputs": [],
   "source": [
    "store_3.columns"
   ]
  },
  {
   "cell_type": "code",
   "execution_count": null,
   "id": "eddef0a4",
   "metadata": {
    "scrolled": false
   },
   "outputs": [],
   "source": [
    "# Varmax model\n",
    "Varmax_model = sm.tsa.VARMAX(train[['Sales', 'Customers', 'Promo']], order=(7,0), trend='n')\n",
    "Varmax_model_fit = Varmax_model.fit(maxiter=1000, disp=False)\n",
    "print(Varmax_model_fit.summary())"
   ]
  },
  {
   "cell_type": "code",
   "execution_count": null,
   "id": "bbbf4b10",
   "metadata": {},
   "outputs": [],
   "source": [
    "start_index = test.index.min()\n",
    "end_index = test.index.max()\n",
    "varmax_pred = Varmax_model_fit.predict(start=start_index, end=end_index)"
   ]
  },
  {
   "cell_type": "code",
   "execution_count": null,
   "id": "830bb07d",
   "metadata": {},
   "outputs": [],
   "source": [
    "# plotting test and prediction graphs\n",
    "plot_train_test_pred(train,test,varmax_pred)"
   ]
  },
  {
   "cell_type": "code",
   "execution_count": null,
   "id": "97186f60",
   "metadata": {},
   "outputs": [],
   "source": [
    "# calculating error metrics \n",
    "\n",
    "error_metrics=error_metrics_func('3','varmax includes promo',test,varmax_pred,error_metrics)\n",
    "\n",
    "error_metrics"
   ]
  },
  {
   "cell_type": "markdown",
   "id": "c082d440",
   "metadata": {},
   "source": [
    "#### Impulse response function "
   ]
  },
  {
   "cell_type": "code",
   "execution_count": null,
   "id": "34ab099d",
   "metadata": {},
   "outputs": [],
   "source": [
    "impulse_response_function_fig = Varmax_model_fit.impulse_responses(20, orthogonalized=True).plot(figsize=(20,8))\n",
    "impulse_response_function_fig.set(xlabel='t', title='Responses to a shock to `sales`');"
   ]
  },
  {
   "cell_type": "markdown",
   "id": "f8f6e8f0",
   "metadata": {},
   "source": [
    "> Observation:\n",
    "We observe that while sales and customer variable have significant impact in the time frame, the same cannot be said of PROMO"
   ]
  },
  {
   "cell_type": "markdown",
   "id": "8d0b07fb",
   "metadata": {},
   "source": [
    "#### Varmax with 'open' variable"
   ]
  },
  {
   "cell_type": "markdown",
   "id": "e868d46b",
   "metadata": {},
   "source": [
    "**NOTE** :\n",
    "To avoid spuroius relations ,We choose to consider only sales and customer as input series as both are correlated and can cause change in others. While the variables promo, dayofweek, open, stateholiday are not affected by sales or customers. We instead use them as exogeous variables. However, ASPC is a simple combination of Sales and customers, we avoid using it."
   ]
  },
  {
   "cell_type": "code",
   "execution_count": null,
   "id": "9c44e2cb",
   "metadata": {},
   "outputs": [],
   "source": [
    "# Varmax model\n",
    "Varmax_model = sm.tsa.VARMAX(train[['Sales', 'Customers']], order=(7,0), trend='n',exog=train[['Promo','SchoolHoliday','DayOfWeek','Open']])\n",
    "Varmax_model_fit = Varmax_model.fit(maxiter=1000, disp=False)\n",
    "print(Varmax_model_fit.summary())"
   ]
  },
  {
   "cell_type": "code",
   "execution_count": null,
   "id": "fbca92c3",
   "metadata": {},
   "outputs": [],
   "source": [
    "start_index = test.index.min()\n",
    "end_index = test.index.max()\n",
    "varmax_pred = Varmax_model_fit.predict(start=start_index, end=end_index,exog=test[['Promo','SchoolHoliday','DayOfWeek','Open']])"
   ]
  },
  {
   "cell_type": "code",
   "execution_count": null,
   "id": "2fa902d1",
   "metadata": {},
   "outputs": [],
   "source": [
    "# plotting test and prediction graphs\n",
    "plot_train_test_pred(train,test,varmax_pred)"
   ]
  },
  {
   "cell_type": "code",
   "execution_count": null,
   "id": "5f1111ed",
   "metadata": {},
   "outputs": [],
   "source": [
    "# calculating error metrics \n",
    "\n",
    "error_metrics=error_metrics_func('3','varmax includes open',test,varmax_pred,error_metrics)\n",
    "\n",
    "error_metrics"
   ]
  },
  {
   "cell_type": "markdown",
   "id": "db75ccb8",
   "metadata": {},
   "source": [
    "#### Impulse response function "
   ]
  },
  {
   "cell_type": "code",
   "execution_count": null,
   "id": "7e8ffed3",
   "metadata": {},
   "outputs": [],
   "source": [
    "impulse_response_function_fig = Varmax_model_fit.impulse_responses(20, orthogonalized=True,exog=['Promo','SchoolHoliday','DayOfWeek','Open']).plot(figsize=(20,8))\n",
    "impulse_response_function_fig.set(xlabel='t', title='Responses to a shock to `sales`');"
   ]
  },
  {
   "cell_type": "markdown",
   "id": "74642e43",
   "metadata": {},
   "source": [
    "> Observation:\n",
    "We observe that while sales and customer variable have significant impact in the time frame"
   ]
  },
  {
   "cell_type": "markdown",
   "id": "9e7b7e2c",
   "metadata": {},
   "source": [
    "#### Final varmax_model\n"
   ]
  },
  {
   "cell_type": "code",
   "execution_count": null,
   "id": "ad353d1c",
   "metadata": {},
   "outputs": [],
   "source": [
    "# Varmax model\n",
    "Varmax_model = sm.tsa.VARMAX(train[['Sales', 'Customers']], order=(7,0), trend='n',exog=train[['Promo','SchoolHoliday','DayOfWeek']])\n",
    "Varmax_model_fit = Varmax_model.fit(maxiter=1000, disp=False)\n",
    "print(Varmax_model_fit.summary())"
   ]
  },
  {
   "cell_type": "code",
   "execution_count": null,
   "id": "65211ad9",
   "metadata": {},
   "outputs": [],
   "source": [
    "start_index = test.index.min()\n",
    "end_index = test.index.max()\n",
    "varmax_pred = Varmax_model_fit.predict(start=start_index, end=end_index,exog=test[['Promo','SchoolHoliday','DayOfWeek']])"
   ]
  },
  {
   "cell_type": "code",
   "execution_count": null,
   "id": "18674540",
   "metadata": {},
   "outputs": [],
   "source": [
    "# plotting test and prediction graphs\n",
    "plot_train_test_pred(train,test,varmax_pred)"
   ]
  },
  {
   "cell_type": "code",
   "execution_count": null,
   "id": "c91ed139",
   "metadata": {},
   "outputs": [],
   "source": [
    "# calculating error metrics \n",
    "\n",
    "error_metrics=error_metrics_func('3','varmax',test,varmax_pred,error_metrics)\n",
    "\n",
    "error_metrics"
   ]
  },
  {
   "cell_type": "markdown",
   "id": "bde3c59a",
   "metadata": {},
   "source": [
    "#### Impulse response function "
   ]
  },
  {
   "cell_type": "code",
   "execution_count": null,
   "id": "6be1394d",
   "metadata": {},
   "outputs": [],
   "source": [
    "impulse_response_function_fig = Varmax_model_fit.impulse_responses(20, orthogonalized=True,exog=['Promo','SchoolHoliday','DayOfWeek']).plot(figsize=(20,8))\n",
    "impulse_response_function_fig.set(xlabel='t', title='Responses to a shock to `sales`');"
   ]
  },
  {
   "cell_type": "markdown",
   "id": "c583ec70",
   "metadata": {},
   "source": [
    "> Observation:\n",
    "We observe that while sales and customer variable have significant impact in the time frame"
   ]
  },
  {
   "cell_type": "markdown",
   "id": "633c1ae7",
   "metadata": {},
   "source": [
    "### Summary"
   ]
  },
  {
   "cell_type": "code",
   "execution_count": null,
   "id": "fafb4190",
   "metadata": {},
   "outputs": [],
   "source": [
    "error_metrics.sort_values(by='MAPE',ascending=True,inplace=True)\n",
    "error_metrics"
   ]
  },
  {
   "cell_type": "code",
   "execution_count": null,
   "id": "19ad2d7a",
   "metadata": {},
   "outputs": [],
   "source": [
    "# Saving top of each store value for final presentation\n",
    "top_model_for_each_store=pd.concat([top_model_for_each_store,error_metrics.head(1)])\n",
    "top_model_for_each_store"
   ]
  },
  {
   "cell_type": "markdown",
   "id": "8b5bf467",
   "metadata": {},
   "source": [
    "> Observation \n",
    "\n",
    "When the models are compare using MAPE metrics, we find that SARIMA is the best performing model. "
   ]
  },
  {
   "cell_type": "markdown",
   "id": "99f56da5",
   "metadata": {},
   "source": [
    "## Store 8\n"
   ]
  },
  {
   "cell_type": "code",
   "execution_count": null,
   "id": "d2293ff5",
   "metadata": {},
   "outputs": [],
   "source": [
    "# Sorting the data by date in ascending order and setting data as index column\n",
    "store_8.sort_values(by='Date',ascending=True,inplace=True)\n",
    "store_8.set_index(keys='Date',inplace=True)\n"
   ]
  },
  {
   "cell_type": "code",
   "execution_count": null,
   "id": "9122bb44",
   "metadata": {},
   "outputs": [],
   "source": [
    "store_8.nunique()"
   ]
  },
  {
   "cell_type": "markdown",
   "id": "f95497af",
   "metadata": {},
   "source": [
    "> Observation : It appears that only 3 variables are of continious type, and hence these are treated for outliers. Values above 99 percentile are capped"
   ]
  },
  {
   "cell_type": "code",
   "execution_count": null,
   "id": "4902fddc",
   "metadata": {},
   "outputs": [],
   "source": [
    "num_cont_cols=[\"Sales\", \"Customers\",'ASPC']\n",
    "\n",
    "#capping numerical columns to 0 and 99 percentiles\n",
    "for col in num_cont_cols:\n",
    "    hq=store_8[[col]].quantile(q=99/100).values[0]\n",
    "    store_8[col].apply(lambda x : hq if x > hq else x )"
   ]
  },
  {
   "cell_type": "code",
   "execution_count": null,
   "id": "c0c18d02",
   "metadata": {},
   "outputs": [],
   "source": [
    "# Visualising outliers\n",
    "plt.figure(figsize=(20,20))\n",
    "c=1\n",
    "for col in num_cont_cols:\n",
    "    plt.subplot(3,2,c)\n",
    "    sns.boxplot(x=store_8[col])\n",
    "    plt.title('Distribution of {}'.format(col))\n",
    "    c=c+1\n",
    "plt.show()"
   ]
  },
  {
   "cell_type": "code",
   "execution_count": null,
   "id": "2403479f",
   "metadata": {},
   "outputs": [],
   "source": [
    "# Standardising numerical columns\n",
    "scale = StandardScaler()\n",
    "store_8[[\"Sales\", \"Customers\",'ASPC']] = scale.fit_transform(store_8[[\"Sales\", \"Customers\",'ASPC']])\n",
    "\n",
    "store_8.describe()"
   ]
  },
  {
   "cell_type": "code",
   "execution_count": null,
   "id": "20fdb71f",
   "metadata": {},
   "outputs": [],
   "source": [
    "# Visualising data after standardising\n",
    "plt.figure(figsize=(20,20))\n",
    "c=1\n",
    "for col in num_cont_cols:\n",
    "    plt.subplot(3,2,c)\n",
    "    sns.distplot(x=store_8[col])\n",
    "    plt.title('Distribution of {}'.format(col))\n",
    "    c=c+1\n",
    "plt.show()"
   ]
  },
  {
   "cell_type": "markdown",
   "id": "da24d342",
   "metadata": {},
   "source": [
    "> Observation: \n",
    "we can obseve that the distplot shows a bi-modal plot. The major mode is normally distributed in all the 3 cases. However, this is not the case in the peak (where sales =0). This is because the store is closed on Sundays and hence has 0 sales. This is crucial information with respect to prediction, hence we choose to ignore it. "
   ]
  },
  {
   "cell_type": "markdown",
   "id": "9513844c",
   "metadata": {},
   "source": [
    "### Visualisation"
   ]
  },
  {
   "cell_type": "code",
   "execution_count": null,
   "id": "318c1d3f",
   "metadata": {},
   "outputs": [],
   "source": [
    "# Visualising the trend of sales\n",
    "\n",
    "store_8['Sales'].plot(figsize=(20, 4))\n",
    "plt.title('Sales')\n",
    "plt.show()\n",
    "\n",
    "plt.figure(figsize=(20, 4))\n",
    "sns.boxplot(x=store_8['Sales'])\n",
    "plt.title('Distribution of {}'.format('Sales'))\n",
    "plt.show()\n",
    "\n"
   ]
  },
  {
   "cell_type": "markdown",
   "id": "2410eae8",
   "metadata": {},
   "source": [
    "### Time series decomposition"
   ]
  },
  {
   "cell_type": "code",
   "execution_count": null,
   "id": "8eff9b2b",
   "metadata": {},
   "outputs": [],
   "source": [
    "rcParams['figure.figsize'] = (12, 8)\n",
    "decomposition = sm.tsa.seasonal_decompose(store_8.Sales, model='additive') # additive seasonal index\n",
    "fig = decomposition.plot()\n",
    "plt.show()"
   ]
  },
  {
   "cell_type": "markdown",
   "id": "9d4ca85c",
   "metadata": {},
   "source": [
    "> Observation : \n",
    "\n",
    "We observe that there is no significant pattern in the residuals, hence we select the additive model over the multiplicative model\n"
   ]
  },
  {
   "cell_type": "markdown",
   "id": "ff94d2d5",
   "metadata": {},
   "source": [
    "### Splitting data into test and train"
   ]
  },
  {
   "cell_type": "code",
   "execution_count": null,
   "id": "e1cf1681",
   "metadata": {},
   "outputs": [],
   "source": [
    "# Splitting dataset into test and train\n",
    "weeks=6\n",
    "n_of_obs=7*weeks#(7 days multiplied by 6 weeks)\n",
    "train = store_8.iloc[:len(store_8)-n_of_obs,:]\n",
    "test = store_8.iloc[len(store_8)-n_of_obs:,:]"
   ]
  },
  {
   "cell_type": "markdown",
   "id": "3c3c8e98",
   "metadata": {},
   "source": [
    "### Modelling"
   ]
  },
  {
   "cell_type": "code",
   "execution_count": null,
   "id": "903f18da",
   "metadata": {},
   "outputs": [],
   "source": [
    "# Custom function for plotting test and predicted output\n",
    "def plot_train_test_pred(train,test,pred):\n",
    "    plt.figure(figsize=(20,8))\n",
    "    plt.plot(test['Sales'],label='Test')\n",
    "    plt.plot(pred['Sales'],label='Predicted')\n",
    "    plt.legend()\n",
    "    plt.title('Comparing test and predicted values')\n",
    "    plt.show()"
   ]
  },
  {
   "cell_type": "code",
   "execution_count": null,
   "id": "88bea6e2",
   "metadata": {},
   "outputs": [],
   "source": [
    "# Custom function to calculate update error metrics\n",
    "def error_metrics_func(store,method,test, pred,error_metrics):\n",
    "    rmse=np.sqrt(mean_squared_error(test['Sales'],pred['Sales']))\n",
    "    mape=np.abs(np.mean(np.abs(test['Sales']-pred['Sales'])/test['Sales'])*100)\n",
    "    mae=mean_absolute_error(test['Sales'],pred['Sales'])\n",
    "    error=pd.DataFrame({'Store':[store],'Method':[method], 'MAPE': [mape], 'RMSE': [rmse], 'MAE': [mae]})\n",
    "    error_metrics=pd.concat([error_metrics,error])\n",
    "    return error_metrics\n",
    "    \n",
    "    "
   ]
  },
  {
   "cell_type": "code",
   "execution_count": null,
   "id": "1da00d32",
   "metadata": {},
   "outputs": [],
   "source": [
    "# Custom function to test stationarity at 0.95 confidence\n",
    "def stationary_test(df,col):\n",
    "    adf_test=adfuller(store_8[col])\n",
    "    print('='*116)\n",
    "    print('performing adf test on {}'. format(col))\n",
    "    print('ADF Stat:', adf_test[0])\n",
    "    print('Critical value at 0.05',adf_test[4]['5%'])\n",
    "    p_value=adf_test[1]\n",
    "    print('P-value:',adf_test[1])\n",
    "    print()\n",
    "    if p_value <0.05:\n",
    "        print('-> {} Series is stationary'.format(col))\n",
    "    else:\n",
    "        print('-> {} Series is not stationary'.format(col))\n",
    "    print('='*116)"
   ]
  },
  {
   "cell_type": "code",
   "execution_count": null,
   "id": "98cfc14f",
   "metadata": {},
   "outputs": [],
   "source": [
    "#  Initialising empty dataframe as error_metrics to be used later\n",
    "error_metrics=pd.DataFrame([])"
   ]
  },
  {
   "cell_type": "markdown",
   "id": "1a5783e1",
   "metadata": {},
   "source": [
    "#### Naive method\n",
    "We first start with the naive method"
   ]
  },
  {
   "cell_type": "code",
   "execution_count": null,
   "id": "3019c192",
   "metadata": {},
   "outputs": [],
   "source": [
    "# Naive Method\n",
    "naive_pred = test.copy()\n",
    "naive_pred['Sales'] = train['Sales'][n_of_obs-1]"
   ]
  },
  {
   "cell_type": "code",
   "execution_count": null,
   "id": "80bb93df",
   "metadata": {},
   "outputs": [],
   "source": [
    "# plotting test and prediction graphs\n",
    "plot_train_test_pred(train,test,naive_pred)"
   ]
  },
  {
   "cell_type": "code",
   "execution_count": null,
   "id": "21910910",
   "metadata": {},
   "outputs": [],
   "source": [
    "# calculating error metrics \n",
    "error_metrics=error_metrics_func('8','naive',test,naive_pred,error_metrics)\n",
    "error_metrics"
   ]
  },
  {
   "cell_type": "markdown",
   "id": "f9c95379",
   "metadata": {},
   "source": [
    "#### Simple moving average method\n",
    "\n",
    "We now attempt simple moving average model"
   ]
  },
  {
   "cell_type": "markdown",
   "id": "8fb858b4",
   "metadata": {},
   "source": [
    "on seeing the graph, it appears that the trend repeats after every 7 days, hence we keep the moving average also as 7 days"
   ]
  },
  {
   "cell_type": "code",
   "execution_count": null,
   "id": "ac7d9420",
   "metadata": {},
   "outputs": [],
   "source": [
    "ma_window=7"
   ]
  },
  {
   "cell_type": "code",
   "execution_count": null,
   "id": "b7586977",
   "metadata": {},
   "outputs": [],
   "source": [
    "# moving average method \n",
    "simple_moving_average_pred = test.copy()\n",
    "simple_moving_average_pred['Sales'] = store_8['Sales'].rolling(ma_window).mean()\n",
    "simple_moving_average_pred['Sales'][len(store_8)-n_of_obs:] = train['Sales'][n_of_obs-1]"
   ]
  },
  {
   "cell_type": "code",
   "execution_count": null,
   "id": "ed49f47d",
   "metadata": {},
   "outputs": [],
   "source": [
    "# plotting test and prediction graphs\n",
    "plot_train_test_pred(train,test,simple_moving_average_pred)"
   ]
  },
  {
   "cell_type": "code",
   "execution_count": null,
   "id": "36734639",
   "metadata": {},
   "outputs": [],
   "source": [
    "# calculating error metrics \n",
    "error_metrics=error_metrics_func('8','simple_moving_average',test,simple_moving_average_pred,error_metrics)\n",
    "\n",
    "error_metrics"
   ]
  },
  {
   "cell_type": "markdown",
   "id": "50a0cb93",
   "metadata": {},
   "source": [
    "#### holt winters method with additive trend and seasonality"
   ]
  },
  {
   "cell_type": "code",
   "execution_count": null,
   "id": "de75e65b",
   "metadata": {},
   "outputs": [],
   "source": [
    "# Attempting holt-winters additive trend with additive seasonality\n",
    "hwa_pred = test.copy()\n",
    "model = ExponentialSmoothing(np.asarray(train['Sales']) ,seasonal_periods=7 ,trend='add', seasonal='add')\n",
    "model_fit = model.fit(optimized=True)\n",
    "print(model_fit.params)\n",
    "hwa_pred['Sales'] = model_fit.forecast(42)"
   ]
  },
  {
   "cell_type": "code",
   "execution_count": null,
   "id": "efdf2b75",
   "metadata": {},
   "outputs": [],
   "source": [
    "# plotting test and prediction graphs\n",
    "plot_train_test_pred(train,test,hwa_pred)"
   ]
  },
  {
   "cell_type": "code",
   "execution_count": null,
   "id": "f3f583aa",
   "metadata": {},
   "outputs": [],
   "source": [
    "# calculating error metrics \n",
    "error_metrics=error_metrics_func('8','holt winters method with additive trend and seasonality',test,hwa_pred,error_metrics)\n",
    "error_metrics"
   ]
  },
  {
   "cell_type": "markdown",
   "id": "2559e68f",
   "metadata": {},
   "source": [
    "#### ARIMA family pre-requisites"
   ]
  },
  {
   "cell_type": "code",
   "execution_count": null,
   "id": "cd85e1ee",
   "metadata": {},
   "outputs": [],
   "source": [
    "# We perform the stationarity test on the numerical columns, Namely, Sales, Customers and ASPC\n",
    "\n",
    "stationary_test(store_8,'Sales')\n",
    "stationary_test(store_8,'Customers')\n",
    "stationary_test(store_8,'ASPC')\n",
    "stationary_test(store_8,'DayOfWeek')\n",
    "stationary_test(store_8,'Open')\n",
    "stationary_test(store_8,'Promo')"
   ]
  },
  {
   "cell_type": "markdown",
   "id": "4535cfbe",
   "metadata": {},
   "source": [
    "> Observation\n",
    "\n",
    "We find that all the desired endogenous variables are stationary with 95% confidence. This is acceptable for our study, hence we conclude that all the required series are stationary"
   ]
  },
  {
   "cell_type": "code",
   "execution_count": null,
   "id": "2b9caf8d",
   "metadata": {},
   "outputs": [],
   "source": [
    "# Plotting ACF graph to determin q\n",
    "plt.figure(figsize=(20,8))\n",
    "plot_acf(store_8['Customers'],ax=plt.gca(),lags=60)\n",
    "plt.show()"
   ]
  },
  {
   "cell_type": "markdown",
   "id": "649d5392",
   "metadata": {},
   "source": [
    "> Observation \n",
    "It is clearly seen that there is a seasonal pattern in the ACF  graph, hence we consider q to be 0"
   ]
  },
  {
   "cell_type": "code",
   "execution_count": null,
   "id": "1d937324",
   "metadata": {},
   "outputs": [],
   "source": [
    "# Plotting PACF graph to determine p \n",
    "plt.figure(figsize=(20,8))\n",
    "plot_pacf(store_8['Customers'],ax=plt.gca(),lags=60)\n",
    "plt.show()"
   ]
  },
  {
   "cell_type": "markdown",
   "id": "59997ce2",
   "metadata": {},
   "source": [
    "> Observation \n",
    "We observe that the graph dies down considerably after the 49th period. However, this would make our model very complex, hence we settle at a lower number of 14 after which the reduction in PACF values slows down"
   ]
  },
  {
   "cell_type": "markdown",
   "id": "c01b5454",
   "metadata": {},
   "source": [
    "#### Arima model"
   ]
  },
  {
   "cell_type": "code",
   "execution_count": null,
   "id": "85ea2a99",
   "metadata": {
    "scrolled": true
   },
   "outputs": [],
   "source": [
    "# Arima model with p=14 , d=0 ( series was stationary without preprocessing) and q=0\n",
    "arima_model = SARIMAX(train['Sales'], order=(14, 0, 0))\n",
    "arima_model_fit = arima_model.fit()\n",
    "print(arima_model_fit.params)"
   ]
  },
  {
   "cell_type": "code",
   "execution_count": null,
   "id": "e7278bb3",
   "metadata": {},
   "outputs": [],
   "source": [
    "arima_pred = test.copy()\n",
    "arima_pred['Sales'] = arima_model_fit.predict(test.index.min(), test.index.max())"
   ]
  },
  {
   "cell_type": "code",
   "execution_count": null,
   "id": "eb6b6ec6",
   "metadata": {},
   "outputs": [],
   "source": [
    "# plotting test and prediction graphs\n",
    "plot_train_test_pred(train,test,arima_pred)"
   ]
  },
  {
   "cell_type": "code",
   "execution_count": null,
   "id": "035ef69f",
   "metadata": {},
   "outputs": [],
   "source": [
    "# calculating error metrics \n",
    "error_metrics=error_metrics_func('8','ARIMA',test,arima_pred,error_metrics)\n",
    "error_metrics"
   ]
  },
  {
   "cell_type": "code",
   "execution_count": null,
   "id": "31d8e784",
   "metadata": {},
   "outputs": [],
   "source": [
    "#SARIMA,SArima model with p=7 , d=0 ( series was stationary without preprocessing) and q=0\n",
    "# Values of PQD were arrived by trial and error while m is choosen to be 14 ( mulitple of 7)\n",
    "SARIMAX_model = SARIMAX(train['Sales'], order=(7, 0, 0),seasonal_order=(10,0,0, 14))\n",
    "SARIMAX_model_fit = SARIMAX_model.fit()\n",
    "print(SARIMAX_model_fit.params)"
   ]
  },
  {
   "cell_type": "code",
   "execution_count": null,
   "id": "fde5e636",
   "metadata": {},
   "outputs": [],
   "source": [
    "sarima_pred = test.copy()\n",
    "sarima_pred['Sales'] = SARIMAX_model_fit.predict(test.index.min(), test.index.max())"
   ]
  },
  {
   "cell_type": "code",
   "execution_count": null,
   "id": "4de6c736",
   "metadata": {},
   "outputs": [],
   "source": [
    "# plotting test and prediction graphs\n",
    "plot_train_test_pred(train,test,sarima_pred)"
   ]
  },
  {
   "cell_type": "code",
   "execution_count": null,
   "id": "7d59b151",
   "metadata": {},
   "outputs": [],
   "source": [
    "# calculating error metrics \n",
    "error_metrics=error_metrics_func('8','SARIMA',test,sarima_pred,error_metrics)\n",
    "error_metrics"
   ]
  },
  {
   "cell_type": "code",
   "execution_count": null,
   "id": "100f054e",
   "metadata": {},
   "outputs": [],
   "source": [
    "#SARIMAX,SArima model with p=14 , d=0 ( series was stationary without preprocessing) and q=0\n",
    "# Values of PQD were arrived by trial and error while m is choosen to be 14 ( mulitple of 7)\n",
    "\n",
    "SARIMAX_model = SARIMAX(train['Sales'], order=(1, 0, 0),seasonal_order=(7,0,0,7),exog=train[['DayOfWeek','Promo','Open','StateHoliday_0']])\n",
    "SARIMAX_model_fit = SARIMAX_model.fit()\n",
    "print(SARIMAX_model_fit.params)\n",
    "\n"
   ]
  },
  {
   "cell_type": "code",
   "execution_count": null,
   "id": "0a2a30c6",
   "metadata": {},
   "outputs": [],
   "source": [
    "sarimax_pred = test.copy()\n",
    "sarimax_pred['Sales'] = SARIMAX_model_fit.predict(test.index.min(), test.index.max(),exog=test[['DayOfWeek','Promo','Open','StateHoliday_0']])\n"
   ]
  },
  {
   "cell_type": "code",
   "execution_count": null,
   "id": "7c6faf2b",
   "metadata": {},
   "outputs": [],
   "source": [
    "# plotting test and prediction graphs\n",
    "plot_train_test_pred(train,test,sarimax_pred)"
   ]
  },
  {
   "cell_type": "code",
   "execution_count": null,
   "id": "f240b96a",
   "metadata": {},
   "outputs": [],
   "source": [
    "error_metrics=error_metrics_func('8','SARIMAX',test,sarimax_pred,error_metrics)\n",
    "error_metrics"
   ]
  },
  {
   "cell_type": "markdown",
   "id": "1d64e587",
   "metadata": {},
   "source": [
    "#### VAR Model pre-requisites"
   ]
  },
  {
   "cell_type": "markdown",
   "id": "0eb973ab",
   "metadata": {},
   "source": [
    "check co-integration"
   ]
  },
  {
   "cell_type": "code",
   "execution_count": null,
   "id": "1c16caa1",
   "metadata": {},
   "outputs": [],
   "source": [
    "from statsmodels.tsa.vector_ar.vecm import select_coint_rank"
   ]
  },
  {
   "cell_type": "code",
   "execution_count": null,
   "id": "48c4cda2",
   "metadata": {},
   "outputs": [],
   "source": [
    "store_8"
   ]
  },
  {
   "cell_type": "code",
   "execution_count": null,
   "id": "c1f7e434",
   "metadata": {},
   "outputs": [],
   "source": [
    "rank=select_coint_rank(store_8[['Sales','Customers','ASPC','DayOfWeek','Promo','Open','SchoolHoliday','StateHoliday_0']],-1,1)\n",
    "print('The rank of trace matrix is: {} while it has {} cols' .format(rank.rank,8))"
   ]
  },
  {
   "cell_type": "markdown",
   "id": "fb11d856",
   "metadata": {},
   "source": [
    "> Observation : We observe that the length of columns is not equal to rank, hence some of the elements are not con integerated. Hence by trial and error we identify the co-integerated ones"
   ]
  },
  {
   "cell_type": "code",
   "execution_count": null,
   "id": "1400ebad",
   "metadata": {},
   "outputs": [],
   "source": [
    "rank=select_coint_rank(store_8[['Sales','Customers','ASPC','DayOfWeek','Promo']],-1,1)\n",
    "print('The rank of trace matrix is: {} while it has {} cols' .format(rank.rank,5))"
   ]
  },
  {
   "cell_type": "markdown",
   "id": "0e6792f3",
   "metadata": {},
   "source": [
    "We know that, for 2 column trace matrix, If rank(π) = 2 ⇒ that there are unique values for \n",
    "ω\n",
    "1\n",
    " and \n",
    "ω\n",
    "2\n",
    " which is possible only when both \n",
    "y\n",
    "1\n",
    "t\n",
    " and \n",
    "y\n",
    "2\n",
    "t\n",
    " are stationary ⇒ \n",
    "y\n",
    "1\n",
    "t\n",
    " and \n",
    "y\n",
    "2\n",
    "t\n",
    " are not cointegrated ⇒ Since these are stationary, you can build a VAR/ VARMAX model"
   ]
  },
  {
   "cell_type": "markdown",
   "id": "77fda674",
   "metadata": {},
   "source": [
    "Hence we can say that the columns 'Sales','Customers','ASPC','DayOfWeek','Promo' are all co-integerated and we can build a VAR Model without violating the principles"
   ]
  },
  {
   "cell_type": "markdown",
   "id": "4d980b0b",
   "metadata": {},
   "source": [
    "#### Varma model"
   ]
  },
  {
   "cell_type": "markdown",
   "id": "009f0873",
   "metadata": {},
   "source": [
    "**NOTE** :\n",
    "To avoid spuroius relations ,We choose to consider only sales and customer as input series as both are correlated and can cause change in others. While the variables promo, dayofweek, open, stateholiday are not affected by sales or customers. However, ASPC is a simple combination of Sales and customers, we avoid using it."
   ]
  },
  {
   "cell_type": "code",
   "execution_count": null,
   "id": "05d9cef8",
   "metadata": {},
   "outputs": [],
   "source": [
    "# VARMA model\n",
    "\n",
    "VARMA_model = sm.tsa.VARMAX(train[['Sales', 'Customers']], order=(7,0), trend='n')\n",
    "VARMA_model_fit = VARMA_model.fit(maxiter=1000, disp=False)\n",
    "print(VARMA_model_fit.summary())"
   ]
  },
  {
   "cell_type": "code",
   "execution_count": null,
   "id": "152f7266",
   "metadata": {},
   "outputs": [],
   "source": [
    "start_index = test.index.min()\n",
    "end_index = test.index.max()\n",
    "varma_pred = VARMA_model_fit.predict(start=start_index, end=end_index)"
   ]
  },
  {
   "cell_type": "code",
   "execution_count": null,
   "id": "d1380a64",
   "metadata": {},
   "outputs": [],
   "source": [
    "# plotting test and prediction graphs\n",
    "plot_train_test_pred(train,test,varma_pred)"
   ]
  },
  {
   "cell_type": "code",
   "execution_count": null,
   "id": "492dc9b8",
   "metadata": {},
   "outputs": [],
   "source": [
    "# calculating error metrics \n",
    "error_metrics=error_metrics_func('8','varma',test,varma_pred,error_metrics)\n",
    "error_metrics"
   ]
  },
  {
   "cell_type": "markdown",
   "id": "3aac5771",
   "metadata": {},
   "source": [
    "#### Varmax model "
   ]
  },
  {
   "cell_type": "code",
   "execution_count": null,
   "id": "982ea184",
   "metadata": {},
   "outputs": [],
   "source": [
    "store_8.columns"
   ]
  },
  {
   "cell_type": "code",
   "execution_count": null,
   "id": "c06701e6",
   "metadata": {
    "scrolled": false
   },
   "outputs": [],
   "source": [
    "# Varmax model\n",
    "Varmax_model = sm.tsa.VARMAX(train[['Sales', 'Customers', 'Promo']], order=(7,0), trend='n')\n",
    "Varmax_model_fit = Varmax_model.fit(maxiter=1000, disp=False)\n",
    "print(Varmax_model_fit.summary())"
   ]
  },
  {
   "cell_type": "code",
   "execution_count": null,
   "id": "d7bbea08",
   "metadata": {},
   "outputs": [],
   "source": [
    "start_index = test.index.min()\n",
    "end_index = test.index.max()\n",
    "varmax_pred = Varmax_model_fit.predict(start=start_index, end=end_index)"
   ]
  },
  {
   "cell_type": "code",
   "execution_count": null,
   "id": "41b54c0e",
   "metadata": {},
   "outputs": [],
   "source": [
    "# plotting test and prediction graphs\n",
    "plot_train_test_pred(train,test,varmax_pred)"
   ]
  },
  {
   "cell_type": "code",
   "execution_count": null,
   "id": "8bd4fbee",
   "metadata": {},
   "outputs": [],
   "source": [
    "# calculating error metrics \n",
    "\n",
    "error_metrics=error_metrics_func('8','varmax includes promo',test,varmax_pred,error_metrics)\n",
    "\n",
    "error_metrics"
   ]
  },
  {
   "cell_type": "markdown",
   "id": "d6e511e1",
   "metadata": {},
   "source": [
    "#### Impulse response function "
   ]
  },
  {
   "cell_type": "code",
   "execution_count": null,
   "id": "d724f880",
   "metadata": {},
   "outputs": [],
   "source": [
    "impulse_response_function_fig = Varmax_model_fit.impulse_responses(20, orthogonalized=True).plot(figsize=(20,8))\n",
    "impulse_response_function_fig.set(xlabel='t', title='Responses to a shock to `sales`');"
   ]
  },
  {
   "cell_type": "markdown",
   "id": "c1d37a9b",
   "metadata": {},
   "source": [
    "> Observation:\n",
    "We observe that while sales and customer variable have significant impact in the time frame, the same cannot be said of PROMO"
   ]
  },
  {
   "cell_type": "markdown",
   "id": "b93d8ac5",
   "metadata": {},
   "source": [
    "#### Varmax with 'open' variable"
   ]
  },
  {
   "cell_type": "markdown",
   "id": "49317929",
   "metadata": {},
   "source": [
    "**NOTE** :\n",
    "To avoid spuroius relations ,We choose to consider only sales and customer as input series as both are correlated and can cause change in others. While the variables promo, dayofweek, open, stateholiday are not affected by sales or customers. We instead use them as exogeous variables. However, ASPC is a simple combination of Sales and customers, we avoid using it."
   ]
  },
  {
   "cell_type": "code",
   "execution_count": null,
   "id": "bebd5b5e",
   "metadata": {},
   "outputs": [],
   "source": [
    "# Varmax model\n",
    "Varmax_model = sm.tsa.VARMAX(train[['Sales', 'Customers']], order=(7,0), trend='n',exog=train[['Promo','SchoolHoliday','DayOfWeek','Open']])\n",
    "Varmax_model_fit = Varmax_model.fit(maxiter=1000, disp=False)\n",
    "print(Varmax_model_fit.summary())"
   ]
  },
  {
   "cell_type": "code",
   "execution_count": null,
   "id": "ed23b077",
   "metadata": {},
   "outputs": [],
   "source": [
    "start_index = test.index.min()\n",
    "end_index = test.index.max()\n",
    "varmax_pred = Varmax_model_fit.predict(start=start_index, end=end_index,exog=test[['Promo','SchoolHoliday','DayOfWeek','Open']])"
   ]
  },
  {
   "cell_type": "code",
   "execution_count": null,
   "id": "8eb9e1a4",
   "metadata": {},
   "outputs": [],
   "source": [
    "# plotting test and prediction graphs\n",
    "plot_train_test_pred(train,test,varmax_pred)"
   ]
  },
  {
   "cell_type": "code",
   "execution_count": null,
   "id": "af20e937",
   "metadata": {},
   "outputs": [],
   "source": [
    "# calculating error metrics \n",
    "\n",
    "error_metrics=error_metrics_func('8','varmax includes open',test,varmax_pred,error_metrics)\n",
    "\n",
    "error_metrics"
   ]
  },
  {
   "cell_type": "markdown",
   "id": "45c92911",
   "metadata": {},
   "source": [
    "#### Impulse response function "
   ]
  },
  {
   "cell_type": "code",
   "execution_count": null,
   "id": "6c23c598",
   "metadata": {},
   "outputs": [],
   "source": [
    "impulse_response_function_fig = Varmax_model_fit.impulse_responses(20, orthogonalized=True,exog=['Promo','SchoolHoliday','DayOfWeek','Open']).plot(figsize=(20,8))\n",
    "impulse_response_function_fig.set(xlabel='t', title='Responses to a shock to `sales`');"
   ]
  },
  {
   "cell_type": "markdown",
   "id": "8a78cf9c",
   "metadata": {},
   "source": [
    "> Observation:\n",
    "We observe that while sales and customer variable have significant impact in the time frame"
   ]
  },
  {
   "cell_type": "markdown",
   "id": "4af38251",
   "metadata": {},
   "source": [
    "#### Final varmax_model\n"
   ]
  },
  {
   "cell_type": "code",
   "execution_count": null,
   "id": "01eefbb0",
   "metadata": {},
   "outputs": [],
   "source": [
    "# Varmax model\n",
    "Varmax_model = sm.tsa.VARMAX(train[['Sales', 'Customers']], order=(7,0), trend='n',exog=train[['Promo','SchoolHoliday','DayOfWeek']])\n",
    "Varmax_model_fit = Varmax_model.fit(maxiter=1000, disp=False)\n",
    "print(Varmax_model_fit.summary())"
   ]
  },
  {
   "cell_type": "code",
   "execution_count": null,
   "id": "9b98eb34",
   "metadata": {},
   "outputs": [],
   "source": [
    "start_index = test.index.min()\n",
    "end_index = test.index.max()\n",
    "varmax_pred = Varmax_model_fit.predict(start=start_index, end=end_index,exog=test[['Promo','SchoolHoliday','DayOfWeek']])"
   ]
  },
  {
   "cell_type": "code",
   "execution_count": null,
   "id": "7b68de3b",
   "metadata": {},
   "outputs": [],
   "source": [
    "# plotting test and prediction graphs\n",
    "plot_train_test_pred(train,test,varmax_pred)"
   ]
  },
  {
   "cell_type": "code",
   "execution_count": null,
   "id": "608ee0ff",
   "metadata": {},
   "outputs": [],
   "source": [
    "# calculating error metrics \n",
    "\n",
    "error_metrics=error_metrics_func('8','varmax',test,varmax_pred,error_metrics)\n",
    "\n",
    "error_metrics"
   ]
  },
  {
   "cell_type": "markdown",
   "id": "3fb5f00b",
   "metadata": {},
   "source": [
    "#### Impulse response function "
   ]
  },
  {
   "cell_type": "code",
   "execution_count": null,
   "id": "2f8eebcf",
   "metadata": {},
   "outputs": [],
   "source": [
    "impulse_response_function_fig = Varmax_model_fit.impulse_responses(20, orthogonalized=True,exog=['Promo','SchoolHoliday','DayOfWeek']).plot(figsize=(20,8))\n",
    "impulse_response_function_fig.set(xlabel='t', title='Responses to a shock to `sales`');"
   ]
  },
  {
   "cell_type": "markdown",
   "id": "82f016e4",
   "metadata": {},
   "source": [
    "> Observation:\n",
    "We observe that while sales and customer variable have significant impact in the time frame"
   ]
  },
  {
   "cell_type": "markdown",
   "id": "70773ebf",
   "metadata": {},
   "source": [
    "### Summary"
   ]
  },
  {
   "cell_type": "code",
   "execution_count": null,
   "id": "9efa954c",
   "metadata": {},
   "outputs": [],
   "source": [
    "error_metrics.sort_values(by='MAPE',ascending=True,inplace=True)\n",
    "error_metrics"
   ]
  },
  {
   "cell_type": "code",
   "execution_count": null,
   "id": "1f74ad7a",
   "metadata": {},
   "outputs": [],
   "source": [
    "# Saving top of each store value for final presentation\n",
    "top_model_for_each_store=pd.concat([top_model_for_each_store,error_metrics.head(1)])\n",
    "top_model_for_each_store"
   ]
  },
  {
   "cell_type": "markdown",
   "id": "2a7562c4",
   "metadata": {},
   "source": [
    "> Observation \n",
    "\n",
    "When the models are compare using MAPE metrics, we find that simple moving average is the best performing model. "
   ]
  },
  {
   "cell_type": "markdown",
   "id": "043349d4",
   "metadata": {},
   "source": [
    "## Store 9\n"
   ]
  },
  {
   "cell_type": "code",
   "execution_count": null,
   "id": "cd431aad",
   "metadata": {},
   "outputs": [],
   "source": [
    "# Sorting the data by date in ascending order and setting data as index column\n",
    "store_9.sort_values(by='Date',ascending=True,inplace=True)\n",
    "store_9.set_index(keys='Date',inplace=True)\n"
   ]
  },
  {
   "cell_type": "code",
   "execution_count": null,
   "id": "4a6a5f52",
   "metadata": {},
   "outputs": [],
   "source": [
    "store_9.nunique()"
   ]
  },
  {
   "cell_type": "markdown",
   "id": "47587b1a",
   "metadata": {},
   "source": [
    "> Observation : It appears that only 3 variables are of continious type, and hence these are treated for outliers. Values above 99 percentile are capped"
   ]
  },
  {
   "cell_type": "code",
   "execution_count": null,
   "id": "14e1dd0e",
   "metadata": {},
   "outputs": [],
   "source": [
    "num_cont_cols=[\"Sales\", \"Customers\",'ASPC']\n",
    "\n",
    "#capping numerical columns to 0 and 99 percentiles\n",
    "for col in num_cont_cols:\n",
    "    hq=store_9[[col]].quantile(q=99/100).values[0]\n",
    "    store_9[col].apply(lambda x : hq if x > hq else x )"
   ]
  },
  {
   "cell_type": "code",
   "execution_count": null,
   "id": "db1849b1",
   "metadata": {},
   "outputs": [],
   "source": [
    "# Visualising outliers\n",
    "plt.figure(figsize=(20,20))\n",
    "c=1\n",
    "for col in num_cont_cols:\n",
    "    plt.subplot(3,2,c)\n",
    "    sns.boxplot(x=store_9[col])\n",
    "    plt.title('Distribution of {}'.format(col))\n",
    "    c=c+1\n",
    "plt.show()"
   ]
  },
  {
   "cell_type": "code",
   "execution_count": null,
   "id": "85124ad1",
   "metadata": {},
   "outputs": [],
   "source": [
    "# Standardising numerical columns\n",
    "scale = StandardScaler()\n",
    "store_9[[\"Sales\", \"Customers\",'ASPC']] = scale.fit_transform(store_9[[\"Sales\", \"Customers\",'ASPC']])\n",
    "\n",
    "store_9.describe()"
   ]
  },
  {
   "cell_type": "code",
   "execution_count": null,
   "id": "53a810ad",
   "metadata": {},
   "outputs": [],
   "source": [
    "# Visualising data after standardising\n",
    "plt.figure(figsize=(20,20))\n",
    "c=1\n",
    "for col in num_cont_cols:\n",
    "    plt.subplot(3,2,c)\n",
    "    sns.distplot(x=store_9[col])\n",
    "    plt.title('Distribution of {}'.format(col))\n",
    "    c=c+1\n",
    "plt.show()"
   ]
  },
  {
   "cell_type": "markdown",
   "id": "6c9c0c32",
   "metadata": {},
   "source": [
    "> Observation: \n",
    "we can obseve that the distplot shows a bi-modal plot. The major mode is normally distributed in all the 3 cases. However, this is not the case in the peak (where sales =0). This is because the store is closed on Sundays and hence has 0 sales. This is crucial information with respect to prediction, hence we choose to ignore it. "
   ]
  },
  {
   "cell_type": "markdown",
   "id": "0a5acefb",
   "metadata": {},
   "source": [
    "### Visualisation"
   ]
  },
  {
   "cell_type": "code",
   "execution_count": null,
   "id": "41d86c5c",
   "metadata": {},
   "outputs": [],
   "source": [
    "# Visualising the trend of sales\n",
    "\n",
    "store_9['Sales'].plot(figsize=(20, 4))\n",
    "plt.title('Sales')\n",
    "plt.show()\n",
    "\n",
    "plt.figure(figsize=(20, 4))\n",
    "sns.boxplot(x=store_9['Sales'])\n",
    "plt.title('Distribution of {}'.format('Sales'))\n",
    "plt.show()\n",
    "\n"
   ]
  },
  {
   "cell_type": "markdown",
   "id": "35e3ba15",
   "metadata": {},
   "source": [
    "### Time series decomposition"
   ]
  },
  {
   "cell_type": "code",
   "execution_count": null,
   "id": "9cfb9c69",
   "metadata": {},
   "outputs": [],
   "source": [
    "rcParams['figure.figsize'] = (12, 8)\n",
    "decomposition = sm.tsa.seasonal_decompose(store_9.Sales, model='additive') # additive seasonal index\n",
    "fig = decomposition.plot()\n",
    "plt.show()"
   ]
  },
  {
   "cell_type": "markdown",
   "id": "92440205",
   "metadata": {},
   "source": [
    "> Observation : \n",
    "\n",
    "We observe that there is no significant pattern in the residuals, hence we select the additive model over the multiplicative model\n"
   ]
  },
  {
   "cell_type": "markdown",
   "id": "55025801",
   "metadata": {},
   "source": [
    "### Splitting data into test and train"
   ]
  },
  {
   "cell_type": "code",
   "execution_count": null,
   "id": "91a418f6",
   "metadata": {},
   "outputs": [],
   "source": [
    "# Splitting dataset into test and train\n",
    "weeks=6\n",
    "n_of_obs=7*weeks#(7 days multiplied by 6 weeks)\n",
    "train = store_9.iloc[:len(store_9)-n_of_obs,:]\n",
    "test = store_9.iloc[len(store_9)-n_of_obs:,:]"
   ]
  },
  {
   "cell_type": "markdown",
   "id": "8d227333",
   "metadata": {},
   "source": [
    "### Modelling"
   ]
  },
  {
   "cell_type": "code",
   "execution_count": null,
   "id": "2edf9fee",
   "metadata": {},
   "outputs": [],
   "source": [
    "# Custom function for plotting test and predicted output\n",
    "def plot_train_test_pred(train,test,pred):\n",
    "    plt.figure(figsize=(20,8))\n",
    "    plt.plot(test['Sales'],label='Test')\n",
    "    plt.plot(pred['Sales'],label='Predicted')\n",
    "    plt.legend()\n",
    "    plt.title('Comparing test and predicted values')\n",
    "    plt.show()"
   ]
  },
  {
   "cell_type": "code",
   "execution_count": null,
   "id": "865160dd",
   "metadata": {},
   "outputs": [],
   "source": [
    "# Custom function to calculate update error metrics\n",
    "def error_metrics_func(store,method,test, pred,error_metrics):\n",
    "    rmse=np.sqrt(mean_squared_error(test['Sales'],pred['Sales']))\n",
    "    mape=np.abs(np.mean(np.abs(test['Sales']-pred['Sales'])/test['Sales'])*100)\n",
    "    mae=mean_absolute_error(test['Sales'],pred['Sales'])\n",
    "    error=pd.DataFrame({'Store':[store],'Method':[method], 'MAPE': [mape], 'RMSE': [rmse], 'MAE': [mae]})\n",
    "    error_metrics=pd.concat([error_metrics,error])\n",
    "    return error_metrics\n",
    "    \n",
    "    "
   ]
  },
  {
   "cell_type": "code",
   "execution_count": null,
   "id": "0b8b09eb",
   "metadata": {},
   "outputs": [],
   "source": [
    "# Custom function to test stationarity at 0.95 confidence\n",
    "def stationary_test(df,col):\n",
    "    adf_test=adfuller(store_9[col])\n",
    "    print('='*116)\n",
    "    print('performing adf test on {}'. format(col))\n",
    "    print('ADF Stat:', adf_test[0])\n",
    "    print('Critical value at 0.05',adf_test[4]['5%'])\n",
    "    p_value=adf_test[1]\n",
    "    print('P-value:',adf_test[1])\n",
    "    print()\n",
    "    if p_value <0.05:\n",
    "        print('-> {} Series is stationary'.format(col))\n",
    "    else:\n",
    "        print('-> {} Series is not stationary'.format(col))\n",
    "    print('='*116)"
   ]
  },
  {
   "cell_type": "code",
   "execution_count": null,
   "id": "d8002b44",
   "metadata": {},
   "outputs": [],
   "source": [
    "#  Initialising empty dataframe as error_metrics to be used later\n",
    "error_metrics=pd.DataFrame([])"
   ]
  },
  {
   "cell_type": "markdown",
   "id": "30e669c7",
   "metadata": {},
   "source": [
    "#### Naive method\n",
    "We first start with the naive method"
   ]
  },
  {
   "cell_type": "code",
   "execution_count": null,
   "id": "16c044a1",
   "metadata": {},
   "outputs": [],
   "source": [
    "# Naive Method\n",
    "naive_pred = test.copy()\n",
    "naive_pred['Sales'] = train['Sales'][n_of_obs-1]"
   ]
  },
  {
   "cell_type": "code",
   "execution_count": null,
   "id": "1af97cc6",
   "metadata": {},
   "outputs": [],
   "source": [
    "# plotting test and prediction graphs\n",
    "plot_train_test_pred(train,test,naive_pred)"
   ]
  },
  {
   "cell_type": "code",
   "execution_count": null,
   "id": "ee3b9bea",
   "metadata": {},
   "outputs": [],
   "source": [
    "# calculating error metrics \n",
    "error_metrics=error_metrics_func('9','naive',test,naive_pred,error_metrics)\n",
    "error_metrics"
   ]
  },
  {
   "cell_type": "markdown",
   "id": "f9ba37af",
   "metadata": {},
   "source": [
    "#### Simple moving average method\n",
    "\n",
    "We now attempt simple moving average model"
   ]
  },
  {
   "cell_type": "markdown",
   "id": "609c09e1",
   "metadata": {},
   "source": [
    "on seeing the graph, it appears that the trend repeats after every 7 days, hence we keep the moving average also as 7 days"
   ]
  },
  {
   "cell_type": "code",
   "execution_count": null,
   "id": "7414b800",
   "metadata": {},
   "outputs": [],
   "source": [
    "ma_window=7"
   ]
  },
  {
   "cell_type": "code",
   "execution_count": null,
   "id": "287e5d5f",
   "metadata": {},
   "outputs": [],
   "source": [
    "# moving average method \n",
    "simple_moving_average_pred = test.copy()\n",
    "simple_moving_average_pred['Sales'] = store_9['Sales'].rolling(ma_window).mean()\n",
    "simple_moving_average_pred['Sales'][len(store_9)-n_of_obs:] = train['Sales'][n_of_obs-1]"
   ]
  },
  {
   "cell_type": "code",
   "execution_count": null,
   "id": "886cd140",
   "metadata": {},
   "outputs": [],
   "source": [
    "# plotting test and prediction graphs\n",
    "plot_train_test_pred(train,test,simple_moving_average_pred)"
   ]
  },
  {
   "cell_type": "code",
   "execution_count": null,
   "id": "e446d10f",
   "metadata": {},
   "outputs": [],
   "source": [
    "# calculating error metrics \n",
    "error_metrics=error_metrics_func('9','simple_moving_average',test,simple_moving_average_pred,error_metrics)\n",
    "\n",
    "error_metrics"
   ]
  },
  {
   "cell_type": "markdown",
   "id": "aca59ba3",
   "metadata": {},
   "source": [
    "#### holt winters method with additive trend and seasonality"
   ]
  },
  {
   "cell_type": "code",
   "execution_count": null,
   "id": "3d933df5",
   "metadata": {},
   "outputs": [],
   "source": [
    "# Attempting holt-winters additive trend with additive seasonality\n",
    "hwa_pred = test.copy()\n",
    "model = ExponentialSmoothing(np.asarray(train['Sales']) ,seasonal_periods=7 ,trend='add', seasonal='add')\n",
    "model_fit = model.fit(optimized=True)\n",
    "print(model_fit.params)\n",
    "hwa_pred['Sales'] = model_fit.forecast(42)"
   ]
  },
  {
   "cell_type": "code",
   "execution_count": null,
   "id": "a9c60485",
   "metadata": {},
   "outputs": [],
   "source": [
    "# plotting test and prediction graphs\n",
    "plot_train_test_pred(train,test,hwa_pred)"
   ]
  },
  {
   "cell_type": "code",
   "execution_count": null,
   "id": "1375926d",
   "metadata": {},
   "outputs": [],
   "source": [
    "# calculating error metrics \n",
    "error_metrics=error_metrics_func('9','holt winters method with additive trend and seasonality',test,hwa_pred,error_metrics)\n",
    "error_metrics"
   ]
  },
  {
   "cell_type": "markdown",
   "id": "89f28c0d",
   "metadata": {},
   "source": [
    "#### ARIMA family pre-requisites"
   ]
  },
  {
   "cell_type": "code",
   "execution_count": null,
   "id": "c80ef293",
   "metadata": {},
   "outputs": [],
   "source": [
    "# We perform the stationarity test on the numerical columns, Namely, Sales, Customers and ASPC\n",
    "\n",
    "stationary_test(store_9,'Sales')\n",
    "stationary_test(store_9,'Customers')\n",
    "stationary_test(store_9,'ASPC')\n",
    "stationary_test(store_9,'DayOfWeek')\n",
    "stationary_test(store_9,'Open')\n",
    "stationary_test(store_9,'Promo')"
   ]
  },
  {
   "cell_type": "markdown",
   "id": "f717aeec",
   "metadata": {},
   "source": [
    "> Observation\n",
    "\n",
    "We find that all the desired endogenous variables are stationary with 95% confidence. This is acceptable for our study, hence we conclude that all the required series are stationary"
   ]
  },
  {
   "cell_type": "code",
   "execution_count": null,
   "id": "0fa29d9e",
   "metadata": {},
   "outputs": [],
   "source": [
    "# Plotting ACF graph to determin q\n",
    "plt.figure(figsize=(20,8))\n",
    "plot_acf(store_9['Customers'],ax=plt.gca(),lags=60)\n",
    "plt.show()"
   ]
  },
  {
   "cell_type": "markdown",
   "id": "65b1e3d6",
   "metadata": {},
   "source": [
    "> Observation \n",
    "It is clearly seen that there is a seasonal pattern in the ACF  graph, hence we consider q to be 0"
   ]
  },
  {
   "cell_type": "code",
   "execution_count": null,
   "id": "5e80131f",
   "metadata": {},
   "outputs": [],
   "source": [
    "# Plotting PACF graph to determine p \n",
    "plt.figure(figsize=(20,8))\n",
    "plot_pacf(store_9['Customers'],ax=plt.gca(),lags=60)\n",
    "plt.show()"
   ]
  },
  {
   "cell_type": "markdown",
   "id": "2f11654a",
   "metadata": {},
   "source": [
    "> Observation \n",
    "We observe that the graph dies down considerably after the 49th period. However, this would make our model very complex, hence we settle at a lower number of 14 after which the reduction in PACF values slows down"
   ]
  },
  {
   "cell_type": "markdown",
   "id": "69637d13",
   "metadata": {},
   "source": [
    "#### Arima model"
   ]
  },
  {
   "cell_type": "code",
   "execution_count": null,
   "id": "e335d958",
   "metadata": {
    "scrolled": true
   },
   "outputs": [],
   "source": [
    "# Arima model with p=14 , d=0 ( series was stationary without preprocessing) and q=0\n",
    "arima_model = SARIMAX(train['Sales'], order=(14, 0, 0))\n",
    "arima_model_fit = arima_model.fit()\n",
    "print(arima_model_fit.params)"
   ]
  },
  {
   "cell_type": "code",
   "execution_count": null,
   "id": "3ec399eb",
   "metadata": {},
   "outputs": [],
   "source": [
    "arima_pred = test.copy()\n",
    "arima_pred['Sales'] = arima_model_fit.predict(test.index.min(), test.index.max())"
   ]
  },
  {
   "cell_type": "code",
   "execution_count": null,
   "id": "891ab2e9",
   "metadata": {},
   "outputs": [],
   "source": [
    "# plotting test and prediction graphs\n",
    "plot_train_test_pred(train,test,arima_pred)"
   ]
  },
  {
   "cell_type": "code",
   "execution_count": null,
   "id": "7b328982",
   "metadata": {},
   "outputs": [],
   "source": [
    "# calculating error metrics \n",
    "error_metrics=error_metrics_func('9','ARIMA',test,arima_pred,error_metrics)\n",
    "error_metrics"
   ]
  },
  {
   "cell_type": "code",
   "execution_count": null,
   "id": "d683f946",
   "metadata": {},
   "outputs": [],
   "source": [
    "#SARIMA,SArima model with p=7 , d=0 ( series was stationary without preprocessing) and q=0\n",
    "# Values of PQD were arrived by trial and error while m is choosen to be 14 ( mulitple of 7)\n",
    "SARIMAX_model = SARIMAX(train['Sales'], order=(7, 0, 0),seasonal_order=(10,0,0, 14))\n",
    "SARIMAX_model_fit = SARIMAX_model.fit()\n",
    "print(SARIMAX_model_fit.params)"
   ]
  },
  {
   "cell_type": "code",
   "execution_count": null,
   "id": "f6343179",
   "metadata": {},
   "outputs": [],
   "source": [
    "sarima_pred = test.copy()\n",
    "sarima_pred['Sales'] = SARIMAX_model_fit.predict(test.index.min(), test.index.max())"
   ]
  },
  {
   "cell_type": "code",
   "execution_count": null,
   "id": "bf484054",
   "metadata": {},
   "outputs": [],
   "source": [
    "# plotting test and prediction graphs\n",
    "plot_train_test_pred(train,test,sarima_pred)"
   ]
  },
  {
   "cell_type": "code",
   "execution_count": null,
   "id": "a35f4734",
   "metadata": {},
   "outputs": [],
   "source": [
    "# calculating error metrics \n",
    "error_metrics=error_metrics_func('9','SARIMA',test,sarima_pred,error_metrics)\n",
    "error_metrics"
   ]
  },
  {
   "cell_type": "code",
   "execution_count": null,
   "id": "cc0e4cfc",
   "metadata": {},
   "outputs": [],
   "source": [
    "#SARIMAX,SArima model with p=14 , d=0 ( series was stationary without preprocessing) and q=0\n",
    "# Values of PQD were arrived by trial and error while m is choosen to be 14 ( mulitple of 7)\n",
    "\n",
    "SARIMAX_model = SARIMAX(train['Sales'], order=(1, 0, 0),seasonal_order=(7,0,0,7),exog=train[['DayOfWeek','Promo','Open','StateHoliday_0']])\n",
    "SARIMAX_model_fit = SARIMAX_model.fit()\n",
    "print(SARIMAX_model_fit.params)\n",
    "\n"
   ]
  },
  {
   "cell_type": "code",
   "execution_count": null,
   "id": "1df60fad",
   "metadata": {},
   "outputs": [],
   "source": [
    "sarimax_pred = test.copy()\n",
    "sarimax_pred['Sales'] = SARIMAX_model_fit.predict(test.index.min(), test.index.max(),exog=test[['DayOfWeek','Promo','Open','StateHoliday_0']])\n"
   ]
  },
  {
   "cell_type": "code",
   "execution_count": null,
   "id": "e71ee3d5",
   "metadata": {},
   "outputs": [],
   "source": [
    "# plotting test and prediction graphs\n",
    "plot_train_test_pred(train,test,sarimax_pred)"
   ]
  },
  {
   "cell_type": "code",
   "execution_count": null,
   "id": "0040c979",
   "metadata": {},
   "outputs": [],
   "source": [
    "error_metrics=error_metrics_func('9','SARIMAX',test,sarimax_pred,error_metrics)\n",
    "error_metrics"
   ]
  },
  {
   "cell_type": "markdown",
   "id": "3831e8cf",
   "metadata": {},
   "source": [
    "#### VAR Model pre-requisites"
   ]
  },
  {
   "cell_type": "markdown",
   "id": "aae54fa4",
   "metadata": {},
   "source": [
    "check co-integration"
   ]
  },
  {
   "cell_type": "code",
   "execution_count": null,
   "id": "4ecf0a0e",
   "metadata": {},
   "outputs": [],
   "source": [
    "from statsmodels.tsa.vector_ar.vecm import select_coint_rank"
   ]
  },
  {
   "cell_type": "code",
   "execution_count": null,
   "id": "45ac28b6",
   "metadata": {},
   "outputs": [],
   "source": [
    "store_9"
   ]
  },
  {
   "cell_type": "code",
   "execution_count": null,
   "id": "18d40037",
   "metadata": {},
   "outputs": [],
   "source": [
    "rank=select_coint_rank(store_9[['Sales','Customers','ASPC','DayOfWeek','Promo','Open','SchoolHoliday','StateHoliday_0']],-1,1)\n",
    "print('The rank of trace matrix is: {} while it has {} cols' .format(rank.rank,8))"
   ]
  },
  {
   "cell_type": "markdown",
   "id": "0af803c5",
   "metadata": {},
   "source": [
    "> Observation : We observe that the length of columns is not equal to rank, hence some of the elements are not con integerated. Hence by trial and error we identify the co-integerated ones"
   ]
  },
  {
   "cell_type": "code",
   "execution_count": null,
   "id": "80bf9ba0",
   "metadata": {},
   "outputs": [],
   "source": [
    "rank=select_coint_rank(store_9[['Sales','Customers','ASPC','DayOfWeek','Promo']],-1,1)\n",
    "print('The rank of trace matrix is: {} while it has {} cols' .format(rank.rank,5))"
   ]
  },
  {
   "cell_type": "markdown",
   "id": "645d5393",
   "metadata": {},
   "source": [
    "We know that, for 2 column trace matrix, If rank(π) = 2 ⇒ that there are unique values for \n",
    "ω\n",
    "1\n",
    " and \n",
    "ω\n",
    "2\n",
    " which is possible only when both \n",
    "y\n",
    "1\n",
    "t\n",
    " and \n",
    "y\n",
    "2\n",
    "t\n",
    " are stationary ⇒ \n",
    "y\n",
    "1\n",
    "t\n",
    " and \n",
    "y\n",
    "2\n",
    "t\n",
    " are not cointegrated ⇒ Since these are stationary, you can build a VAR/ VARMAX model"
   ]
  },
  {
   "cell_type": "markdown",
   "id": "99f0c158",
   "metadata": {},
   "source": [
    "Hence we can say that the columns 'Sales','Customers','ASPC','DayOfWeek','Promo' are all co-integerated and we can build a VAR Model without violating the principles"
   ]
  },
  {
   "cell_type": "markdown",
   "id": "254d6502",
   "metadata": {},
   "source": [
    "#### Varma model"
   ]
  },
  {
   "cell_type": "markdown",
   "id": "18ce9670",
   "metadata": {},
   "source": [
    "**NOTE** :\n",
    "To avoid spuroius relations ,We choose to consider only sales and customer as input series as both are correlated and can cause change in others. While the variables promo, dayofweek, open, stateholiday are not affected by sales or customers. However, ASPC is a simple combination of Sales and customers, we avoid using it."
   ]
  },
  {
   "cell_type": "code",
   "execution_count": null,
   "id": "e78f5726",
   "metadata": {},
   "outputs": [],
   "source": [
    "# VARMA model\n",
    "\n",
    "VARMA_model = sm.tsa.VARMAX(train[['Sales', 'Customers']], order=(7,0), trend='n')\n",
    "VARMA_model_fit = VARMA_model.fit(maxiter=1000, disp=False)\n",
    "print(VARMA_model_fit.summary())"
   ]
  },
  {
   "cell_type": "code",
   "execution_count": null,
   "id": "22e070b4",
   "metadata": {},
   "outputs": [],
   "source": [
    "start_index = test.index.min()\n",
    "end_index = test.index.max()\n",
    "varma_pred = VARMA_model_fit.predict(start=start_index, end=end_index)"
   ]
  },
  {
   "cell_type": "code",
   "execution_count": null,
   "id": "a30b4da8",
   "metadata": {},
   "outputs": [],
   "source": [
    "# plotting test and prediction graphs\n",
    "plot_train_test_pred(train,test,varma_pred)"
   ]
  },
  {
   "cell_type": "code",
   "execution_count": null,
   "id": "4eded096",
   "metadata": {},
   "outputs": [],
   "source": [
    "# calculating error metrics \n",
    "error_metrics=error_metrics_func('9','varma',test,varma_pred,error_metrics)\n",
    "error_metrics"
   ]
  },
  {
   "cell_type": "markdown",
   "id": "24482a11",
   "metadata": {},
   "source": [
    "#### Varmax model "
   ]
  },
  {
   "cell_type": "code",
   "execution_count": null,
   "id": "cdc259e2",
   "metadata": {},
   "outputs": [],
   "source": [
    "store_9.columns"
   ]
  },
  {
   "cell_type": "code",
   "execution_count": null,
   "id": "08a08f14",
   "metadata": {
    "scrolled": false
   },
   "outputs": [],
   "source": [
    "# Varmax model\n",
    "Varmax_model = sm.tsa.VARMAX(train[['Sales', 'Customers', 'Promo']], order=(7,0), trend='n')\n",
    "Varmax_model_fit = Varmax_model.fit(maxiter=1000, disp=False)\n",
    "print(Varmax_model_fit.summary())"
   ]
  },
  {
   "cell_type": "code",
   "execution_count": null,
   "id": "30dc408b",
   "metadata": {},
   "outputs": [],
   "source": [
    "start_index = test.index.min()\n",
    "end_index = test.index.max()\n",
    "varmax_pred = Varmax_model_fit.predict(start=start_index, end=end_index)"
   ]
  },
  {
   "cell_type": "code",
   "execution_count": null,
   "id": "dea69a53",
   "metadata": {},
   "outputs": [],
   "source": [
    "# plotting test and prediction graphs\n",
    "plot_train_test_pred(train,test,varmax_pred)"
   ]
  },
  {
   "cell_type": "code",
   "execution_count": null,
   "id": "897b2377",
   "metadata": {},
   "outputs": [],
   "source": [
    "# calculating error metrics \n",
    "\n",
    "error_metrics=error_metrics_func('9','varmax includes promo',test,varmax_pred,error_metrics)\n",
    "\n",
    "error_metrics"
   ]
  },
  {
   "cell_type": "markdown",
   "id": "8cbe959a",
   "metadata": {},
   "source": [
    "#### Impulse response function "
   ]
  },
  {
   "cell_type": "code",
   "execution_count": null,
   "id": "3a3e55ab",
   "metadata": {},
   "outputs": [],
   "source": [
    "impulse_response_function_fig = Varmax_model_fit.impulse_responses(20, orthogonalized=True).plot(figsize=(20,8))\n",
    "impulse_response_function_fig.set(xlabel='t', title='Responses to a shock to `sales`');"
   ]
  },
  {
   "cell_type": "markdown",
   "id": "22aea1b4",
   "metadata": {},
   "source": [
    "> Observation:\n",
    "We observe that while sales and customer variable have significant impact in the time frame, the same cannot be said of PROMO"
   ]
  },
  {
   "cell_type": "markdown",
   "id": "21ddf686",
   "metadata": {},
   "source": [
    "#### Varmax with 'open' variable"
   ]
  },
  {
   "cell_type": "markdown",
   "id": "2367ff6d",
   "metadata": {},
   "source": [
    "**NOTE** :\n",
    "To avoid spuroius relations ,We choose to consider only sales and customer as input series as both are correlated and can cause change in others. While the variables promo, dayofweek, open, stateholiday are not affected by sales or customers. We instead use them as exogeous variables. However, ASPC is a simple combination of Sales and customers, we avoid using it."
   ]
  },
  {
   "cell_type": "code",
   "execution_count": null,
   "id": "78ddd90a",
   "metadata": {},
   "outputs": [],
   "source": [
    "# Varmax model\n",
    "Varmax_model = sm.tsa.VARMAX(train[['Sales', 'Customers']], order=(7,0), trend='n',exog=train[['Promo','SchoolHoliday','DayOfWeek','Open']])\n",
    "Varmax_model_fit = Varmax_model.fit(maxiter=1000, disp=False)\n",
    "print(Varmax_model_fit.summary())"
   ]
  },
  {
   "cell_type": "code",
   "execution_count": null,
   "id": "60773930",
   "metadata": {},
   "outputs": [],
   "source": [
    "start_index = test.index.min()\n",
    "end_index = test.index.max()\n",
    "varmax_pred = Varmax_model_fit.predict(start=start_index, end=end_index,exog=test[['Promo','SchoolHoliday','DayOfWeek','Open']])"
   ]
  },
  {
   "cell_type": "code",
   "execution_count": null,
   "id": "8989b220",
   "metadata": {},
   "outputs": [],
   "source": [
    "# plotting test and prediction graphs\n",
    "plot_train_test_pred(train,test,varmax_pred)"
   ]
  },
  {
   "cell_type": "code",
   "execution_count": null,
   "id": "12a1df55",
   "metadata": {},
   "outputs": [],
   "source": [
    "# calculating error metrics \n",
    "\n",
    "error_metrics=error_metrics_func('9','varmax includes open',test,varmax_pred,error_metrics)\n",
    "\n",
    "error_metrics"
   ]
  },
  {
   "cell_type": "markdown",
   "id": "f7714e8f",
   "metadata": {},
   "source": [
    "#### Impulse response function "
   ]
  },
  {
   "cell_type": "code",
   "execution_count": null,
   "id": "23d72b12",
   "metadata": {},
   "outputs": [],
   "source": [
    "impulse_response_function_fig = Varmax_model_fit.impulse_responses(20, orthogonalized=True,exog=['Promo','SchoolHoliday','DayOfWeek','Open']).plot(figsize=(20,8))\n",
    "impulse_response_function_fig.set(xlabel='t', title='Responses to a shock to `sales`');"
   ]
  },
  {
   "cell_type": "markdown",
   "id": "086d48bd",
   "metadata": {},
   "source": [
    "> Observation:\n",
    "We observe that while sales and customer variable have significant impact in the time frame"
   ]
  },
  {
   "cell_type": "markdown",
   "id": "a5052db4",
   "metadata": {},
   "source": [
    "#### Final varmax_model\n"
   ]
  },
  {
   "cell_type": "code",
   "execution_count": null,
   "id": "6fe63ed5",
   "metadata": {},
   "outputs": [],
   "source": [
    "# Varmax model\n",
    "Varmax_model = sm.tsa.VARMAX(train[['Sales', 'Customers']], order=(7,0), trend='n',exog=train[['Promo','SchoolHoliday','DayOfWeek']])\n",
    "Varmax_model_fit = Varmax_model.fit(maxiter=1000, disp=False)\n",
    "print(Varmax_model_fit.summary())"
   ]
  },
  {
   "cell_type": "code",
   "execution_count": null,
   "id": "be4a41ce",
   "metadata": {},
   "outputs": [],
   "source": [
    "start_index = test.index.min()\n",
    "end_index = test.index.max()\n",
    "varmax_pred = Varmax_model_fit.predict(start=start_index, end=end_index,exog=test[['Promo','SchoolHoliday','DayOfWeek']])"
   ]
  },
  {
   "cell_type": "code",
   "execution_count": null,
   "id": "f39dee4e",
   "metadata": {},
   "outputs": [],
   "source": [
    "# plotting test and prediction graphs\n",
    "plot_train_test_pred(train,test,varmax_pred)"
   ]
  },
  {
   "cell_type": "code",
   "execution_count": null,
   "id": "dcaab95c",
   "metadata": {},
   "outputs": [],
   "source": [
    "# calculating error metrics \n",
    "\n",
    "error_metrics=error_metrics_func('9','varmax',test,varmax_pred,error_metrics)\n",
    "\n",
    "error_metrics"
   ]
  },
  {
   "cell_type": "markdown",
   "id": "d2ca1ead",
   "metadata": {},
   "source": [
    "#### Impulse response function "
   ]
  },
  {
   "cell_type": "code",
   "execution_count": null,
   "id": "019366b8",
   "metadata": {},
   "outputs": [],
   "source": [
    "impulse_response_function_fig = Varmax_model_fit.impulse_responses(20, orthogonalized=True,exog=['Promo','SchoolHoliday','DayOfWeek']).plot(figsize=(20,8))\n",
    "impulse_response_function_fig.set(xlabel='t', title='Responses to a shock to `sales`');"
   ]
  },
  {
   "cell_type": "markdown",
   "id": "075da627",
   "metadata": {},
   "source": [
    "> Observation:\n",
    "We observe that while sales and customer variable have significant impact in the time frame"
   ]
  },
  {
   "cell_type": "markdown",
   "id": "03a0ecbc",
   "metadata": {},
   "source": [
    "### Summary"
   ]
  },
  {
   "cell_type": "code",
   "execution_count": null,
   "id": "375172b3",
   "metadata": {},
   "outputs": [],
   "source": [
    "error_metrics.sort_values(by='MAPE',ascending=True,inplace=True)\n",
    "error_metrics"
   ]
  },
  {
   "cell_type": "code",
   "execution_count": null,
   "id": "4ad2295c",
   "metadata": {},
   "outputs": [],
   "source": [
    "# Saving top of each store value for final presentation\n",
    "top_model_for_each_store=pd.concat([top_model_for_each_store,error_metrics.head(1)])\n",
    "top_model_for_each_store"
   ]
  },
  {
   "cell_type": "markdown",
   "id": "cc73cfa0",
   "metadata": {},
   "source": [
    "> Observation \n",
    "\n",
    "When the models are compare using MAPE metrics, we find that simple moving average is the best performing model. "
   ]
  },
  {
   "cell_type": "markdown",
   "id": "8ec58b98",
   "metadata": {},
   "source": [
    "## Store 13\n"
   ]
  },
  {
   "cell_type": "code",
   "execution_count": null,
   "id": "154ac0eb",
   "metadata": {},
   "outputs": [],
   "source": [
    "# Sorting the data by date in ascending order and setting data as index column\n",
    "store_13.sort_values(by='Date',ascending=True,inplace=True)\n",
    "store_13.set_index(keys='Date',inplace=True)\n"
   ]
  },
  {
   "cell_type": "code",
   "execution_count": null,
   "id": "b3386644",
   "metadata": {},
   "outputs": [],
   "source": [
    "store_13.nunique()"
   ]
  },
  {
   "cell_type": "markdown",
   "id": "35d5d665",
   "metadata": {},
   "source": [
    "> Observation : It appears that only 3 variables are of continious type, and hence these are treated for outliers. Values above 99 percentile are capped"
   ]
  },
  {
   "cell_type": "code",
   "execution_count": null,
   "id": "ec554808",
   "metadata": {},
   "outputs": [],
   "source": [
    "num_cont_cols=[\"Sales\", \"Customers\",'ASPC']\n",
    "\n",
    "#capping numerical columns to 0 and 99 percentiles\n",
    "for col in num_cont_cols:\n",
    "    hq=store_13[[col]].quantile(q=99/100).values[0]\n",
    "    store_13[col].apply(lambda x : hq if x > hq else x )"
   ]
  },
  {
   "cell_type": "code",
   "execution_count": null,
   "id": "4b30c284",
   "metadata": {},
   "outputs": [],
   "source": [
    "# Visualising outliers\n",
    "plt.figure(figsize=(20,20))\n",
    "c=1\n",
    "for col in num_cont_cols:\n",
    "    plt.subplot(3,2,c)\n",
    "    sns.boxplot(x=store_13[col])\n",
    "    plt.title('Distribution of {}'.format(col))\n",
    "    c=c+1\n",
    "plt.show()"
   ]
  },
  {
   "cell_type": "code",
   "execution_count": null,
   "id": "40e9b6ec",
   "metadata": {},
   "outputs": [],
   "source": [
    "# Standardising numerical columns\n",
    "scale = StandardScaler()\n",
    "store_13[[\"Sales\", \"Customers\",'ASPC']] = scale.fit_transform(store_13[[\"Sales\", \"Customers\",'ASPC']])\n",
    "\n",
    "store_13.describe()"
   ]
  },
  {
   "cell_type": "code",
   "execution_count": null,
   "id": "b42d3456",
   "metadata": {},
   "outputs": [],
   "source": [
    "# Visualising data after standardising\n",
    "plt.figure(figsize=(20,20))\n",
    "c=1\n",
    "for col in num_cont_cols:\n",
    "    plt.subplot(3,2,c)\n",
    "    sns.distplot(x=store_13[col])\n",
    "    plt.title('Distribution of {}'.format(col))\n",
    "    c=c+1\n",
    "plt.show()"
   ]
  },
  {
   "cell_type": "markdown",
   "id": "a6f5f6ef",
   "metadata": {},
   "source": [
    "> Observation: \n",
    "we can obseve that the distplot shows a bi-modal plot. The major mode is normally distributed in all the 3 cases. However, this is not the case in the peak (where sales =0). This is because the store is closed on Sundays and hence has 0 sales. This is crucial information with respect to prediction, hence we choose to ignore it. "
   ]
  },
  {
   "cell_type": "markdown",
   "id": "986b61d0",
   "metadata": {},
   "source": [
    "### Visualisation"
   ]
  },
  {
   "cell_type": "code",
   "execution_count": null,
   "id": "a73ad461",
   "metadata": {},
   "outputs": [],
   "source": [
    "# Visualising the trend of sales\n",
    "\n",
    "store_13['Sales'].plot(figsize=(20, 4))\n",
    "plt.title('Sales')\n",
    "plt.show()\n",
    "\n",
    "plt.figure(figsize=(20, 4))\n",
    "sns.boxplot(x=store_13['Sales'])\n",
    "plt.title('Distribution of {}'.format('Sales'))\n",
    "plt.show()\n",
    "\n"
   ]
  },
  {
   "cell_type": "markdown",
   "id": "40f15c84",
   "metadata": {},
   "source": [
    "### Time series decomposition"
   ]
  },
  {
   "cell_type": "code",
   "execution_count": null,
   "id": "d3c9c75a",
   "metadata": {},
   "outputs": [],
   "source": [
    "store_13=store_13.loc['2015-01-01':]"
   ]
  },
  {
   "cell_type": "code",
   "execution_count": null,
   "id": "33e1150b",
   "metadata": {},
   "outputs": [],
   "source": [
    "rcParams['figure.figsize'] = (12, 8)\n",
    "decomposition = sm.tsa.seasonal_decompose(store_13.Sales, model='additive') # additive seasonal index\n",
    "fig = decomposition.plot()\n",
    "plt.show()"
   ]
  },
  {
   "cell_type": "markdown",
   "id": "c54b2ead",
   "metadata": {},
   "source": [
    "> Observation : \n",
    "\n",
    "We observe that there is no significant pattern in the residuals, hence we select the additive model over the multiplicative model\n"
   ]
  },
  {
   "cell_type": "markdown",
   "id": "66bece9a",
   "metadata": {},
   "source": [
    "### Splitting data into test and train"
   ]
  },
  {
   "cell_type": "code",
   "execution_count": null,
   "id": "db8c04d3",
   "metadata": {},
   "outputs": [],
   "source": [
    "# Splitting dataset into test and train\n",
    "weeks=6\n",
    "n_of_obs=7*weeks#(7 days multiplied by 6 weeks)\n",
    "train = store_13.iloc[:len(store_13)-n_of_obs,:]\n",
    "test = store_13.iloc[len(store_13)-n_of_obs:,:]"
   ]
  },
  {
   "cell_type": "markdown",
   "id": "41324ffc",
   "metadata": {},
   "source": [
    "### Modelling"
   ]
  },
  {
   "cell_type": "code",
   "execution_count": null,
   "id": "698a3d93",
   "metadata": {},
   "outputs": [],
   "source": [
    "# Custom function for plotting test and predicted output\n",
    "def plot_train_test_pred(train,test,pred):\n",
    "    plt.figure(figsize=(20,8))\n",
    "    plt.plot(test['Sales'],label='Test')\n",
    "    plt.plot(pred['Sales'],label='Predicted')\n",
    "    plt.legend()\n",
    "    plt.title('Comparing test and predicted values')\n",
    "    plt.show()"
   ]
  },
  {
   "cell_type": "code",
   "execution_count": null,
   "id": "8ac51ea9",
   "metadata": {},
   "outputs": [],
   "source": [
    "# Custom function to calculate update error metrics\n",
    "def error_metrics_func(store,method,test, pred,error_metrics):\n",
    "    rmse=np.sqrt(mean_squared_error(test['Sales'],pred['Sales']))\n",
    "    mape=np.abs(np.mean(np.abs(test['Sales']-pred['Sales'])/test['Sales'])*100)\n",
    "    mae=mean_absolute_error(test['Sales'],pred['Sales'])\n",
    "    error=pd.DataFrame({'Store':[store],'Method':[method], 'MAPE': [mape], 'RMSE': [rmse], 'MAE': [mae]})\n",
    "    error_metrics=pd.concat([error_metrics,error])\n",
    "    return error_metrics\n",
    "    \n",
    "    "
   ]
  },
  {
   "cell_type": "code",
   "execution_count": null,
   "id": "ae93edbe",
   "metadata": {},
   "outputs": [],
   "source": [
    "# Custom function to test stationarity at 0.95 confidence\n",
    "def stationary_test(df,col):\n",
    "    adf_test=adfuller(store_13[col])\n",
    "    print('='*116)\n",
    "    print('performing adf test on {}'. format(col))\n",
    "    print('ADF Stat:', adf_test[0])\n",
    "    print('Critical value at 0.05',adf_test[4]['5%'])\n",
    "    p_value=adf_test[1]\n",
    "    print('P-value:',adf_test[1])\n",
    "    print()\n",
    "    if p_value <0.05:\n",
    "        print('-> {} Series is stationary'.format(col))\n",
    "    else:\n",
    "        print('-> {} Series is not stationary'.format(col))\n",
    "    print('='*116)"
   ]
  },
  {
   "cell_type": "code",
   "execution_count": null,
   "id": "df52039e",
   "metadata": {},
   "outputs": [],
   "source": [
    "#  Initialising empty dataframe as error_metrics to be used later\n",
    "error_metrics=pd.DataFrame([])"
   ]
  },
  {
   "cell_type": "markdown",
   "id": "d038efd2",
   "metadata": {},
   "source": [
    "#### Naive method\n",
    "We first start with the naive method"
   ]
  },
  {
   "cell_type": "code",
   "execution_count": null,
   "id": "e64647eb",
   "metadata": {},
   "outputs": [],
   "source": [
    "# Naive Method\n",
    "naive_pred = test.copy()\n",
    "naive_pred['Sales'] = train['Sales'][n_of_obs-1]"
   ]
  },
  {
   "cell_type": "code",
   "execution_count": null,
   "id": "c3aecad8",
   "metadata": {},
   "outputs": [],
   "source": [
    "# plotting test and prediction graphs\n",
    "plot_train_test_pred(train,test,naive_pred)"
   ]
  },
  {
   "cell_type": "code",
   "execution_count": null,
   "id": "f568d025",
   "metadata": {},
   "outputs": [],
   "source": [
    "# calculating error metrics \n",
    "error_metrics=error_metrics_func('13','naive',test,naive_pred,error_metrics)\n",
    "error_metrics"
   ]
  },
  {
   "cell_type": "markdown",
   "id": "63a1a788",
   "metadata": {},
   "source": [
    "#### Simple moving average method\n",
    "\n",
    "We now attempt simple moving average model"
   ]
  },
  {
   "cell_type": "markdown",
   "id": "50788075",
   "metadata": {},
   "source": [
    "on seeing the graph, it appears that the trend repeats after every 7 days, hence we keep the moving average also as 7 days"
   ]
  },
  {
   "cell_type": "code",
   "execution_count": null,
   "id": "52b0a179",
   "metadata": {},
   "outputs": [],
   "source": [
    "ma_window=7"
   ]
  },
  {
   "cell_type": "code",
   "execution_count": null,
   "id": "46b01969",
   "metadata": {},
   "outputs": [],
   "source": [
    "# moving average method \n",
    "simple_moving_average_pred = test.copy()\n",
    "simple_moving_average_pred['Sales'] = store_13['Sales'].rolling(ma_window).mean()\n",
    "simple_moving_average_pred['Sales'][len(store_13)-n_of_obs:] = train['Sales'][n_of_obs-1]"
   ]
  },
  {
   "cell_type": "code",
   "execution_count": null,
   "id": "74d98cb0",
   "metadata": {},
   "outputs": [],
   "source": [
    "# plotting test and prediction graphs\n",
    "plot_train_test_pred(train,test,simple_moving_average_pred)"
   ]
  },
  {
   "cell_type": "code",
   "execution_count": null,
   "id": "fe80815e",
   "metadata": {},
   "outputs": [],
   "source": [
    "# calculating error metrics \n",
    "error_metrics=error_metrics_func('13','simple_moving_average',test,simple_moving_average_pred,error_metrics)\n",
    "\n",
    "error_metrics"
   ]
  },
  {
   "cell_type": "markdown",
   "id": "e622934a",
   "metadata": {},
   "source": [
    "#### holt winters method with additive trend and seasonality"
   ]
  },
  {
   "cell_type": "code",
   "execution_count": null,
   "id": "66d7caf9",
   "metadata": {},
   "outputs": [],
   "source": [
    "# Attempting holt-winters additive trend with additive seasonality\n",
    "hwa_pred = test.copy()\n",
    "model = ExponentialSmoothing(np.asarray(train['Sales']) ,seasonal_periods=7 ,trend='add', seasonal='add')\n",
    "model_fit = model.fit(optimized=True)\n",
    "print(model_fit.params)\n",
    "hwa_pred['Sales'] = model_fit.forecast(42)"
   ]
  },
  {
   "cell_type": "code",
   "execution_count": null,
   "id": "e61b858b",
   "metadata": {},
   "outputs": [],
   "source": [
    "# plotting test and prediction graphs\n",
    "plot_train_test_pred(train,test,hwa_pred)"
   ]
  },
  {
   "cell_type": "code",
   "execution_count": null,
   "id": "15741143",
   "metadata": {},
   "outputs": [],
   "source": [
    "# calculating error metrics \n",
    "error_metrics=error_metrics_func('13','holt winters method with additive trend and seasonality',test,hwa_pred,error_metrics)\n",
    "error_metrics"
   ]
  },
  {
   "cell_type": "markdown",
   "id": "79add105",
   "metadata": {},
   "source": [
    "#### ARIMA family pre-requisites"
   ]
  },
  {
   "cell_type": "code",
   "execution_count": null,
   "id": "7b2a22b4",
   "metadata": {},
   "outputs": [],
   "source": [
    "# We perform the stationarity test on the numerical columns, Namely, Sales, Customers and ASPC\n",
    "\n",
    "stationary_test(store_13,'Sales')\n",
    "stationary_test(store_13,'Customers')\n",
    "stationary_test(store_13,'ASPC')\n",
    "stationary_test(store_13,'DayOfWeek')\n",
    "stationary_test(store_13,'Open')\n",
    "stationary_test(store_13,'Promo')"
   ]
  },
  {
   "cell_type": "markdown",
   "id": "568fdf77",
   "metadata": {},
   "source": [
    "> Observation\n",
    "\n",
    "We find that all the desired endogenous variables are stationary with 95% confidence. This is acceptable for our study, hence we conclude that all the required series are stationary"
   ]
  },
  {
   "cell_type": "code",
   "execution_count": null,
   "id": "9fb72765",
   "metadata": {},
   "outputs": [],
   "source": [
    "# Plotting ACF graph to determin q\n",
    "plt.figure(figsize=(20,8))\n",
    "plot_acf(store_13['Customers'],ax=plt.gca(),lags=60)\n",
    "plt.show()"
   ]
  },
  {
   "cell_type": "markdown",
   "id": "9bb66cac",
   "metadata": {},
   "source": [
    "> Observation \n",
    "It is clearly seen that there is a seasonal pattern in the ACF  graph, hence we consider q to be 0"
   ]
  },
  {
   "cell_type": "code",
   "execution_count": null,
   "id": "d576990f",
   "metadata": {},
   "outputs": [],
   "source": [
    "# Plotting PACF graph to determine p \n",
    "plt.figure(figsize=(20,8))\n",
    "plot_pacf(store_13['Customers'],ax=plt.gca(),lags=60)\n",
    "plt.show()"
   ]
  },
  {
   "cell_type": "markdown",
   "id": "1f7a5102",
   "metadata": {},
   "source": [
    "> Observation \n",
    "We observe that the graph dies down considerably after the 49th period. However, this would make our model very complex, hence we settle at a lower number of 14 after which the reduction in PACF values slows down"
   ]
  },
  {
   "cell_type": "markdown",
   "id": "47937ae0",
   "metadata": {},
   "source": [
    "#### Arima model"
   ]
  },
  {
   "cell_type": "code",
   "execution_count": null,
   "id": "2eeaa9a7",
   "metadata": {
    "scrolled": true
   },
   "outputs": [],
   "source": [
    "# Arima model with p=14 , d=0 ( series was stationary without preprocessing) and q=0\n",
    "arima_model = SARIMAX(train['Sales'], order=(14, 0, 0))\n",
    "arima_model_fit = arima_model.fit()\n",
    "print(arima_model_fit.params)"
   ]
  },
  {
   "cell_type": "code",
   "execution_count": null,
   "id": "b5b7f27f",
   "metadata": {},
   "outputs": [],
   "source": [
    "arima_pred = test.copy()\n",
    "arima_pred['Sales'] = arima_model_fit.predict(test.index.min(), test.index.max())"
   ]
  },
  {
   "cell_type": "code",
   "execution_count": null,
   "id": "237195dc",
   "metadata": {},
   "outputs": [],
   "source": [
    "# plotting test and prediction graphs\n",
    "plot_train_test_pred(train,test,arima_pred)"
   ]
  },
  {
   "cell_type": "code",
   "execution_count": null,
   "id": "320ed4b2",
   "metadata": {},
   "outputs": [],
   "source": [
    "# calculating error metrics \n",
    "error_metrics=error_metrics_func('13','ARIMA',test,arima_pred,error_metrics)\n",
    "error_metrics"
   ]
  },
  {
   "cell_type": "code",
   "execution_count": null,
   "id": "180ddfdd",
   "metadata": {},
   "outputs": [],
   "source": [
    "#SARIMA,SArima model with p=7 , d=0 ( series was stationary without preprocessing) and q=0\n",
    "# Values of PQD were arrived by trial and error while m is choosen to be 14 ( mulitple of 7)\n",
    "SARIMAX_model = SARIMAX(train['Sales'], order=(7, 0, 0),seasonal_order=(10,0,0, 14))\n",
    "SARIMAX_model_fit = SARIMAX_model.fit()\n",
    "print(SARIMAX_model_fit.params)"
   ]
  },
  {
   "cell_type": "code",
   "execution_count": null,
   "id": "7646b160",
   "metadata": {},
   "outputs": [],
   "source": [
    "sarima_pred = test.copy()\n",
    "sarima_pred['Sales'] = SARIMAX_model_fit.predict(test.index.min(), test.index.max())"
   ]
  },
  {
   "cell_type": "code",
   "execution_count": null,
   "id": "ced5fe4b",
   "metadata": {},
   "outputs": [],
   "source": [
    "# plotting test and prediction graphs\n",
    "plot_train_test_pred(train,test,sarima_pred)"
   ]
  },
  {
   "cell_type": "code",
   "execution_count": null,
   "id": "0536ca2b",
   "metadata": {},
   "outputs": [],
   "source": [
    "# calculating error metrics \n",
    "error_metrics=error_metrics_func('13','SARIMA',test,sarima_pred,error_metrics)\n",
    "error_metrics"
   ]
  },
  {
   "cell_type": "code",
   "execution_count": null,
   "id": "d6d8e4bd",
   "metadata": {},
   "outputs": [],
   "source": [
    "#SARIMAX,SArima model with p=14 , d=0 ( series was stationary without preprocessing) and q=0\n",
    "# Values of PQD were arrived by trial and error while m is choosen to be 14 ( mulitple of 7)\n",
    "\n",
    "SARIMAX_model = SARIMAX(train['Sales'], order=(1, 0, 0),seasonal_order=(7,0,0,7),exog=train[['DayOfWeek','Promo','Open','StateHoliday_0']])\n",
    "SARIMAX_model_fit = SARIMAX_model.fit()\n",
    "print(SARIMAX_model_fit.params)\n",
    "\n"
   ]
  },
  {
   "cell_type": "code",
   "execution_count": null,
   "id": "849300fe",
   "metadata": {},
   "outputs": [],
   "source": [
    "sarimax_pred = test.copy()\n",
    "sarimax_pred['Sales'] = SARIMAX_model_fit.predict(test.index.min(), test.index.max(),exog=test[['DayOfWeek','Promo','Open','StateHoliday_0']])\n"
   ]
  },
  {
   "cell_type": "code",
   "execution_count": null,
   "id": "e72c8672",
   "metadata": {},
   "outputs": [],
   "source": [
    "# plotting test and prediction graphs\n",
    "plot_train_test_pred(train,test,sarimax_pred)"
   ]
  },
  {
   "cell_type": "code",
   "execution_count": null,
   "id": "dfae444e",
   "metadata": {},
   "outputs": [],
   "source": [
    "error_metrics=error_metrics_func('13','SARIMAX',test,sarimax_pred,error_metrics)\n",
    "error_metrics"
   ]
  },
  {
   "cell_type": "markdown",
   "id": "7b7a2877",
   "metadata": {},
   "source": [
    "#### VAR Model pre-requisites"
   ]
  },
  {
   "cell_type": "markdown",
   "id": "6edf3f8e",
   "metadata": {},
   "source": [
    "check co-integration"
   ]
  },
  {
   "cell_type": "code",
   "execution_count": null,
   "id": "2022badb",
   "metadata": {},
   "outputs": [],
   "source": [
    "from statsmodels.tsa.vector_ar.vecm import select_coint_rank"
   ]
  },
  {
   "cell_type": "code",
   "execution_count": null,
   "id": "75076b48",
   "metadata": {},
   "outputs": [],
   "source": [
    "store_13"
   ]
  },
  {
   "cell_type": "code",
   "execution_count": null,
   "id": "c26aaaba",
   "metadata": {},
   "outputs": [],
   "source": [
    "rank=select_coint_rank(store_13[['Sales','Customers','ASPC','DayOfWeek','Promo','Open','SchoolHoliday','StateHoliday_0']],-1,1)\n",
    "print('The rank of trace matrix is: {} while it has {} cols' .format(rank.rank,8))"
   ]
  },
  {
   "cell_type": "markdown",
   "id": "c7f446cd",
   "metadata": {},
   "source": [
    "> Observation : We observe that the length of columns is not equal to rank, hence some of the elements are not con integerated. Hence by trial and error we identify the co-integerated ones"
   ]
  },
  {
   "cell_type": "code",
   "execution_count": null,
   "id": "dfb8c30d",
   "metadata": {},
   "outputs": [],
   "source": [
    "rank=select_coint_rank(store_13[['Sales','Customers','ASPC','DayOfWeek','Promo']],-1,1)\n",
    "print('The rank of trace matrix is: {} while it has {} cols' .format(rank.rank,5))"
   ]
  },
  {
   "cell_type": "markdown",
   "id": "92aeb61b",
   "metadata": {},
   "source": [
    "We know that, for 2 column trace matrix, If rank(π) = 2 ⇒ that there are unique values for \n",
    "ω\n",
    "1\n",
    " and \n",
    "ω\n",
    "2\n",
    " which is possible only when both \n",
    "y\n",
    "1\n",
    "t\n",
    " and \n",
    "y\n",
    "2\n",
    "t\n",
    " are stationary ⇒ \n",
    "y\n",
    "1\n",
    "t\n",
    " and \n",
    "y\n",
    "2\n",
    "t\n",
    " are not cointegrated ⇒ Since these are stationary, you can build a VAR/ VARMAX model"
   ]
  },
  {
   "cell_type": "markdown",
   "id": "701d73e2",
   "metadata": {},
   "source": [
    "Hence we can say that the columns 'Sales','Customers','ASPC','DayOfWeek','Promo' are all co-integerated and we can build a VAR Model without violating the principles"
   ]
  },
  {
   "cell_type": "markdown",
   "id": "75bccc81",
   "metadata": {},
   "source": [
    "#### Varma model"
   ]
  },
  {
   "cell_type": "markdown",
   "id": "5190aa20",
   "metadata": {},
   "source": [
    "**NOTE** :\n",
    "To avoid spuroius relations ,We choose to consider only sales and customer as input series as both are correlated and can cause change in others. While the variables promo, dayofweek, open, stateholiday are not affected by sales or customers. However, ASPC is a simple combination of Sales and customers, we avoid using it."
   ]
  },
  {
   "cell_type": "code",
   "execution_count": null,
   "id": "14edc8f8",
   "metadata": {},
   "outputs": [],
   "source": [
    "# VARMA model\n",
    "\n",
    "VARMA_model = sm.tsa.VARMAX(train[['Sales', 'Customers']], order=(7,0), trend='n')\n",
    "VARMA_model_fit = VARMA_model.fit(maxiter=1000, disp=False)\n",
    "print(VARMA_model_fit.summary())"
   ]
  },
  {
   "cell_type": "code",
   "execution_count": null,
   "id": "d742b12e",
   "metadata": {},
   "outputs": [],
   "source": [
    "start_index = test.index.min()\n",
    "end_index = test.index.max()\n",
    "varma_pred = VARMA_model_fit.predict(start=start_index, end=end_index)"
   ]
  },
  {
   "cell_type": "code",
   "execution_count": null,
   "id": "8b5d6d45",
   "metadata": {},
   "outputs": [],
   "source": [
    "# plotting test and prediction graphs\n",
    "plot_train_test_pred(train,test,varma_pred)"
   ]
  },
  {
   "cell_type": "code",
   "execution_count": null,
   "id": "8e195371",
   "metadata": {},
   "outputs": [],
   "source": [
    "# calculating error metrics \n",
    "error_metrics=error_metrics_func('13','varma',test,varma_pred,error_metrics)\n",
    "error_metrics"
   ]
  },
  {
   "cell_type": "markdown",
   "id": "d573c8a9",
   "metadata": {},
   "source": [
    "#### Varmax model "
   ]
  },
  {
   "cell_type": "code",
   "execution_count": null,
   "id": "46cab06a",
   "metadata": {},
   "outputs": [],
   "source": [
    "store_13.columns"
   ]
  },
  {
   "cell_type": "code",
   "execution_count": null,
   "id": "a66773b4",
   "metadata": {
    "scrolled": false
   },
   "outputs": [],
   "source": [
    "# Varmax model\n",
    "Varmax_model = sm.tsa.VARMAX(train[['Sales', 'Customers', 'Promo']], order=(7,0), trend='n')\n",
    "Varmax_model_fit = Varmax_model.fit(maxiter=1000, disp=False)\n",
    "print(Varmax_model_fit.summary())"
   ]
  },
  {
   "cell_type": "code",
   "execution_count": null,
   "id": "0e27dba7",
   "metadata": {},
   "outputs": [],
   "source": [
    "start_index = test.index.min()\n",
    "end_index = test.index.max()\n",
    "varmax_pred = Varmax_model_fit.predict(start=start_index, end=end_index)"
   ]
  },
  {
   "cell_type": "code",
   "execution_count": null,
   "id": "a577b258",
   "metadata": {},
   "outputs": [],
   "source": [
    "# plotting test and prediction graphs\n",
    "plot_train_test_pred(train,test,varmax_pred)"
   ]
  },
  {
   "cell_type": "code",
   "execution_count": null,
   "id": "9fa3e892",
   "metadata": {},
   "outputs": [],
   "source": [
    "# calculating error metrics \n",
    "\n",
    "error_metrics=error_metrics_func('13','varmax includes promo',test,varmax_pred,error_metrics)\n",
    "\n",
    "error_metrics"
   ]
  },
  {
   "cell_type": "markdown",
   "id": "126bb2c3",
   "metadata": {},
   "source": [
    "#### Impulse response function "
   ]
  },
  {
   "cell_type": "code",
   "execution_count": null,
   "id": "4293237e",
   "metadata": {},
   "outputs": [],
   "source": [
    "impulse_response_function_fig = Varmax_model_fit.impulse_responses(20, orthogonalized=True).plot(figsize=(20,8))\n",
    "impulse_response_function_fig.set(xlabel='t', title='Responses to a shock to `sales`');"
   ]
  },
  {
   "cell_type": "markdown",
   "id": "2897540d",
   "metadata": {},
   "source": [
    "> Observation:\n",
    "We observe that while sales and customer variable have significant impact in the time frame, the same cannot be said of PROMO"
   ]
  },
  {
   "cell_type": "markdown",
   "id": "c00f44e2",
   "metadata": {},
   "source": [
    "#### Varmax with 'open' variable"
   ]
  },
  {
   "cell_type": "markdown",
   "id": "406e9da1",
   "metadata": {},
   "source": [
    "**NOTE** :\n",
    "To avoid spuroius relations ,We choose to consider only sales and customer as input series as both are correlated and can cause change in others. While the variables promo, dayofweek, open, stateholiday are not affected by sales or customers. We instead use them as exogeous variables. However, ASPC is a simple combination of Sales and customers, we avoid using it."
   ]
  },
  {
   "cell_type": "code",
   "execution_count": null,
   "id": "c66d4e40",
   "metadata": {},
   "outputs": [],
   "source": [
    "# Varmax model\n",
    "Varmax_model = sm.tsa.VARMAX(train[['Sales', 'Customers']], order=(7,0), trend='n',exog=train[['Promo','SchoolHoliday','DayOfWeek','Open']])\n",
    "Varmax_model_fit = Varmax_model.fit(maxiter=1000, disp=False)\n",
    "print(Varmax_model_fit.summary())"
   ]
  },
  {
   "cell_type": "code",
   "execution_count": null,
   "id": "e6376bd4",
   "metadata": {},
   "outputs": [],
   "source": [
    "start_index = test.index.min()\n",
    "end_index = test.index.max()\n",
    "varmax_pred = Varmax_model_fit.predict(start=start_index, end=end_index,exog=test[['Promo','SchoolHoliday','DayOfWeek','Open']])"
   ]
  },
  {
   "cell_type": "code",
   "execution_count": null,
   "id": "c4b75951",
   "metadata": {},
   "outputs": [],
   "source": [
    "# plotting test and prediction graphs\n",
    "plot_train_test_pred(train,test,varmax_pred)"
   ]
  },
  {
   "cell_type": "code",
   "execution_count": null,
   "id": "5d341447",
   "metadata": {},
   "outputs": [],
   "source": [
    "# calculating error metrics \n",
    "\n",
    "error_metrics=error_metrics_func('13','varmax includes open',test,varmax_pred,error_metrics)\n",
    "\n",
    "error_metrics"
   ]
  },
  {
   "cell_type": "markdown",
   "id": "1e36f4cb",
   "metadata": {},
   "source": [
    "#### Impulse response function "
   ]
  },
  {
   "cell_type": "code",
   "execution_count": null,
   "id": "260aaa5b",
   "metadata": {},
   "outputs": [],
   "source": [
    "impulse_response_function_fig = Varmax_model_fit.impulse_responses(20, orthogonalized=True,exog=['Promo','SchoolHoliday','DayOfWeek','Open']).plot(figsize=(20,8))\n",
    "impulse_response_function_fig.set(xlabel='t', title='Responses to a shock to `sales`');"
   ]
  },
  {
   "cell_type": "markdown",
   "id": "b74f0665",
   "metadata": {},
   "source": [
    "> Observation:\n",
    "We observe that while sales and customer variable have significant impact in the time frame"
   ]
  },
  {
   "cell_type": "markdown",
   "id": "dfaa99d3",
   "metadata": {},
   "source": [
    "#### Final varmax_model\n"
   ]
  },
  {
   "cell_type": "code",
   "execution_count": null,
   "id": "f1e59952",
   "metadata": {},
   "outputs": [],
   "source": [
    "# Varmax model\n",
    "Varmax_model = sm.tsa.VARMAX(train[['Sales', 'Customers']], order=(7,0), trend='n',exog=train[['Promo','SchoolHoliday','DayOfWeek']])\n",
    "Varmax_model_fit = Varmax_model.fit(maxiter=1000, disp=False)\n",
    "print(Varmax_model_fit.summary())"
   ]
  },
  {
   "cell_type": "code",
   "execution_count": null,
   "id": "7f5b92d0",
   "metadata": {},
   "outputs": [],
   "source": [
    "start_index = test.index.min()\n",
    "end_index = test.index.max()\n",
    "varmax_pred = Varmax_model_fit.predict(start=start_index, end=end_index,exog=test[['Promo','SchoolHoliday','DayOfWeek']])"
   ]
  },
  {
   "cell_type": "code",
   "execution_count": null,
   "id": "9d361493",
   "metadata": {},
   "outputs": [],
   "source": [
    "# plotting test and prediction graphs\n",
    "plot_train_test_pred(train,test,varmax_pred)"
   ]
  },
  {
   "cell_type": "code",
   "execution_count": null,
   "id": "f93770aa",
   "metadata": {},
   "outputs": [],
   "source": [
    "# calculating error metrics \n",
    "\n",
    "error_metrics=error_metrics_func('13','varmax',test,varmax_pred,error_metrics)\n",
    "\n",
    "error_metrics"
   ]
  },
  {
   "cell_type": "markdown",
   "id": "ac88d1d4",
   "metadata": {},
   "source": [
    "#### Impulse response function "
   ]
  },
  {
   "cell_type": "code",
   "execution_count": null,
   "id": "57d63157",
   "metadata": {},
   "outputs": [],
   "source": [
    "impulse_response_function_fig = Varmax_model_fit.impulse_responses(20, orthogonalized=True,exog=['Promo','SchoolHoliday','DayOfWeek']).plot(figsize=(20,8))\n",
    "impulse_response_function_fig.set(xlabel='t', title='Responses to a shock to `sales`');"
   ]
  },
  {
   "cell_type": "markdown",
   "id": "53097f6e",
   "metadata": {},
   "source": [
    "> Observation:\n",
    "We observe that while sales and customer variable have significant impact in the time frame"
   ]
  },
  {
   "cell_type": "markdown",
   "id": "eb097bb9",
   "metadata": {},
   "source": [
    "### Summary"
   ]
  },
  {
   "cell_type": "code",
   "execution_count": null,
   "id": "18e1ca1b",
   "metadata": {},
   "outputs": [],
   "source": [
    "error_metrics.sort_values(by='MAPE',ascending=True,inplace=True)\n",
    "error_metrics"
   ]
  },
  {
   "cell_type": "code",
   "execution_count": null,
   "id": "ffdb1a4b",
   "metadata": {},
   "outputs": [],
   "source": [
    "# Saving top of each store value for final presentation\n",
    "top_model_for_each_store=pd.concat([top_model_for_each_store,error_metrics.head(1)])\n",
    "top_model_for_each_store"
   ]
  },
  {
   "cell_type": "markdown",
   "id": "4de18f8f",
   "metadata": {},
   "source": [
    "> Observation \n",
    "\n",
    "When the models are compare using MAPE metrics, we find that SARIMA model is the best performing model. "
   ]
  },
  {
   "cell_type": "markdown",
   "id": "f4a42857",
   "metadata": {},
   "source": [
    "## Store 25\n"
   ]
  },
  {
   "cell_type": "code",
   "execution_count": null,
   "id": "720c23bd",
   "metadata": {},
   "outputs": [],
   "source": [
    "# Sorting the data by date in ascending order and setting data as index column\n",
    "store_25.sort_values(by='Date',ascending=True,inplace=True)\n",
    "store_25.set_index(keys='Date',inplace=True)\n"
   ]
  },
  {
   "cell_type": "code",
   "execution_count": null,
   "id": "429ad31a",
   "metadata": {},
   "outputs": [],
   "source": [
    "store_25.nunique()"
   ]
  },
  {
   "cell_type": "markdown",
   "id": "b84e4293",
   "metadata": {},
   "source": [
    "> Observation : It appears that only 3 variables are of continious type, and hence these are treated for outliers. Values above 99 percentile are capped"
   ]
  },
  {
   "cell_type": "code",
   "execution_count": null,
   "id": "66b1228b",
   "metadata": {},
   "outputs": [],
   "source": [
    "num_cont_cols=[\"Sales\", \"Customers\",'ASPC']\n",
    "\n",
    "#capping numerical columns to 0 and 99 percentiles\n",
    "for col in num_cont_cols:\n",
    "    hq=store_25[[col]].quantile(q=99/100).values[0]\n",
    "    store_25[col].apply(lambda x : hq if x > hq else x )"
   ]
  },
  {
   "cell_type": "code",
   "execution_count": null,
   "id": "24570930",
   "metadata": {},
   "outputs": [],
   "source": [
    "# Visualising outliers\n",
    "plt.figure(figsize=(20,20))\n",
    "c=1\n",
    "for col in num_cont_cols:\n",
    "    plt.subplot(3,2,c)\n",
    "    sns.boxplot(x=store_25[col])\n",
    "    plt.title('Distribution of {}'.format(col))\n",
    "    c=c+1\n",
    "plt.show()"
   ]
  },
  {
   "cell_type": "code",
   "execution_count": null,
   "id": "8649ea80",
   "metadata": {},
   "outputs": [],
   "source": [
    "# Standardising numerical columns\n",
    "scale = StandardScaler()\n",
    "store_25[[\"Sales\", \"Customers\",'ASPC']] = scale.fit_transform(store_25[[\"Sales\", \"Customers\",'ASPC']])\n",
    "\n",
    "store_25.describe()"
   ]
  },
  {
   "cell_type": "code",
   "execution_count": null,
   "id": "0f8815e1",
   "metadata": {},
   "outputs": [],
   "source": [
    "# Visualising data after standardising\n",
    "plt.figure(figsize=(20,20))\n",
    "c=1\n",
    "for col in num_cont_cols:\n",
    "    plt.subplot(3,2,c)\n",
    "    sns.distplot(x=store_25[col])\n",
    "    plt.title('Distribution of {}'.format(col))\n",
    "    c=c+1\n",
    "plt.show()"
   ]
  },
  {
   "cell_type": "markdown",
   "id": "e459be57",
   "metadata": {},
   "source": [
    "> Observation: \n",
    "we can obseve that the distplot shows a bi-modal plot. The major mode is normally distributed in all the 3 cases. However, this is not the case in the peak (where sales =0). This is because the store is closed on Sundays and hence has 0 sales. This is crucial information with respect to prediction, hence we choose to ignore it. "
   ]
  },
  {
   "cell_type": "markdown",
   "id": "82a21e61",
   "metadata": {},
   "source": [
    "### Visualisation"
   ]
  },
  {
   "cell_type": "code",
   "execution_count": null,
   "id": "57d97e7e",
   "metadata": {},
   "outputs": [],
   "source": [
    "# Visualising the trend of sales\n",
    "\n",
    "store_25['Sales'].plot(figsize=(20, 4))\n",
    "plt.title('Sales')\n",
    "plt.show()\n",
    "\n",
    "plt.figure(figsize=(20, 4))\n",
    "sns.boxplot(x=store_25['Sales'])\n",
    "plt.title('Distribution of {}'.format('Sales'))\n",
    "plt.show()\n",
    "\n"
   ]
  },
  {
   "cell_type": "markdown",
   "id": "7b4024bb",
   "metadata": {},
   "source": [
    "### Time series decomposition"
   ]
  },
  {
   "cell_type": "code",
   "execution_count": null,
   "id": "49ac2b1e",
   "metadata": {},
   "outputs": [],
   "source": [
    "rcParams['figure.figsize'] = (12, 8)\n",
    "decomposition = sm.tsa.seasonal_decompose(store_25.Sales, model='additive') # additive seasonal index\n",
    "fig = decomposition.plot()\n",
    "plt.show()"
   ]
  },
  {
   "cell_type": "markdown",
   "id": "cf425e6f",
   "metadata": {},
   "source": [
    "> Observation : \n",
    "\n",
    "We observe that there is no significant pattern in the residuals, hence we select the additive model over the multiplicative model\n"
   ]
  },
  {
   "cell_type": "markdown",
   "id": "ed87992a",
   "metadata": {},
   "source": [
    "### Splitting data into test and train"
   ]
  },
  {
   "cell_type": "code",
   "execution_count": null,
   "id": "dac6853d",
   "metadata": {},
   "outputs": [],
   "source": [
    "# Splitting dataset into test and train\n",
    "weeks=6\n",
    "n_of_obs=7*weeks#(7 days multiplied by 6 weeks)\n",
    "train = store_25.iloc[:len(store_25)-n_of_obs,:]\n",
    "test = store_25.iloc[len(store_25)-n_of_obs:,:]"
   ]
  },
  {
   "cell_type": "markdown",
   "id": "2ff332b1",
   "metadata": {},
   "source": [
    "### Modelling"
   ]
  },
  {
   "cell_type": "code",
   "execution_count": null,
   "id": "a5990ef2",
   "metadata": {},
   "outputs": [],
   "source": [
    "# Custom function for plotting test and predicted output\n",
    "def plot_train_test_pred(train,test,pred):\n",
    "    plt.figure(figsize=(20,8))\n",
    "    plt.plot(test['Sales'],label='Test')\n",
    "    plt.plot(pred['Sales'],label='Predicted')\n",
    "    plt.legend()\n",
    "    plt.title('Comparing test and predicted values')\n",
    "    plt.show()"
   ]
  },
  {
   "cell_type": "code",
   "execution_count": null,
   "id": "73ac54d6",
   "metadata": {},
   "outputs": [],
   "source": [
    "# Custom function to calculate update error metrics\n",
    "def error_metrics_func(store,method,test, pred,error_metrics):\n",
    "    rmse=np.sqrt(mean_squared_error(test['Sales'],pred['Sales']))\n",
    "    mape=np.abs(np.mean(np.abs(test['Sales']-pred['Sales'])/test['Sales'])*100)\n",
    "    mae=mean_absolute_error(test['Sales'],pred['Sales'])\n",
    "    error=pd.DataFrame({'Store':[store],'Method':[method], 'MAPE': [mape], 'RMSE': [rmse], 'MAE': [mae]})\n",
    "    error_metrics=pd.concat([error_metrics,error])\n",
    "    return error_metrics\n",
    "    \n",
    "    "
   ]
  },
  {
   "cell_type": "code",
   "execution_count": null,
   "id": "da8c33f5",
   "metadata": {},
   "outputs": [],
   "source": [
    "# Custom function to test stationarity at 0.95 confidence\n",
    "def stationary_test(df,col):\n",
    "    adf_test=adfuller(store_25[col])\n",
    "    print('='*116)\n",
    "    print('performing adf test on {}'. format(col))\n",
    "    print('ADF Stat:', adf_test[0])\n",
    "    print('Critical value at 0.05',adf_test[4]['5%'])\n",
    "    p_value=adf_test[1]\n",
    "    print('P-value:',adf_test[1])\n",
    "    print()\n",
    "    if p_value <0.05:\n",
    "        print('-> {} Series is stationary'.format(col))\n",
    "    else:\n",
    "        print('-> {} Series is not stationary'.format(col))\n",
    "    print('='*116)"
   ]
  },
  {
   "cell_type": "code",
   "execution_count": null,
   "id": "4b4ec5b8",
   "metadata": {},
   "outputs": [],
   "source": [
    "#  Initialising empty dataframe as error_metrics to be used later\n",
    "error_metrics=pd.DataFrame([])"
   ]
  },
  {
   "cell_type": "markdown",
   "id": "c724dab0",
   "metadata": {},
   "source": [
    "#### Naive method\n",
    "We first start with the naive method"
   ]
  },
  {
   "cell_type": "code",
   "execution_count": null,
   "id": "1adc5c85",
   "metadata": {},
   "outputs": [],
   "source": [
    "# Naive Method\n",
    "naive_pred = test.copy()\n",
    "naive_pred['Sales'] = train['Sales'][n_of_obs-1]"
   ]
  },
  {
   "cell_type": "code",
   "execution_count": null,
   "id": "aefa182f",
   "metadata": {},
   "outputs": [],
   "source": [
    "# plotting test and prediction graphs\n",
    "plot_train_test_pred(train,test,naive_pred)"
   ]
  },
  {
   "cell_type": "code",
   "execution_count": null,
   "id": "b9cd3df2",
   "metadata": {},
   "outputs": [],
   "source": [
    "# calculating error metrics \n",
    "error_metrics=error_metrics_func('25','naive',test,naive_pred,error_metrics)\n",
    "error_metrics"
   ]
  },
  {
   "cell_type": "markdown",
   "id": "6e0200f4",
   "metadata": {},
   "source": [
    "#### Simple moving average method\n",
    "\n",
    "We now attempt simple moving average model"
   ]
  },
  {
   "cell_type": "markdown",
   "id": "ff66cdfa",
   "metadata": {},
   "source": [
    "on seeing the graph, it appears that the trend repeats after every 7 days, hence we keep the moving average also as 7 days"
   ]
  },
  {
   "cell_type": "code",
   "execution_count": null,
   "id": "69311d5f",
   "metadata": {},
   "outputs": [],
   "source": [
    "ma_window=7"
   ]
  },
  {
   "cell_type": "code",
   "execution_count": null,
   "id": "9ad3490f",
   "metadata": {},
   "outputs": [],
   "source": [
    "# moving average method \n",
    "simple_moving_average_pred = test.copy()\n",
    "simple_moving_average_pred['Sales'] = store_25['Sales'].rolling(ma_window).mean()\n",
    "simple_moving_average_pred['Sales'][len(store_25)-n_of_obs:] = train['Sales'][n_of_obs-1]"
   ]
  },
  {
   "cell_type": "code",
   "execution_count": null,
   "id": "215afe3e",
   "metadata": {},
   "outputs": [],
   "source": [
    "# plotting test and prediction graphs\n",
    "plot_train_test_pred(train,test,simple_moving_average_pred)"
   ]
  },
  {
   "cell_type": "code",
   "execution_count": null,
   "id": "530bb755",
   "metadata": {},
   "outputs": [],
   "source": [
    "# calculating error metrics \n",
    "error_metrics=error_metrics_func('25','simple_moving_average',test,simple_moving_average_pred,error_metrics)\n",
    "\n",
    "error_metrics"
   ]
  },
  {
   "cell_type": "markdown",
   "id": "b1637bba",
   "metadata": {},
   "source": [
    "#### holt winters method with additive trend and seasonality"
   ]
  },
  {
   "cell_type": "code",
   "execution_count": null,
   "id": "77c9e2ff",
   "metadata": {},
   "outputs": [],
   "source": [
    "# Attempting holt-winters additive trend with additive seasonality\n",
    "hwa_pred = test.copy()\n",
    "model = ExponentialSmoothing(np.asarray(train['Sales']) ,seasonal_periods=7 ,trend='add', seasonal='add')\n",
    "model_fit = model.fit(optimized=True)\n",
    "print(model_fit.params)\n",
    "hwa_pred['Sales'] = model_fit.forecast(42)"
   ]
  },
  {
   "cell_type": "code",
   "execution_count": null,
   "id": "353f9f10",
   "metadata": {},
   "outputs": [],
   "source": [
    "# plotting test and prediction graphs\n",
    "plot_train_test_pred(train,test,hwa_pred)"
   ]
  },
  {
   "cell_type": "code",
   "execution_count": null,
   "id": "f4ea106b",
   "metadata": {},
   "outputs": [],
   "source": [
    "# calculating error metrics \n",
    "error_metrics=error_metrics_func('25','holt winters method with additive trend and seasonality',test,hwa_pred,error_metrics)\n",
    "error_metrics"
   ]
  },
  {
   "cell_type": "markdown",
   "id": "60f7367e",
   "metadata": {},
   "source": [
    "#### ARIMA family pre-requisites"
   ]
  },
  {
   "cell_type": "code",
   "execution_count": null,
   "id": "a9623c14",
   "metadata": {},
   "outputs": [],
   "source": [
    "# We perform the stationarity test on the numerical columns, Namely, Sales, Customers and ASPC\n",
    "\n",
    "stationary_test(store_25,'Sales')\n",
    "stationary_test(store_25,'Customers')\n",
    "stationary_test(store_25,'ASPC')\n",
    "stationary_test(store_25,'DayOfWeek')\n",
    "stationary_test(store_25,'Open')\n",
    "stationary_test(store_25,'Promo')"
   ]
  },
  {
   "cell_type": "markdown",
   "id": "41f21ea9",
   "metadata": {},
   "source": [
    "> Observation\n",
    "\n",
    "We find that all the desired endogenous variables are stationary with 95% confidence. This is acceptable for our study, hence we conclude that all the required series are stationary"
   ]
  },
  {
   "cell_type": "code",
   "execution_count": null,
   "id": "7f3f91af",
   "metadata": {},
   "outputs": [],
   "source": [
    "# Plotting ACF graph to determin q\n",
    "plt.figure(figsize=(20,8))\n",
    "plot_acf(store_25['Customers'],ax=plt.gca(),lags=60)\n",
    "plt.show()"
   ]
  },
  {
   "cell_type": "markdown",
   "id": "672a0015",
   "metadata": {},
   "source": [
    "> Observation \n",
    "It is clearly seen that there is a seasonal pattern in the ACF  graph, hence we consider q to be 0"
   ]
  },
  {
   "cell_type": "code",
   "execution_count": null,
   "id": "35c27739",
   "metadata": {},
   "outputs": [],
   "source": [
    "# Plotting PACF graph to determine p \n",
    "plt.figure(figsize=(20,8))\n",
    "plot_pacf(store_25['Customers'],ax=plt.gca(),lags=60)\n",
    "plt.show()"
   ]
  },
  {
   "cell_type": "markdown",
   "id": "fd8c7617",
   "metadata": {},
   "source": [
    "> Observation \n",
    "We observe that the graph dies down considerably after the 49th period. However, this would make our model very complex, hence we settle at a lower number of 14 after which the reduction in PACF values slows down"
   ]
  },
  {
   "cell_type": "markdown",
   "id": "3ce078aa",
   "metadata": {},
   "source": [
    "#### Arima model"
   ]
  },
  {
   "cell_type": "code",
   "execution_count": null,
   "id": "182e1694",
   "metadata": {
    "scrolled": true
   },
   "outputs": [],
   "source": [
    "# Arima model with p=14 , d=0 ( series was stationary without preprocessing) and q=0\n",
    "arima_model = SARIMAX(train['Sales'], order=(14, 0, 0))\n",
    "arima_model_fit = arima_model.fit()\n",
    "print(arima_model_fit.params)"
   ]
  },
  {
   "cell_type": "code",
   "execution_count": null,
   "id": "a55bcebe",
   "metadata": {},
   "outputs": [],
   "source": [
    "arima_pred = test.copy()\n",
    "arima_pred['Sales'] = arima_model_fit.predict(test.index.min(), test.index.max())"
   ]
  },
  {
   "cell_type": "code",
   "execution_count": null,
   "id": "a45d9778",
   "metadata": {},
   "outputs": [],
   "source": [
    "# plotting test and prediction graphs\n",
    "plot_train_test_pred(train,test,arima_pred)"
   ]
  },
  {
   "cell_type": "code",
   "execution_count": null,
   "id": "b8541b26",
   "metadata": {},
   "outputs": [],
   "source": [
    "# calculating error metrics \n",
    "error_metrics=error_metrics_func('25','ARIMA',test,arima_pred,error_metrics)\n",
    "error_metrics"
   ]
  },
  {
   "cell_type": "code",
   "execution_count": null,
   "id": "54fd8fc8",
   "metadata": {},
   "outputs": [],
   "source": [
    "#SARIMA,SArima model with p=7 , d=0 ( series was stationary without preprocessing) and q=0\n",
    "# Values of PQD were arrived by trial and error while m is choosen to be 14 ( mulitple of 7)\n",
    "SARIMAX_model = SARIMAX(train['Sales'], order=(7, 0, 0),seasonal_order=(10,0,0, 14))\n",
    "SARIMAX_model_fit = SARIMAX_model.fit()\n",
    "print(SARIMAX_model_fit.params)"
   ]
  },
  {
   "cell_type": "code",
   "execution_count": null,
   "id": "e5b31998",
   "metadata": {},
   "outputs": [],
   "source": [
    "sarima_pred = test.copy()\n",
    "sarima_pred['Sales'] = SARIMAX_model_fit.predict(test.index.min(), test.index.max())"
   ]
  },
  {
   "cell_type": "code",
   "execution_count": null,
   "id": "04c6b298",
   "metadata": {},
   "outputs": [],
   "source": [
    "# plotting test and prediction graphs\n",
    "plot_train_test_pred(train,test,sarima_pred)"
   ]
  },
  {
   "cell_type": "code",
   "execution_count": null,
   "id": "bb07aa9c",
   "metadata": {},
   "outputs": [],
   "source": [
    "# calculating error metrics \n",
    "error_metrics=error_metrics_func('25','SARIMA',test,sarima_pred,error_metrics)\n",
    "error_metrics"
   ]
  },
  {
   "cell_type": "code",
   "execution_count": null,
   "id": "fcf479e0",
   "metadata": {},
   "outputs": [],
   "source": [
    "#SARIMAX,SArima model with p=14 , d=0 ( series was stationary without preprocessing) and q=0\n",
    "# Values of PQD were arrived by trial and error while m is choosen to be 14 ( mulitple of 7)\n",
    "\n",
    "SARIMAX_model = SARIMAX(train['Sales'], order=(1, 0, 0),seasonal_order=(7,0,0,7),exog=train[['DayOfWeek','Promo','Open','StateHoliday_0']])\n",
    "SARIMAX_model_fit = SARIMAX_model.fit()\n",
    "print(SARIMAX_model_fit.params)\n",
    "\n"
   ]
  },
  {
   "cell_type": "code",
   "execution_count": null,
   "id": "45406775",
   "metadata": {},
   "outputs": [],
   "source": [
    "sarimax_pred = test.copy()\n",
    "sarimax_pred['Sales'] = SARIMAX_model_fit.predict(test.index.min(), test.index.max(),exog=test[['DayOfWeek','Promo','Open','StateHoliday_0']])\n"
   ]
  },
  {
   "cell_type": "code",
   "execution_count": null,
   "id": "57e55584",
   "metadata": {},
   "outputs": [],
   "source": [
    "# plotting test and prediction graphs\n",
    "plot_train_test_pred(train,test,sarimax_pred)"
   ]
  },
  {
   "cell_type": "code",
   "execution_count": null,
   "id": "6b4bac18",
   "metadata": {},
   "outputs": [],
   "source": [
    "error_metrics=error_metrics_func('25','SARIMAX',test,sarimax_pred,error_metrics)\n",
    "error_metrics"
   ]
  },
  {
   "cell_type": "markdown",
   "id": "df9b3cf9",
   "metadata": {},
   "source": [
    "#### VAR Model pre-requisites"
   ]
  },
  {
   "cell_type": "markdown",
   "id": "b585005f",
   "metadata": {},
   "source": [
    "check co-integration"
   ]
  },
  {
   "cell_type": "code",
   "execution_count": null,
   "id": "34d8fbc5",
   "metadata": {},
   "outputs": [],
   "source": [
    "from statsmodels.tsa.vector_ar.vecm import select_coint_rank"
   ]
  },
  {
   "cell_type": "code",
   "execution_count": null,
   "id": "5c066d01",
   "metadata": {},
   "outputs": [],
   "source": [
    "store_25"
   ]
  },
  {
   "cell_type": "code",
   "execution_count": null,
   "id": "0a3c1e64",
   "metadata": {},
   "outputs": [],
   "source": [
    "rank=select_coint_rank(store_25[['Sales','Customers','ASPC','DayOfWeek','Promo','Open','SchoolHoliday','StateHoliday_0']],-1,1)\n",
    "print('The rank of trace matrix is: {} while it has {} cols' .format(rank.rank,8))"
   ]
  },
  {
   "cell_type": "markdown",
   "id": "98e718c4",
   "metadata": {},
   "source": [
    "> Observation : We observe that the length of columns is not equal to rank, hence some of the elements are not con integerated. Hence by trial and error we identify the co-integerated ones"
   ]
  },
  {
   "cell_type": "code",
   "execution_count": null,
   "id": "e370dd8f",
   "metadata": {},
   "outputs": [],
   "source": [
    "rank=select_coint_rank(store_25[['Sales','Customers','ASPC','DayOfWeek','Promo']],-1,1)\n",
    "print('The rank of trace matrix is: {} while it has {} cols' .format(rank.rank,5))"
   ]
  },
  {
   "cell_type": "markdown",
   "id": "0e5e414e",
   "metadata": {},
   "source": [
    "We know that, for 2 column trace matrix, If rank(π) = 2 ⇒ that there are unique values for \n",
    "ω\n",
    "1\n",
    " and \n",
    "ω\n",
    "2\n",
    " which is possible only when both \n",
    "y\n",
    "1\n",
    "t\n",
    " and \n",
    "y\n",
    "2\n",
    "t\n",
    " are stationary ⇒ \n",
    "y\n",
    "1\n",
    "t\n",
    " and \n",
    "y\n",
    "2\n",
    "t\n",
    " are not cointegrated ⇒ Since these are stationary, you can build a VAR/ VARMAX model"
   ]
  },
  {
   "cell_type": "markdown",
   "id": "4bbe4284",
   "metadata": {},
   "source": [
    "Hence we can say that the columns 'Sales','Customers','ASPC','DayOfWeek','Promo' are all co-integerated and we can build a VAR Model without violating the principles"
   ]
  },
  {
   "cell_type": "markdown",
   "id": "f3c38563",
   "metadata": {},
   "source": [
    "#### Varma model"
   ]
  },
  {
   "cell_type": "markdown",
   "id": "239cb79a",
   "metadata": {},
   "source": [
    "**NOTE** :\n",
    "To avoid spuroius relations ,We choose to consider only sales and customer as input series as both are correlated and can cause change in others. While the variables promo, dayofweek, open, stateholiday are not affected by sales or customers. However, ASPC is a simple combination of Sales and customers, we avoid using it."
   ]
  },
  {
   "cell_type": "code",
   "execution_count": null,
   "id": "504b0b37",
   "metadata": {},
   "outputs": [],
   "source": [
    "# VARMA model\n",
    "\n",
    "VARMA_model = sm.tsa.VARMAX(train[['Sales', 'Customers']], order=(7,0), trend='n')\n",
    "VARMA_model_fit = VARMA_model.fit(maxiter=1000, disp=False)\n",
    "print(VARMA_model_fit.summary())"
   ]
  },
  {
   "cell_type": "code",
   "execution_count": null,
   "id": "75cae9d5",
   "metadata": {},
   "outputs": [],
   "source": [
    "start_index = test.index.min()\n",
    "end_index = test.index.max()\n",
    "varma_pred = VARMA_model_fit.predict(start=start_index, end=end_index)"
   ]
  },
  {
   "cell_type": "code",
   "execution_count": null,
   "id": "8255399a",
   "metadata": {},
   "outputs": [],
   "source": [
    "# plotting test and prediction graphs\n",
    "plot_train_test_pred(train,test,varma_pred)"
   ]
  },
  {
   "cell_type": "code",
   "execution_count": null,
   "id": "cbb25307",
   "metadata": {},
   "outputs": [],
   "source": [
    "# calculating error metrics \n",
    "error_metrics=error_metrics_func('25','varma',test,varma_pred,error_metrics)\n",
    "error_metrics"
   ]
  },
  {
   "cell_type": "markdown",
   "id": "dd01910d",
   "metadata": {},
   "source": [
    "#### Varmax model "
   ]
  },
  {
   "cell_type": "code",
   "execution_count": null,
   "id": "b2725536",
   "metadata": {},
   "outputs": [],
   "source": [
    "store_25.columns"
   ]
  },
  {
   "cell_type": "code",
   "execution_count": null,
   "id": "c2105172",
   "metadata": {
    "scrolled": false
   },
   "outputs": [],
   "source": [
    "# Varmax model\n",
    "Varmax_model = sm.tsa.VARMAX(train[['Sales', 'Customers', 'Promo']], order=(7,0), trend='n')\n",
    "Varmax_model_fit = Varmax_model.fit(maxiter=1000, disp=False)\n",
    "print(Varmax_model_fit.summary())"
   ]
  },
  {
   "cell_type": "code",
   "execution_count": null,
   "id": "24570ea2",
   "metadata": {},
   "outputs": [],
   "source": [
    "start_index = test.index.min()\n",
    "end_index = test.index.max()\n",
    "varmax_pred = Varmax_model_fit.predict(start=start_index, end=end_index)"
   ]
  },
  {
   "cell_type": "code",
   "execution_count": null,
   "id": "17c66c07",
   "metadata": {},
   "outputs": [],
   "source": [
    "# plotting test and prediction graphs\n",
    "plot_train_test_pred(train,test,varmax_pred)"
   ]
  },
  {
   "cell_type": "code",
   "execution_count": null,
   "id": "6c8d58a8",
   "metadata": {},
   "outputs": [],
   "source": [
    "# calculating error metrics \n",
    "\n",
    "error_metrics=error_metrics_func('25','varmax includes promo',test,varmax_pred,error_metrics)\n",
    "\n",
    "error_metrics"
   ]
  },
  {
   "cell_type": "markdown",
   "id": "45c6ed08",
   "metadata": {},
   "source": [
    "#### Impulse response function "
   ]
  },
  {
   "cell_type": "code",
   "execution_count": null,
   "id": "2bedeec1",
   "metadata": {},
   "outputs": [],
   "source": [
    "impulse_response_function_fig = Varmax_model_fit.impulse_responses(20, orthogonalized=True).plot(figsize=(20,8))\n",
    "impulse_response_function_fig.set(xlabel='t', title='Responses to a shock to `sales`');"
   ]
  },
  {
   "cell_type": "markdown",
   "id": "5784408c",
   "metadata": {},
   "source": [
    "> Observation:\n",
    "We observe that while sales and customer variable have significant impact in the time frame, the same cannot be said of PROMO"
   ]
  },
  {
   "cell_type": "markdown",
   "id": "65174d52",
   "metadata": {},
   "source": [
    "#### Varmax with 'open' variable"
   ]
  },
  {
   "cell_type": "markdown",
   "id": "99b770ff",
   "metadata": {},
   "source": [
    "**NOTE** :\n",
    "To avoid spuroius relations ,We choose to consider only sales and customer as input series as both are correlated and can cause change in others. While the variables promo, dayofweek, open, stateholiday are not affected by sales or customers. We instead use them as exogeous variables. However, ASPC is a simple combination of Sales and customers, we avoid using it."
   ]
  },
  {
   "cell_type": "code",
   "execution_count": null,
   "id": "d1dbad0d",
   "metadata": {},
   "outputs": [],
   "source": [
    "# Varmax model\n",
    "Varmax_model = sm.tsa.VARMAX(train[['Sales', 'Customers']], order=(7,0), trend='n',exog=train[['Promo','SchoolHoliday','DayOfWeek','Open']])\n",
    "Varmax_model_fit = Varmax_model.fit(maxiter=1000, disp=False)\n",
    "print(Varmax_model_fit.summary())"
   ]
  },
  {
   "cell_type": "code",
   "execution_count": null,
   "id": "f6f3d21d",
   "metadata": {},
   "outputs": [],
   "source": [
    "start_index = test.index.min()\n",
    "end_index = test.index.max()\n",
    "varmax_pred = Varmax_model_fit.predict(start=start_index, end=end_index,exog=test[['Promo','SchoolHoliday','DayOfWeek','Open']])"
   ]
  },
  {
   "cell_type": "code",
   "execution_count": null,
   "id": "8917d6bd",
   "metadata": {},
   "outputs": [],
   "source": [
    "# plotting test and prediction graphs\n",
    "plot_train_test_pred(train,test,varmax_pred)"
   ]
  },
  {
   "cell_type": "code",
   "execution_count": null,
   "id": "862f2cf6",
   "metadata": {},
   "outputs": [],
   "source": [
    "# calculating error metrics \n",
    "\n",
    "error_metrics=error_metrics_func('25','varmax includes open',test,varmax_pred,error_metrics)\n",
    "\n",
    "error_metrics"
   ]
  },
  {
   "cell_type": "markdown",
   "id": "c0cfa90c",
   "metadata": {},
   "source": [
    "#### Impulse response function "
   ]
  },
  {
   "cell_type": "code",
   "execution_count": null,
   "id": "6bf2279c",
   "metadata": {},
   "outputs": [],
   "source": [
    "impulse_response_function_fig = Varmax_model_fit.impulse_responses(20, orthogonalized=True,exog=['Promo','SchoolHoliday','DayOfWeek','Open']).plot(figsize=(20,8))\n",
    "impulse_response_function_fig.set(xlabel='t', title='Responses to a shock to `sales`');"
   ]
  },
  {
   "cell_type": "markdown",
   "id": "3f55da96",
   "metadata": {},
   "source": [
    "> Observation:\n",
    "We observe that while sales and customer variable have significant impact in the time frame"
   ]
  },
  {
   "cell_type": "markdown",
   "id": "acf6ac8b",
   "metadata": {},
   "source": [
    "#### Final varmax_model\n"
   ]
  },
  {
   "cell_type": "code",
   "execution_count": null,
   "id": "4b6f296e",
   "metadata": {},
   "outputs": [],
   "source": [
    "# Varmax model\n",
    "Varmax_model = sm.tsa.VARMAX(train[['Sales', 'Customers']], order=(7,0), trend='n',exog=train[['Promo','SchoolHoliday','DayOfWeek']])\n",
    "Varmax_model_fit = Varmax_model.fit(maxiter=1000, disp=False)\n",
    "print(Varmax_model_fit.summary())"
   ]
  },
  {
   "cell_type": "code",
   "execution_count": null,
   "id": "804faafe",
   "metadata": {},
   "outputs": [],
   "source": [
    "start_index = test.index.min()\n",
    "end_index = test.index.max()\n",
    "varmax_pred = Varmax_model_fit.predict(start=start_index, end=end_index,exog=test[['Promo','SchoolHoliday','DayOfWeek']])"
   ]
  },
  {
   "cell_type": "code",
   "execution_count": null,
   "id": "e20f45a7",
   "metadata": {},
   "outputs": [],
   "source": [
    "# plotting test and prediction graphs\n",
    "plot_train_test_pred(train,test,varmax_pred)"
   ]
  },
  {
   "cell_type": "code",
   "execution_count": null,
   "id": "8bfcc551",
   "metadata": {},
   "outputs": [],
   "source": [
    "# calculating error metrics \n",
    "\n",
    "error_metrics=error_metrics_func('25','varmax',test,varmax_pred,error_metrics)\n",
    "\n",
    "error_metrics"
   ]
  },
  {
   "cell_type": "markdown",
   "id": "d1363682",
   "metadata": {},
   "source": [
    "#### Impulse response function "
   ]
  },
  {
   "cell_type": "code",
   "execution_count": null,
   "id": "0823982d",
   "metadata": {},
   "outputs": [],
   "source": [
    "impulse_response_function_fig = Varmax_model_fit.impulse_responses(20, orthogonalized=True,exog=['Promo','SchoolHoliday','DayOfWeek']).plot(figsize=(20,8))\n",
    "impulse_response_function_fig.set(xlabel='t', title='Responses to a shock to `sales`');"
   ]
  },
  {
   "cell_type": "markdown",
   "id": "c1dc7b1a",
   "metadata": {},
   "source": [
    "> Observation:\n",
    "We observe that while sales and customer variable have significant impact in the time frame"
   ]
  },
  {
   "cell_type": "markdown",
   "id": "2a0e6959",
   "metadata": {},
   "source": [
    "### Summary"
   ]
  },
  {
   "cell_type": "code",
   "execution_count": null,
   "id": "e811fbd9",
   "metadata": {},
   "outputs": [],
   "source": [
    "error_metrics.sort_values(by='MAPE',ascending=True,inplace=True)\n",
    "error_metrics"
   ]
  },
  {
   "cell_type": "code",
   "execution_count": null,
   "id": "91485217",
   "metadata": {},
   "outputs": [],
   "source": [
    "# Saving top of each store value for final presentation\n",
    "top_model_for_each_store=pd.concat([top_model_for_each_store,error_metrics.head(1)])\n",
    "top_model_for_each_store"
   ]
  },
  {
   "cell_type": "markdown",
   "id": "5a836309",
   "metadata": {},
   "source": [
    "> Observation \n",
    "\n",
    "When the models are compare using MAPE metrics, we find that VARMA is the best performing model. "
   ]
  },
  {
   "cell_type": "markdown",
   "id": "20ec19b7",
   "metadata": {},
   "source": [
    "## Store 29\n"
   ]
  },
  {
   "cell_type": "code",
   "execution_count": null,
   "id": "bbe5d567",
   "metadata": {},
   "outputs": [],
   "source": [
    "# Sorting the data by date in ascending order and setting data as index column\n",
    "store_29.sort_values(by='Date',ascending=True,inplace=True)\n",
    "store_29.set_index(keys='Date',inplace=True)\n"
   ]
  },
  {
   "cell_type": "code",
   "execution_count": null,
   "id": "4c905984",
   "metadata": {},
   "outputs": [],
   "source": [
    "store_29.nunique()"
   ]
  },
  {
   "cell_type": "markdown",
   "id": "8fa1473e",
   "metadata": {},
   "source": [
    "> Observation : It appears that only 3 variables are of continious type, and hence these are treated for outliers. Values above 99 percentile are capped"
   ]
  },
  {
   "cell_type": "code",
   "execution_count": null,
   "id": "57ff3f12",
   "metadata": {},
   "outputs": [],
   "source": [
    "num_cont_cols=[\"Sales\", \"Customers\",'ASPC']\n",
    "\n",
    "#capping numerical columns to 0 and 99 percentiles\n",
    "for col in num_cont_cols:\n",
    "    hq=store_29[[col]].quantile(q=99/100).values[0]\n",
    "    store_29[col].apply(lambda x : hq if x > hq else x )"
   ]
  },
  {
   "cell_type": "code",
   "execution_count": null,
   "id": "55244017",
   "metadata": {},
   "outputs": [],
   "source": [
    "# Visualising outliers\n",
    "plt.figure(figsize=(20,20))\n",
    "c=1\n",
    "for col in num_cont_cols:\n",
    "    plt.subplot(3,2,c)\n",
    "    sns.boxplot(x=store_29[col])\n",
    "    plt.title('Distribution of {}'.format(col))\n",
    "    c=c+1\n",
    "plt.show()"
   ]
  },
  {
   "cell_type": "code",
   "execution_count": null,
   "id": "992d728c",
   "metadata": {},
   "outputs": [],
   "source": [
    "# Standardising numerical columns\n",
    "scale = StandardScaler()\n",
    "store_29[[\"Sales\", \"Customers\",'ASPC']] = scale.fit_transform(store_29[[\"Sales\", \"Customers\",'ASPC']])\n",
    "\n",
    "store_29.describe()"
   ]
  },
  {
   "cell_type": "code",
   "execution_count": null,
   "id": "f37cd74f",
   "metadata": {},
   "outputs": [],
   "source": [
    "# Visualising data after standardising\n",
    "plt.figure(figsize=(20,20))\n",
    "c=1\n",
    "for col in num_cont_cols:\n",
    "    plt.subplot(3,2,c)\n",
    "    sns.distplot(x=store_29[col])\n",
    "    plt.title('Distribution of {}'.format(col))\n",
    "    c=c+1\n",
    "plt.show()"
   ]
  },
  {
   "cell_type": "markdown",
   "id": "a24ca6f1",
   "metadata": {},
   "source": [
    "> Observation: \n",
    "we can obseve that the distplot shows a bi-modal plot. The major mode is normally distributed in all the 3 cases. However, this is not the case in the peak (where sales =0). This is because the store is closed on Sundays and hence has 0 sales. This is crucial information with respect to prediction, hence we choose to ignore it. "
   ]
  },
  {
   "cell_type": "markdown",
   "id": "1a6a5962",
   "metadata": {},
   "source": [
    "### Visualisation"
   ]
  },
  {
   "cell_type": "code",
   "execution_count": null,
   "id": "75a261ef",
   "metadata": {},
   "outputs": [],
   "source": [
    "# Visualising the trend of sales\n",
    "\n",
    "store_29['Sales'].plot(figsize=(20, 4))\n",
    "plt.title('Sales')\n",
    "plt.show()\n",
    "\n",
    "plt.figure(figsize=(20, 4))\n",
    "sns.boxplot(x=store_29['Sales'])\n",
    "plt.title('Distribution of {}'.format('Sales'))\n",
    "plt.show()\n",
    "\n"
   ]
  },
  {
   "cell_type": "markdown",
   "id": "2a83d25c",
   "metadata": {},
   "source": [
    "### Time series decomposition"
   ]
  },
  {
   "cell_type": "code",
   "execution_count": null,
   "id": "db7f51d8",
   "metadata": {},
   "outputs": [],
   "source": [
    "rcParams['figure.figsize'] = (12, 8)\n",
    "decomposition = sm.tsa.seasonal_decompose(store_29.Sales, model='additive') # additive seasonal index\n",
    "fig = decomposition.plot()\n",
    "plt.show()"
   ]
  },
  {
   "cell_type": "markdown",
   "id": "107850ee",
   "metadata": {},
   "source": [
    "> Observation : \n",
    "\n",
    "We observe that there is no significant pattern in the residuals, hence we select the additive model over the multiplicative model\n"
   ]
  },
  {
   "cell_type": "markdown",
   "id": "dfb6130e",
   "metadata": {},
   "source": [
    "### Splitting data into test and train"
   ]
  },
  {
   "cell_type": "code",
   "execution_count": null,
   "id": "5368ea05",
   "metadata": {},
   "outputs": [],
   "source": [
    "# Splitting dataset into test and train\n",
    "weeks=6\n",
    "n_of_obs=7*weeks#(7 days multiplied by 6 weeks)\n",
    "train = store_29.iloc[:len(store_29)-n_of_obs,:]\n",
    "test = store_29.iloc[len(store_29)-n_of_obs:,:]"
   ]
  },
  {
   "cell_type": "markdown",
   "id": "24a3791f",
   "metadata": {},
   "source": [
    "### Modelling"
   ]
  },
  {
   "cell_type": "code",
   "execution_count": null,
   "id": "24908f99",
   "metadata": {},
   "outputs": [],
   "source": [
    "# Custom function for plotting test and predicted output\n",
    "def plot_train_test_pred(train,test,pred):\n",
    "    plt.figure(figsize=(20,8))\n",
    "    plt.plot(test['Sales'],label='Test')\n",
    "    plt.plot(pred['Sales'],label='Predicted')\n",
    "    plt.legend()\n",
    "    plt.title('Comparing test and predicted values')\n",
    "    plt.show()"
   ]
  },
  {
   "cell_type": "code",
   "execution_count": null,
   "id": "6f3655d7",
   "metadata": {},
   "outputs": [],
   "source": [
    "# Custom function to calculate update error metrics\n",
    "def error_metrics_func(store,method,test, pred,error_metrics):\n",
    "    rmse=np.sqrt(mean_squared_error(test['Sales'],pred['Sales']))\n",
    "    mape=np.abs(np.mean(np.abs(test['Sales']-pred['Sales'])/test['Sales'])*100)\n",
    "    mae=mean_absolute_error(test['Sales'],pred['Sales'])\n",
    "    error=pd.DataFrame({'Store':[store],'Method':[method], 'MAPE': [mape], 'RMSE': [rmse], 'MAE': [mae]})\n",
    "    error_metrics=pd.concat([error_metrics,error])\n",
    "    return error_metrics\n",
    "    \n",
    "    "
   ]
  },
  {
   "cell_type": "code",
   "execution_count": null,
   "id": "7046caf3",
   "metadata": {},
   "outputs": [],
   "source": [
    "# Custom function to test stationarity at 0.95 confidence\n",
    "def stationary_test(df,col):\n",
    "    adf_test=adfuller(store_29[col])\n",
    "    print('='*116)\n",
    "    print('performing adf test on {}'. format(col))\n",
    "    print('ADF Stat:', adf_test[0])\n",
    "    print('Critical value at 0.05',adf_test[4]['5%'])\n",
    "    p_value=adf_test[1]\n",
    "    print('P-value:',adf_test[1])\n",
    "    print()\n",
    "    if p_value <0.05:\n",
    "        print('-> {} Series is stationary'.format(col))\n",
    "    else:\n",
    "        print('-> {} Series is not stationary'.format(col))\n",
    "    print('='*116)"
   ]
  },
  {
   "cell_type": "code",
   "execution_count": null,
   "id": "cb45a10d",
   "metadata": {},
   "outputs": [],
   "source": [
    "#  Initialising empty dataframe as error_metrics to be used later\n",
    "error_metrics=pd.DataFrame([])"
   ]
  },
  {
   "cell_type": "markdown",
   "id": "b97aaa99",
   "metadata": {},
   "source": [
    "#### Naive method\n",
    "We first start with the naive method"
   ]
  },
  {
   "cell_type": "code",
   "execution_count": null,
   "id": "5797a3d3",
   "metadata": {},
   "outputs": [],
   "source": [
    "# Naive Method\n",
    "naive_pred = test.copy()\n",
    "naive_pred['Sales'] = train['Sales'][n_of_obs-1]"
   ]
  },
  {
   "cell_type": "code",
   "execution_count": null,
   "id": "5a399a69",
   "metadata": {},
   "outputs": [],
   "source": [
    "# plotting test and prediction graphs\n",
    "plot_train_test_pred(train,test,naive_pred)"
   ]
  },
  {
   "cell_type": "code",
   "execution_count": null,
   "id": "43ac2fdc",
   "metadata": {},
   "outputs": [],
   "source": [
    "# calculating error metrics \n",
    "error_metrics=error_metrics_func('29','naive',test,naive_pred,error_metrics)\n",
    "error_metrics"
   ]
  },
  {
   "cell_type": "markdown",
   "id": "96c07583",
   "metadata": {},
   "source": [
    "#### Simple moving average method\n",
    "\n",
    "We now attempt simple moving average model"
   ]
  },
  {
   "cell_type": "markdown",
   "id": "be1c0914",
   "metadata": {},
   "source": [
    "on seeing the graph, it appears that the trend repeats after every 7 days, hence we keep the moving average also as 7 days"
   ]
  },
  {
   "cell_type": "code",
   "execution_count": null,
   "id": "5642a03e",
   "metadata": {},
   "outputs": [],
   "source": [
    "ma_window=7"
   ]
  },
  {
   "cell_type": "code",
   "execution_count": null,
   "id": "c39a858e",
   "metadata": {},
   "outputs": [],
   "source": [
    "# moving average method \n",
    "simple_moving_average_pred = test.copy()\n",
    "simple_moving_average_pred['Sales'] = store_29['Sales'].rolling(ma_window).mean()\n",
    "simple_moving_average_pred['Sales'][len(store_29)-n_of_obs:] = train['Sales'][n_of_obs-1]"
   ]
  },
  {
   "cell_type": "code",
   "execution_count": null,
   "id": "595047ff",
   "metadata": {},
   "outputs": [],
   "source": [
    "# plotting test and prediction graphs\n",
    "plot_train_test_pred(train,test,simple_moving_average_pred)"
   ]
  },
  {
   "cell_type": "code",
   "execution_count": null,
   "id": "6c68fce1",
   "metadata": {},
   "outputs": [],
   "source": [
    "# calculating error metrics \n",
    "error_metrics=error_metrics_func('29','simple_moving_average',test,simple_moving_average_pred,error_metrics)\n",
    "\n",
    "error_metrics"
   ]
  },
  {
   "cell_type": "markdown",
   "id": "e379e142",
   "metadata": {},
   "source": [
    "#### holt winters method with additive trend and seasonality"
   ]
  },
  {
   "cell_type": "code",
   "execution_count": null,
   "id": "b3c2b1a0",
   "metadata": {},
   "outputs": [],
   "source": [
    "# Attempting holt-winters additive trend with additive seasonality\n",
    "hwa_pred = test.copy()\n",
    "model = ExponentialSmoothing(np.asarray(train['Sales']) ,seasonal_periods=7 ,trend='add', seasonal='add')\n",
    "model_fit = model.fit(optimized=True)\n",
    "print(model_fit.params)\n",
    "hwa_pred['Sales'] = model_fit.forecast(42)"
   ]
  },
  {
   "cell_type": "code",
   "execution_count": null,
   "id": "85cd0e40",
   "metadata": {},
   "outputs": [],
   "source": [
    "# plotting test and prediction graphs\n",
    "plot_train_test_pred(train,test,hwa_pred)"
   ]
  },
  {
   "cell_type": "code",
   "execution_count": null,
   "id": "dd253872",
   "metadata": {},
   "outputs": [],
   "source": [
    "# calculating error metrics \n",
    "error_metrics=error_metrics_func('29','holt winters method with additive trend and seasonality',test,hwa_pred,error_metrics)\n",
    "error_metrics"
   ]
  },
  {
   "cell_type": "markdown",
   "id": "d25d593e",
   "metadata": {},
   "source": [
    "#### ARIMA family pre-requisites"
   ]
  },
  {
   "cell_type": "code",
   "execution_count": null,
   "id": "ae735714",
   "metadata": {},
   "outputs": [],
   "source": [
    "# We perform the stationarity test on the numerical columns, Namely, Sales, Customers and ASPC\n",
    "\n",
    "stationary_test(store_29,'Sales')\n",
    "stationary_test(store_29,'Customers')\n",
    "stationary_test(store_29,'ASPC')\n",
    "stationary_test(store_29,'DayOfWeek')\n",
    "stationary_test(store_29,'Open')\n",
    "stationary_test(store_29,'Promo')"
   ]
  },
  {
   "cell_type": "markdown",
   "id": "9e840392",
   "metadata": {},
   "source": [
    "> Observation\n",
    "\n",
    "We find that all the desired endogenous variables are stationary with 95% confidence. This is acceptable for our study, hence we conclude that all the required series are stationary"
   ]
  },
  {
   "cell_type": "code",
   "execution_count": null,
   "id": "839c3ca8",
   "metadata": {},
   "outputs": [],
   "source": [
    "# Plotting ACF graph to determin q\n",
    "plt.figure(figsize=(20,8))\n",
    "plot_acf(store_29['Customers'],ax=plt.gca(),lags=60)\n",
    "plt.show()"
   ]
  },
  {
   "cell_type": "markdown",
   "id": "84e12008",
   "metadata": {},
   "source": [
    "> Observation \n",
    "It is clearly seen that there is a seasonal pattern in the ACF  graph, hence we consider q to be 0"
   ]
  },
  {
   "cell_type": "code",
   "execution_count": null,
   "id": "0368d942",
   "metadata": {},
   "outputs": [],
   "source": [
    "# Plotting PACF graph to determine p \n",
    "plt.figure(figsize=(20,8))\n",
    "plot_pacf(store_29['Customers'],ax=plt.gca(),lags=60)\n",
    "plt.show()"
   ]
  },
  {
   "cell_type": "markdown",
   "id": "23a6e1dc",
   "metadata": {},
   "source": [
    "> Observation \n",
    "We observe that the graph dies down considerably after the 49th period. However, this would make our model very complex, hence we settle at a lower number of 14 after which the reduction in PACF values slows down"
   ]
  },
  {
   "cell_type": "markdown",
   "id": "d4e72a55",
   "metadata": {},
   "source": [
    "#### Arima model"
   ]
  },
  {
   "cell_type": "code",
   "execution_count": null,
   "id": "893e7569",
   "metadata": {
    "scrolled": true
   },
   "outputs": [],
   "source": [
    "# Arima model with p=14 , d=0 ( series was stationary without preprocessing) and q=0\n",
    "arima_model = SARIMAX(train['Sales'], order=(14, 0, 0))\n",
    "arima_model_fit = arima_model.fit()\n",
    "print(arima_model_fit.params)"
   ]
  },
  {
   "cell_type": "code",
   "execution_count": null,
   "id": "33a57862",
   "metadata": {},
   "outputs": [],
   "source": [
    "arima_pred = test.copy()\n",
    "arima_pred['Sales'] = arima_model_fit.predict(test.index.min(), test.index.max())"
   ]
  },
  {
   "cell_type": "code",
   "execution_count": null,
   "id": "67c275ab",
   "metadata": {},
   "outputs": [],
   "source": [
    "# plotting test and prediction graphs\n",
    "plot_train_test_pred(train,test,arima_pred)"
   ]
  },
  {
   "cell_type": "code",
   "execution_count": null,
   "id": "a5382f03",
   "metadata": {},
   "outputs": [],
   "source": [
    "# calculating error metrics \n",
    "error_metrics=error_metrics_func('29','ARIMA',test,arima_pred,error_metrics)\n",
    "error_metrics"
   ]
  },
  {
   "cell_type": "code",
   "execution_count": null,
   "id": "fd9691f6",
   "metadata": {},
   "outputs": [],
   "source": [
    "#SARIMA,SArima model with p=7 , d=0 ( series was stationary without preprocessing) and q=0\n",
    "# Values of PQD were arrived by trial and error while m is choosen to be 14 ( mulitple of 7)\n",
    "SARIMAX_model = SARIMAX(train['Sales'], order=(7, 0, 0),seasonal_order=(10,0,0, 14))\n",
    "SARIMAX_model_fit = SARIMAX_model.fit()\n",
    "print(SARIMAX_model_fit.params)"
   ]
  },
  {
   "cell_type": "code",
   "execution_count": null,
   "id": "21a24ab2",
   "metadata": {},
   "outputs": [],
   "source": [
    "sarima_pred = test.copy()\n",
    "sarima_pred['Sales'] = SARIMAX_model_fit.predict(test.index.min(), test.index.max())"
   ]
  },
  {
   "cell_type": "code",
   "execution_count": null,
   "id": "bbb7798e",
   "metadata": {},
   "outputs": [],
   "source": [
    "# plotting test and prediction graphs\n",
    "plot_train_test_pred(train,test,sarima_pred)"
   ]
  },
  {
   "cell_type": "code",
   "execution_count": null,
   "id": "3bbe3af4",
   "metadata": {},
   "outputs": [],
   "source": [
    "# calculating error metrics \n",
    "error_metrics=error_metrics_func('29','SARIMA',test,sarima_pred,error_metrics)\n",
    "error_metrics"
   ]
  },
  {
   "cell_type": "code",
   "execution_count": null,
   "id": "0c8c48b2",
   "metadata": {},
   "outputs": [],
   "source": [
    "#SARIMAX,SArima model with p=14 , d=0 ( series was stationary without preprocessing) and q=0\n",
    "# Values of PQD were arrived by trial and error while m is choosen to be 14 ( mulitple of 7)\n",
    "\n",
    "SARIMAX_model = SARIMAX(train['Sales'], order=(1, 0, 0),seasonal_order=(7,0,0,7),exog=train[['DayOfWeek','Promo','Open','StateHoliday_0']])\n",
    "SARIMAX_model_fit = SARIMAX_model.fit()\n",
    "print(SARIMAX_model_fit.params)\n",
    "\n"
   ]
  },
  {
   "cell_type": "code",
   "execution_count": null,
   "id": "7b9c971b",
   "metadata": {},
   "outputs": [],
   "source": [
    "sarimax_pred = test.copy()\n",
    "sarimax_pred['Sales'] = SARIMAX_model_fit.predict(test.index.min(), test.index.max(),exog=test[['DayOfWeek','Promo','Open','StateHoliday_0']])\n"
   ]
  },
  {
   "cell_type": "code",
   "execution_count": null,
   "id": "7ca3eb1b",
   "metadata": {},
   "outputs": [],
   "source": [
    "# plotting test and prediction graphs\n",
    "plot_train_test_pred(train,test,sarimax_pred)"
   ]
  },
  {
   "cell_type": "code",
   "execution_count": null,
   "id": "2265bfa9",
   "metadata": {},
   "outputs": [],
   "source": [
    "error_metrics=error_metrics_func('29','SARIMAX',test,sarimax_pred,error_metrics)\n",
    "error_metrics"
   ]
  },
  {
   "cell_type": "markdown",
   "id": "70509333",
   "metadata": {},
   "source": [
    "#### VAR Model pre-requisites"
   ]
  },
  {
   "cell_type": "markdown",
   "id": "6160fd6e",
   "metadata": {},
   "source": [
    "check co-integration"
   ]
  },
  {
   "cell_type": "code",
   "execution_count": null,
   "id": "e79362a8",
   "metadata": {},
   "outputs": [],
   "source": [
    "from statsmodels.tsa.vector_ar.vecm import select_coint_rank"
   ]
  },
  {
   "cell_type": "code",
   "execution_count": null,
   "id": "b9821ec7",
   "metadata": {},
   "outputs": [],
   "source": [
    "store_29"
   ]
  },
  {
   "cell_type": "code",
   "execution_count": null,
   "id": "174e9a97",
   "metadata": {},
   "outputs": [],
   "source": [
    "rank=select_coint_rank(store_29[['Sales','Customers','ASPC','DayOfWeek','Promo','Open','SchoolHoliday','StateHoliday_0']],-1,1)\n",
    "print('The rank of trace matrix is: {} while it has {} cols' .format(rank.rank,8))"
   ]
  },
  {
   "cell_type": "markdown",
   "id": "1610e08c",
   "metadata": {},
   "source": [
    "> Observation : We observe that the length of columns is not equal to rank, hence some of the elements are not con integerated. Hence by trial and error we identify the co-integerated ones"
   ]
  },
  {
   "cell_type": "code",
   "execution_count": null,
   "id": "fdcf96ea",
   "metadata": {},
   "outputs": [],
   "source": [
    "rank=select_coint_rank(store_29[['Sales','Customers','ASPC','DayOfWeek','Promo']],-1,1)\n",
    "print('The rank of trace matrix is: {} while it has {} cols' .format(rank.rank,5))"
   ]
  },
  {
   "cell_type": "markdown",
   "id": "a8587b64",
   "metadata": {},
   "source": [
    "We know that, for 2 column trace matrix, If rank(π) = 2 ⇒ that there are unique values for \n",
    "ω\n",
    "1\n",
    " and \n",
    "ω\n",
    "2\n",
    " which is possible only when both \n",
    "y\n",
    "1\n",
    "t\n",
    " and \n",
    "y\n",
    "2\n",
    "t\n",
    " are stationary ⇒ \n",
    "y\n",
    "1\n",
    "t\n",
    " and \n",
    "y\n",
    "2\n",
    "t\n",
    " are not cointegrated ⇒ Since these are stationary, you can build a VAR/ VARMAX model"
   ]
  },
  {
   "cell_type": "markdown",
   "id": "d1115733",
   "metadata": {},
   "source": [
    "Hence we can say that the columns 'Sales','Customers','ASPC','DayOfWeek','Promo' are all co-integerated and we can build a VAR Model without violating the principles"
   ]
  },
  {
   "cell_type": "markdown",
   "id": "3b1f5a1e",
   "metadata": {},
   "source": [
    "#### Varma model"
   ]
  },
  {
   "cell_type": "markdown",
   "id": "17109d34",
   "metadata": {},
   "source": [
    "**NOTE** :\n",
    "To avoid spuroius relations ,We choose to consider only sales and customer as input series as both are correlated and can cause change in others. While the variables promo, dayofweek, open, stateholiday are not affected by sales or customers. However, ASPC is a simple combination of Sales and customers, we avoid using it."
   ]
  },
  {
   "cell_type": "code",
   "execution_count": null,
   "id": "dafc7cf1",
   "metadata": {},
   "outputs": [],
   "source": [
    "# VARMA model\n",
    "\n",
    "VARMA_model = sm.tsa.VARMAX(train[['Sales', 'Customers']], order=(7,0), trend='n')\n",
    "VARMA_model_fit = VARMA_model.fit(maxiter=1000, disp=False)\n",
    "print(VARMA_model_fit.summary())"
   ]
  },
  {
   "cell_type": "code",
   "execution_count": null,
   "id": "40245899",
   "metadata": {},
   "outputs": [],
   "source": [
    "start_index = test.index.min()\n",
    "end_index = test.index.max()\n",
    "varma_pred = VARMA_model_fit.predict(start=start_index, end=end_index)"
   ]
  },
  {
   "cell_type": "code",
   "execution_count": null,
   "id": "e62ba80f",
   "metadata": {},
   "outputs": [],
   "source": [
    "# plotting test and prediction graphs\n",
    "plot_train_test_pred(train,test,varma_pred)"
   ]
  },
  {
   "cell_type": "code",
   "execution_count": null,
   "id": "397ec89a",
   "metadata": {},
   "outputs": [],
   "source": [
    "# calculating error metrics \n",
    "error_metrics=error_metrics_func('29','varma',test,varma_pred,error_metrics)\n",
    "error_metrics"
   ]
  },
  {
   "cell_type": "markdown",
   "id": "826065a9",
   "metadata": {},
   "source": [
    "#### Varmax model "
   ]
  },
  {
   "cell_type": "code",
   "execution_count": null,
   "id": "edc5e71c",
   "metadata": {},
   "outputs": [],
   "source": [
    "store_29.columns"
   ]
  },
  {
   "cell_type": "code",
   "execution_count": null,
   "id": "87cb0b98",
   "metadata": {
    "scrolled": false
   },
   "outputs": [],
   "source": [
    "# Varmax model\n",
    "Varmax_model = sm.tsa.VARMAX(train[['Sales', 'Customers', 'Promo']], order=(7,0), trend='n')\n",
    "Varmax_model_fit = Varmax_model.fit(maxiter=1000, disp=False)\n",
    "print(Varmax_model_fit.summary())"
   ]
  },
  {
   "cell_type": "code",
   "execution_count": null,
   "id": "2b4058ee",
   "metadata": {},
   "outputs": [],
   "source": [
    "start_index = test.index.min()\n",
    "end_index = test.index.max()\n",
    "varmax_pred = Varmax_model_fit.predict(start=start_index, end=end_index)"
   ]
  },
  {
   "cell_type": "code",
   "execution_count": null,
   "id": "2c829112",
   "metadata": {},
   "outputs": [],
   "source": [
    "# plotting test and prediction graphs\n",
    "plot_train_test_pred(train,test,varmax_pred)"
   ]
  },
  {
   "cell_type": "code",
   "execution_count": null,
   "id": "78940b6c",
   "metadata": {},
   "outputs": [],
   "source": [
    "# calculating error metrics \n",
    "\n",
    "error_metrics=error_metrics_func('29','varmax includes promo',test,varmax_pred,error_metrics)\n",
    "\n",
    "error_metrics"
   ]
  },
  {
   "cell_type": "markdown",
   "id": "f18b4bdd",
   "metadata": {},
   "source": [
    "#### Impulse response function "
   ]
  },
  {
   "cell_type": "code",
   "execution_count": null,
   "id": "1de1ce3b",
   "metadata": {},
   "outputs": [],
   "source": [
    "impulse_response_function_fig = Varmax_model_fit.impulse_responses(20, orthogonalized=True).plot(figsize=(20,8))\n",
    "impulse_response_function_fig.set(xlabel='t', title='Responses to a shock to `sales`');"
   ]
  },
  {
   "cell_type": "markdown",
   "id": "db255b69",
   "metadata": {},
   "source": [
    "> Observation:\n",
    "We observe that while sales and customer variable have significant impact in the time frame, the same cannot be said of PROMO"
   ]
  },
  {
   "cell_type": "markdown",
   "id": "0c519e8d",
   "metadata": {},
   "source": [
    "#### Varmax with 'open' variable"
   ]
  },
  {
   "cell_type": "markdown",
   "id": "8dc692bc",
   "metadata": {},
   "source": [
    "**NOTE** :\n",
    "To avoid spuroius relations ,We choose to consider only sales and customer as input series as both are correlated and can cause change in others. While the variables promo, dayofweek, open, stateholiday are not affected by sales or customers. We instead use them as exogeous variables. However, ASPC is a simple combination of Sales and customers, we avoid using it."
   ]
  },
  {
   "cell_type": "code",
   "execution_count": null,
   "id": "e25bba93",
   "metadata": {},
   "outputs": [],
   "source": [
    "# Varmax model\n",
    "Varmax_model = sm.tsa.VARMAX(train[['Sales', 'Customers']], order=(7,0), trend='n',exog=train[['Promo','SchoolHoliday','DayOfWeek','Open']])\n",
    "Varmax_model_fit = Varmax_model.fit(maxiter=1000, disp=False)\n",
    "print(Varmax_model_fit.summary())"
   ]
  },
  {
   "cell_type": "code",
   "execution_count": null,
   "id": "1d2d7af8",
   "metadata": {},
   "outputs": [],
   "source": [
    "start_index = test.index.min()\n",
    "end_index = test.index.max()\n",
    "varmax_pred = Varmax_model_fit.predict(start=start_index, end=end_index,exog=test[['Promo','SchoolHoliday','DayOfWeek','Open']])"
   ]
  },
  {
   "cell_type": "code",
   "execution_count": null,
   "id": "866cd4c6",
   "metadata": {},
   "outputs": [],
   "source": [
    "# plotting test and prediction graphs\n",
    "plot_train_test_pred(train,test,varmax_pred)"
   ]
  },
  {
   "cell_type": "code",
   "execution_count": null,
   "id": "772a1413",
   "metadata": {},
   "outputs": [],
   "source": [
    "# calculating error metrics \n",
    "\n",
    "error_metrics=error_metrics_func('29','varmax includes open',test,varmax_pred,error_metrics)\n",
    "\n",
    "error_metrics"
   ]
  },
  {
   "cell_type": "markdown",
   "id": "3f48c95f",
   "metadata": {},
   "source": [
    "#### Impulse response function "
   ]
  },
  {
   "cell_type": "code",
   "execution_count": null,
   "id": "e661c2a2",
   "metadata": {},
   "outputs": [],
   "source": [
    "impulse_response_function_fig = Varmax_model_fit.impulse_responses(20, orthogonalized=True,exog=['Promo','SchoolHoliday','DayOfWeek','Open']).plot(figsize=(20,8))\n",
    "impulse_response_function_fig.set(xlabel='t', title='Responses to a shock to `sales`');"
   ]
  },
  {
   "cell_type": "markdown",
   "id": "a231231a",
   "metadata": {},
   "source": [
    "> Observation:\n",
    "We observe that while sales and customer variable have significant impact in the time frame"
   ]
  },
  {
   "cell_type": "markdown",
   "id": "397b51a8",
   "metadata": {},
   "source": [
    "#### Final varmax_model\n"
   ]
  },
  {
   "cell_type": "code",
   "execution_count": null,
   "id": "e30e4d97",
   "metadata": {},
   "outputs": [],
   "source": [
    "# Varmax model\n",
    "Varmax_model = sm.tsa.VARMAX(train[['Sales', 'Customers']], order=(7,0), trend='n',exog=train[['Promo','SchoolHoliday','DayOfWeek']])\n",
    "Varmax_model_fit = Varmax_model.fit(maxiter=1000, disp=False)\n",
    "print(Varmax_model_fit.summary())"
   ]
  },
  {
   "cell_type": "code",
   "execution_count": null,
   "id": "ffdd14bf",
   "metadata": {},
   "outputs": [],
   "source": [
    "start_index = test.index.min()\n",
    "end_index = test.index.max()\n",
    "varmax_pred = Varmax_model_fit.predict(start=start_index, end=end_index,exog=test[['Promo','SchoolHoliday','DayOfWeek']])"
   ]
  },
  {
   "cell_type": "code",
   "execution_count": null,
   "id": "ca49c7f5",
   "metadata": {},
   "outputs": [],
   "source": [
    "# plotting test and prediction graphs\n",
    "plot_train_test_pred(train,test,varmax_pred)"
   ]
  },
  {
   "cell_type": "code",
   "execution_count": null,
   "id": "a99be6eb",
   "metadata": {},
   "outputs": [],
   "source": [
    "# calculating error metrics \n",
    "\n",
    "error_metrics=error_metrics_func('29','varmax',test,varmax_pred,error_metrics)\n",
    "\n",
    "error_metrics"
   ]
  },
  {
   "cell_type": "markdown",
   "id": "841723de",
   "metadata": {},
   "source": [
    "#### Impulse response function "
   ]
  },
  {
   "cell_type": "code",
   "execution_count": null,
   "id": "e1eca82b",
   "metadata": {},
   "outputs": [],
   "source": [
    "impulse_response_function_fig = Varmax_model_fit.impulse_responses(20, orthogonalized=True,exog=['Promo','SchoolHoliday','DayOfWeek']).plot(figsize=(20,8))\n",
    "impulse_response_function_fig.set(xlabel='t', title='Responses to a shock to `sales`');"
   ]
  },
  {
   "cell_type": "markdown",
   "id": "b5d69017",
   "metadata": {},
   "source": [
    "> Observation:\n",
    "We observe that while sales and customer variable have significant impact in the time frame"
   ]
  },
  {
   "cell_type": "markdown",
   "id": "921f0c35",
   "metadata": {},
   "source": [
    "### Summary"
   ]
  },
  {
   "cell_type": "code",
   "execution_count": null,
   "id": "68e7a431",
   "metadata": {},
   "outputs": [],
   "source": [
    "error_metrics.sort_values(by='MAPE',ascending=True,inplace=True)\n",
    "error_metrics"
   ]
  },
  {
   "cell_type": "code",
   "execution_count": null,
   "id": "802541f3",
   "metadata": {},
   "outputs": [],
   "source": [
    "# Saving top of each store value for final presentation\n",
    "top_model_for_each_store=pd.concat([top_model_for_each_store,error_metrics.head(1)])\n",
    "top_model_for_each_store"
   ]
  },
  {
   "cell_type": "markdown",
   "id": "bb8e40ae",
   "metadata": {},
   "source": [
    "> Observation \n",
    "\n",
    "When the models are compare using MAPE metrics, we find that VARMA is the best performing model. "
   ]
  },
  {
   "cell_type": "markdown",
   "id": "f24363f2",
   "metadata": {},
   "source": [
    "## Store 31\n"
   ]
  },
  {
   "cell_type": "code",
   "execution_count": null,
   "id": "87154194",
   "metadata": {},
   "outputs": [],
   "source": [
    "# Sorting the data by date in ascending order and setting data as index column\n",
    "store_31.sort_values(by='Date',ascending=True,inplace=True)\n",
    "store_31.set_index(keys='Date',inplace=True)\n"
   ]
  },
  {
   "cell_type": "code",
   "execution_count": null,
   "id": "0f6f6ea7",
   "metadata": {},
   "outputs": [],
   "source": [
    "store_31.nunique()"
   ]
  },
  {
   "cell_type": "markdown",
   "id": "919822c4",
   "metadata": {},
   "source": [
    "> Observation : It appears that only 3 variables are of continious type, and hence these are treated for outliers. Values above 99 percentile are capped"
   ]
  },
  {
   "cell_type": "code",
   "execution_count": null,
   "id": "3e78175a",
   "metadata": {},
   "outputs": [],
   "source": [
    "num_cont_cols=[\"Sales\", \"Customers\",'ASPC']\n",
    "\n",
    "#capping numerical columns to 0 and 99 percentiles\n",
    "for col in num_cont_cols:\n",
    "    hq=store_31[[col]].quantile(q=99/100).values[0]\n",
    "    store_31[col].apply(lambda x : hq if x > hq else x )"
   ]
  },
  {
   "cell_type": "code",
   "execution_count": null,
   "id": "28f16432",
   "metadata": {},
   "outputs": [],
   "source": [
    "# Visualising outliers\n",
    "plt.figure(figsize=(20,20))\n",
    "c=1\n",
    "for col in num_cont_cols:\n",
    "    plt.subplot(3,2,c)\n",
    "    sns.boxplot(x=store_31[col])\n",
    "    plt.title('Distribution of {}'.format(col))\n",
    "    c=c+1\n",
    "plt.show()"
   ]
  },
  {
   "cell_type": "code",
   "execution_count": null,
   "id": "d0c4a6d9",
   "metadata": {},
   "outputs": [],
   "source": [
    "# Standardising numerical columns\n",
    "scale = StandardScaler()\n",
    "store_31[[\"Sales\", \"Customers\",'ASPC']] = scale.fit_transform(store_31[[\"Sales\", \"Customers\",'ASPC']])\n",
    "\n",
    "store_31.describe()"
   ]
  },
  {
   "cell_type": "code",
   "execution_count": null,
   "id": "05112452",
   "metadata": {},
   "outputs": [],
   "source": [
    "# Visualising data after standardising\n",
    "plt.figure(figsize=(20,20))\n",
    "c=1\n",
    "for col in num_cont_cols:\n",
    "    plt.subplot(3,2,c)\n",
    "    sns.distplot(x=store_31[col])\n",
    "    plt.title('Distribution of {}'.format(col))\n",
    "    c=c+1\n",
    "plt.show()"
   ]
  },
  {
   "cell_type": "markdown",
   "id": "721a390e",
   "metadata": {},
   "source": [
    "> Observation: \n",
    "we can obseve that the distplot shows a bi-modal plot. The major mode is normally distributed in all the 3 cases. However, this is not the case in the peak (where sales =0). This is because the store is closed on Sundays and hence has 0 sales. This is crucial information with respect to prediction, hence we choose to ignore it. "
   ]
  },
  {
   "cell_type": "markdown",
   "id": "7ad6b969",
   "metadata": {},
   "source": [
    "### Visualisation"
   ]
  },
  {
   "cell_type": "code",
   "execution_count": null,
   "id": "161a9569",
   "metadata": {},
   "outputs": [],
   "source": [
    "# Visualising the trend of sales\n",
    "\n",
    "store_31['Sales'].plot(figsize=(20, 4))\n",
    "plt.title('Sales')\n",
    "plt.show()\n",
    "\n",
    "plt.figure(figsize=(20, 4))\n",
    "sns.boxplot(x=store_31['Sales'])\n",
    "plt.title('Distribution of {}'.format('Sales'))\n",
    "plt.show()\n",
    "\n"
   ]
  },
  {
   "cell_type": "markdown",
   "id": "05e2e3f2",
   "metadata": {},
   "source": [
    "### Time series decomposition"
   ]
  },
  {
   "cell_type": "code",
   "execution_count": null,
   "id": "771ab397",
   "metadata": {},
   "outputs": [],
   "source": [
    "rcParams['figure.figsize'] = (12, 8)\n",
    "decomposition = sm.tsa.seasonal_decompose(store_31.Sales, model='additive') # additive seasonal index\n",
    "fig = decomposition.plot()\n",
    "plt.show()"
   ]
  },
  {
   "cell_type": "markdown",
   "id": "24feba82",
   "metadata": {},
   "source": [
    "> Observation : \n",
    "\n",
    "We observe that there is no significant pattern in the residuals, hence we select the additive model over the multiplicative model\n"
   ]
  },
  {
   "cell_type": "markdown",
   "id": "ac012e2d",
   "metadata": {},
   "source": [
    "### Splitting data into test and train"
   ]
  },
  {
   "cell_type": "code",
   "execution_count": null,
   "id": "40523868",
   "metadata": {},
   "outputs": [],
   "source": [
    "# Splitting dataset into test and train\n",
    "weeks=6\n",
    "n_of_obs=7*weeks#(7 days multiplied by 6 weeks)\n",
    "train = store_31.iloc[:len(store_31)-n_of_obs,:]\n",
    "test = store_31.iloc[len(store_31)-n_of_obs:,:]"
   ]
  },
  {
   "cell_type": "markdown",
   "id": "1161149b",
   "metadata": {},
   "source": [
    "### Modelling"
   ]
  },
  {
   "cell_type": "code",
   "execution_count": null,
   "id": "9ec2b4bd",
   "metadata": {},
   "outputs": [],
   "source": [
    "# Custom function for plotting test and predicted output\n",
    "def plot_train_test_pred(train,test,pred):\n",
    "    plt.figure(figsize=(20,8))\n",
    "    plt.plot(test['Sales'],label='Test')\n",
    "    plt.plot(pred['Sales'],label='Predicted')\n",
    "    plt.legend()\n",
    "    plt.title('Comparing test and predicted values')\n",
    "    plt.show()"
   ]
  },
  {
   "cell_type": "code",
   "execution_count": null,
   "id": "98dd4dcb",
   "metadata": {},
   "outputs": [],
   "source": [
    "# Custom function to calculate update error metrics\n",
    "def error_metrics_func(store,method,test, pred,error_metrics):\n",
    "    rmse=np.sqrt(mean_squared_error(test['Sales'],pred['Sales']))\n",
    "    mape=np.abs(np.mean(np.abs(test['Sales']-pred['Sales'])/test['Sales'])*100)\n",
    "    mae=mean_absolute_error(test['Sales'],pred['Sales'])\n",
    "    error=pd.DataFrame({'Store':[store],'Method':[method], 'MAPE': [mape], 'RMSE': [rmse], 'MAE': [mae]})\n",
    "    error_metrics=pd.concat([error_metrics,error])\n",
    "    return error_metrics\n",
    "    \n",
    "    "
   ]
  },
  {
   "cell_type": "code",
   "execution_count": null,
   "id": "08bf7b8d",
   "metadata": {},
   "outputs": [],
   "source": [
    "# Custom function to test stationarity at 0.95 confidence\n",
    "def stationary_test(df,col):\n",
    "    adf_test=adfuller(store_31[col])\n",
    "    print('='*116)\n",
    "    print('performing adf test on {}'. format(col))\n",
    "    print('ADF Stat:', adf_test[0])\n",
    "    print('Critical value at 0.05',adf_test[4]['5%'])\n",
    "    p_value=adf_test[1]\n",
    "    print('P-value:',adf_test[1])\n",
    "    print()\n",
    "    if p_value <0.05:\n",
    "        print('-> {} Series is stationary'.format(col))\n",
    "    else:\n",
    "        print('-> {} Series is not stationary'.format(col))\n",
    "    print('='*116)"
   ]
  },
  {
   "cell_type": "code",
   "execution_count": null,
   "id": "cf93f5f0",
   "metadata": {},
   "outputs": [],
   "source": [
    "#  Initialising empty dataframe as error_metrics to be used later\n",
    "error_metrics=pd.DataFrame([])"
   ]
  },
  {
   "cell_type": "markdown",
   "id": "32ad6983",
   "metadata": {},
   "source": [
    "#### Naive method\n",
    "We first start with the naive method"
   ]
  },
  {
   "cell_type": "code",
   "execution_count": null,
   "id": "43524f79",
   "metadata": {},
   "outputs": [],
   "source": [
    "# Naive Method\n",
    "naive_pred = test.copy()\n",
    "naive_pred['Sales'] = train['Sales'][n_of_obs-1]"
   ]
  },
  {
   "cell_type": "code",
   "execution_count": null,
   "id": "157eec2b",
   "metadata": {},
   "outputs": [],
   "source": [
    "# plotting test and prediction graphs\n",
    "plot_train_test_pred(train,test,naive_pred)"
   ]
  },
  {
   "cell_type": "code",
   "execution_count": null,
   "id": "d6b64cb5",
   "metadata": {},
   "outputs": [],
   "source": [
    "# calculating error metrics \n",
    "error_metrics=error_metrics_func('31','naive',test,naive_pred,error_metrics)\n",
    "error_metrics"
   ]
  },
  {
   "cell_type": "markdown",
   "id": "45c2cd83",
   "metadata": {},
   "source": [
    "#### Simple moving average method\n",
    "\n",
    "We now attempt simple moving average model"
   ]
  },
  {
   "cell_type": "markdown",
   "id": "9fe08fe6",
   "metadata": {},
   "source": [
    "on seeing the graph, it appears that the trend repeats after every 7 days, hence we keep the moving average also as 7 days"
   ]
  },
  {
   "cell_type": "code",
   "execution_count": null,
   "id": "63ca3311",
   "metadata": {},
   "outputs": [],
   "source": [
    "ma_window=7"
   ]
  },
  {
   "cell_type": "code",
   "execution_count": null,
   "id": "cc3745e6",
   "metadata": {},
   "outputs": [],
   "source": [
    "# moving average method \n",
    "simple_moving_average_pred = test.copy()\n",
    "simple_moving_average_pred['Sales'] = store_31['Sales'].rolling(ma_window).mean()\n",
    "simple_moving_average_pred['Sales'][len(store_31)-n_of_obs:] = train['Sales'][n_of_obs-1]"
   ]
  },
  {
   "cell_type": "code",
   "execution_count": null,
   "id": "6a00d1c9",
   "metadata": {},
   "outputs": [],
   "source": [
    "# plotting test and prediction graphs\n",
    "plot_train_test_pred(train,test,simple_moving_average_pred)"
   ]
  },
  {
   "cell_type": "code",
   "execution_count": null,
   "id": "15d683c7",
   "metadata": {},
   "outputs": [],
   "source": [
    "# calculating error metrics \n",
    "error_metrics=error_metrics_func('31','simple_moving_average',test,simple_moving_average_pred,error_metrics)\n",
    "\n",
    "error_metrics"
   ]
  },
  {
   "cell_type": "markdown",
   "id": "955f8cbf",
   "metadata": {},
   "source": [
    "#### holt winters method with additive trend and seasonality"
   ]
  },
  {
   "cell_type": "code",
   "execution_count": null,
   "id": "8230764b",
   "metadata": {},
   "outputs": [],
   "source": [
    "# Attempting holt-winters additive trend with additive seasonality\n",
    "hwa_pred = test.copy()\n",
    "model = ExponentialSmoothing(np.asarray(train['Sales']) ,seasonal_periods=7 ,trend='add', seasonal='add')\n",
    "model_fit = model.fit(optimized=True)\n",
    "print(model_fit.params)\n",
    "hwa_pred['Sales'] = model_fit.forecast(42)"
   ]
  },
  {
   "cell_type": "code",
   "execution_count": null,
   "id": "e3d2058a",
   "metadata": {},
   "outputs": [],
   "source": [
    "# plotting test and prediction graphs\n",
    "plot_train_test_pred(train,test,hwa_pred)"
   ]
  },
  {
   "cell_type": "code",
   "execution_count": null,
   "id": "26146f04",
   "metadata": {},
   "outputs": [],
   "source": [
    "# calculating error metrics \n",
    "error_metrics=error_metrics_func('31','holt winters method with additive trend and seasonality',test,hwa_pred,error_metrics)\n",
    "error_metrics"
   ]
  },
  {
   "cell_type": "markdown",
   "id": "9c855ec0",
   "metadata": {},
   "source": [
    "#### ARIMA family pre-requisites"
   ]
  },
  {
   "cell_type": "code",
   "execution_count": null,
   "id": "6f9c1f02",
   "metadata": {},
   "outputs": [],
   "source": [
    "# We perform the stationarity test on the numerical columns, Namely, Sales, Customers and ASPC\n",
    "\n",
    "stationary_test(store_31,'Sales')\n",
    "stationary_test(store_31,'Customers')\n",
    "stationary_test(store_31,'ASPC')\n",
    "stationary_test(store_31,'DayOfWeek')\n",
    "stationary_test(store_31,'Open')\n",
    "stationary_test(store_31,'Promo')"
   ]
  },
  {
   "cell_type": "markdown",
   "id": "dd036511",
   "metadata": {},
   "source": [
    "> Observation\n",
    "\n",
    "We find that all the desired endogenous variables are stationary with 95% confidence. This is acceptable for our study, hence we conclude that all the required series are stationary"
   ]
  },
  {
   "cell_type": "code",
   "execution_count": null,
   "id": "c12b0bf6",
   "metadata": {},
   "outputs": [],
   "source": [
    "# Plotting ACF graph to determin q\n",
    "plt.figure(figsize=(20,8))\n",
    "plot_acf(store_31['Customers'],ax=plt.gca(),lags=60)\n",
    "plt.show()"
   ]
  },
  {
   "cell_type": "markdown",
   "id": "73340e28",
   "metadata": {},
   "source": [
    "> Observation \n",
    "It is clearly seen that there is a seasonal pattern in the ACF  graph, hence we consider q to be 0"
   ]
  },
  {
   "cell_type": "code",
   "execution_count": null,
   "id": "05492086",
   "metadata": {},
   "outputs": [],
   "source": [
    "# Plotting PACF graph to determine p \n",
    "plt.figure(figsize=(20,8))\n",
    "plot_pacf(store_31['Customers'],ax=plt.gca(),lags=60)\n",
    "plt.show()"
   ]
  },
  {
   "cell_type": "markdown",
   "id": "c41805a2",
   "metadata": {},
   "source": [
    "> Observation \n",
    "We observe that the graph dies down considerably after the 49th period. However, this would make our model very complex, hence we settle at a lower number of 14 after which the reduction in PACF values slows down"
   ]
  },
  {
   "cell_type": "markdown",
   "id": "6d387228",
   "metadata": {},
   "source": [
    "#### Arima model"
   ]
  },
  {
   "cell_type": "code",
   "execution_count": null,
   "id": "4ea09f59",
   "metadata": {
    "scrolled": true
   },
   "outputs": [],
   "source": [
    "# Arima model with p=14 , d=0 ( series was stationary without preprocessing) and q=0\n",
    "arima_model = SARIMAX(train['Sales'], order=(14, 0, 0))\n",
    "arima_model_fit = arima_model.fit()\n",
    "print(arima_model_fit.params)"
   ]
  },
  {
   "cell_type": "code",
   "execution_count": null,
   "id": "d3b69e61",
   "metadata": {},
   "outputs": [],
   "source": [
    "arima_pred = test.copy()\n",
    "arima_pred['Sales'] = arima_model_fit.predict(test.index.min(), test.index.max())"
   ]
  },
  {
   "cell_type": "code",
   "execution_count": null,
   "id": "d763c5d8",
   "metadata": {},
   "outputs": [],
   "source": [
    "# plotting test and prediction graphs\n",
    "plot_train_test_pred(train,test,arima_pred)"
   ]
  },
  {
   "cell_type": "code",
   "execution_count": null,
   "id": "d33d1086",
   "metadata": {},
   "outputs": [],
   "source": [
    "# calculating error metrics \n",
    "error_metrics=error_metrics_func('31','ARIMA',test,arima_pred,error_metrics)\n",
    "error_metrics"
   ]
  },
  {
   "cell_type": "code",
   "execution_count": null,
   "id": "d4f10f5a",
   "metadata": {},
   "outputs": [],
   "source": [
    "#SARIMA,SArima model with p=7 , d=0 ( series was stationary without preprocessing) and q=0\n",
    "# Values of PQD were arrived by trial and error while m is choosen to be 14 ( mulitple of 7)\n",
    "SARIMAX_model = SARIMAX(train['Sales'], order=(7, 0, 0),seasonal_order=(10,0,0, 14))\n",
    "SARIMAX_model_fit = SARIMAX_model.fit()\n",
    "print(SARIMAX_model_fit.params)"
   ]
  },
  {
   "cell_type": "code",
   "execution_count": null,
   "id": "ea6117cf",
   "metadata": {},
   "outputs": [],
   "source": [
    "sarima_pred = test.copy()\n",
    "sarima_pred['Sales'] = SARIMAX_model_fit.predict(test.index.min(), test.index.max())"
   ]
  },
  {
   "cell_type": "code",
   "execution_count": null,
   "id": "c319ecb5",
   "metadata": {},
   "outputs": [],
   "source": [
    "# plotting test and prediction graphs\n",
    "plot_train_test_pred(train,test,sarima_pred)"
   ]
  },
  {
   "cell_type": "code",
   "execution_count": null,
   "id": "cf3fd5f0",
   "metadata": {},
   "outputs": [],
   "source": [
    "# calculating error metrics \n",
    "error_metrics=error_metrics_func('31','SARIMA',test,sarima_pred,error_metrics)\n",
    "error_metrics"
   ]
  },
  {
   "cell_type": "code",
   "execution_count": null,
   "id": "f730fe7a",
   "metadata": {},
   "outputs": [],
   "source": [
    "#SARIMAX,SArima model with p=14 , d=0 ( series was stationary without preprocessing) and q=0\n",
    "# Values of PQD were arrived by trial and error while m is choosen to be 14 ( mulitple of 7)\n",
    "\n",
    "SARIMAX_model = SARIMAX(train['Sales'], order=(1, 0, 0),seasonal_order=(7,0,0,7),exog=train[['DayOfWeek','Promo','Open','StateHoliday_0']])\n",
    "SARIMAX_model_fit = SARIMAX_model.fit()\n",
    "print(SARIMAX_model_fit.params)\n",
    "\n"
   ]
  },
  {
   "cell_type": "code",
   "execution_count": null,
   "id": "eac29441",
   "metadata": {},
   "outputs": [],
   "source": [
    "sarimax_pred = test.copy()\n",
    "sarimax_pred['Sales'] = SARIMAX_model_fit.predict(test.index.min(), test.index.max(),exog=test[['DayOfWeek','Promo','Open','StateHoliday_0']])\n"
   ]
  },
  {
   "cell_type": "code",
   "execution_count": null,
   "id": "46928628",
   "metadata": {},
   "outputs": [],
   "source": [
    "# plotting test and prediction graphs\n",
    "plot_train_test_pred(train,test,sarimax_pred)"
   ]
  },
  {
   "cell_type": "code",
   "execution_count": null,
   "id": "a957b832",
   "metadata": {},
   "outputs": [],
   "source": [
    "error_metrics=error_metrics_func('31','SARIMAX',test,sarimax_pred,error_metrics)\n",
    "error_metrics"
   ]
  },
  {
   "cell_type": "markdown",
   "id": "f66bd9bd",
   "metadata": {},
   "source": [
    "#### VAR Model pre-requisites"
   ]
  },
  {
   "cell_type": "markdown",
   "id": "24b83c6e",
   "metadata": {},
   "source": [
    "check co-integration"
   ]
  },
  {
   "cell_type": "code",
   "execution_count": null,
   "id": "d312ac79",
   "metadata": {},
   "outputs": [],
   "source": [
    "from statsmodels.tsa.vector_ar.vecm import select_coint_rank"
   ]
  },
  {
   "cell_type": "code",
   "execution_count": null,
   "id": "35c4b08d",
   "metadata": {},
   "outputs": [],
   "source": [
    "store_31"
   ]
  },
  {
   "cell_type": "code",
   "execution_count": null,
   "id": "ad36915f",
   "metadata": {},
   "outputs": [],
   "source": [
    "rank=select_coint_rank(store_31[['Sales','Customers','ASPC','DayOfWeek','Promo','Open','SchoolHoliday','StateHoliday_0']],-1,1)\n",
    "print('The rank of trace matrix is: {} while it has {} cols' .format(rank.rank,8))"
   ]
  },
  {
   "cell_type": "markdown",
   "id": "fd4d3b13",
   "metadata": {},
   "source": [
    "> Observation : We observe that the length of columns is not equal to rank, hence some of the elements are not con integerated. Hence by trial and error we identify the co-integerated ones"
   ]
  },
  {
   "cell_type": "code",
   "execution_count": null,
   "id": "5b9b0b31",
   "metadata": {},
   "outputs": [],
   "source": [
    "rank=select_coint_rank(store_31[['Sales','Customers','ASPC','DayOfWeek','Promo']],-1,1)\n",
    "print('The rank of trace matrix is: {} while it has {} cols' .format(rank.rank,5))"
   ]
  },
  {
   "cell_type": "markdown",
   "id": "8ba47003",
   "metadata": {},
   "source": [
    "We know that, for 2 column trace matrix, If rank(π) = 2 ⇒ that there are unique values for \n",
    "ω\n",
    "1\n",
    " and \n",
    "ω\n",
    "2\n",
    " which is possible only when both \n",
    "y\n",
    "1\n",
    "t\n",
    " and \n",
    "y\n",
    "2\n",
    "t\n",
    " are stationary ⇒ \n",
    "y\n",
    "1\n",
    "t\n",
    " and \n",
    "y\n",
    "2\n",
    "t\n",
    " are not cointegrated ⇒ Since these are stationary, you can build a VAR/ VARMAX model"
   ]
  },
  {
   "cell_type": "markdown",
   "id": "6aa1650d",
   "metadata": {},
   "source": [
    "Hence we can say that the columns 'Sales','Customers','ASPC','DayOfWeek','Promo' are all co-integerated and we can build a VAR Model without violating the principles"
   ]
  },
  {
   "cell_type": "markdown",
   "id": "0bcda2e6",
   "metadata": {},
   "source": [
    "#### Varma model"
   ]
  },
  {
   "cell_type": "markdown",
   "id": "eeec0401",
   "metadata": {},
   "source": [
    "**NOTE** :\n",
    "To avoid spuroius relations ,We choose to consider only sales and customer as input series as both are correlated and can cause change in others. While the variables promo, dayofweek, open, stateholiday are not affected by sales or customers. However, ASPC is a simple combination of Sales and customers, we avoid using it."
   ]
  },
  {
   "cell_type": "code",
   "execution_count": null,
   "id": "6462236b",
   "metadata": {},
   "outputs": [],
   "source": [
    "# VARMA model\n",
    "\n",
    "VARMA_model = sm.tsa.VARMAX(train[['Sales', 'Customers']], order=(7,0), trend='n')\n",
    "VARMA_model_fit = VARMA_model.fit(maxiter=1000, disp=False)\n",
    "print(VARMA_model_fit.summary())"
   ]
  },
  {
   "cell_type": "code",
   "execution_count": null,
   "id": "35624b80",
   "metadata": {},
   "outputs": [],
   "source": [
    "start_index = test.index.min()\n",
    "end_index = test.index.max()\n",
    "varma_pred = VARMA_model_fit.predict(start=start_index, end=end_index)"
   ]
  },
  {
   "cell_type": "code",
   "execution_count": null,
   "id": "94a369b7",
   "metadata": {},
   "outputs": [],
   "source": [
    "# plotting test and prediction graphs\n",
    "plot_train_test_pred(train,test,varma_pred)"
   ]
  },
  {
   "cell_type": "code",
   "execution_count": null,
   "id": "a034cb82",
   "metadata": {},
   "outputs": [],
   "source": [
    "# calculating error metrics \n",
    "error_metrics=error_metrics_func('31','varma',test,varma_pred,error_metrics)\n",
    "error_metrics"
   ]
  },
  {
   "cell_type": "markdown",
   "id": "62777431",
   "metadata": {},
   "source": [
    "#### Varmax model "
   ]
  },
  {
   "cell_type": "code",
   "execution_count": null,
   "id": "14d3533f",
   "metadata": {},
   "outputs": [],
   "source": [
    "store_31.columns"
   ]
  },
  {
   "cell_type": "code",
   "execution_count": null,
   "id": "0568e579",
   "metadata": {
    "scrolled": false
   },
   "outputs": [],
   "source": [
    "# Varmax model\n",
    "Varmax_model = sm.tsa.VARMAX(train[['Sales', 'Customers', 'Promo']], order=(7,0), trend='n')\n",
    "Varmax_model_fit = Varmax_model.fit(maxiter=1000, disp=False)\n",
    "print(Varmax_model_fit.summary())"
   ]
  },
  {
   "cell_type": "code",
   "execution_count": null,
   "id": "9eeef58b",
   "metadata": {},
   "outputs": [],
   "source": [
    "start_index = test.index.min()\n",
    "end_index = test.index.max()\n",
    "varmax_pred = Varmax_model_fit.predict(start=start_index, end=end_index)"
   ]
  },
  {
   "cell_type": "code",
   "execution_count": null,
   "id": "906ac1ae",
   "metadata": {},
   "outputs": [],
   "source": [
    "# plotting test and prediction graphs\n",
    "plot_train_test_pred(train,test,varmax_pred)"
   ]
  },
  {
   "cell_type": "code",
   "execution_count": null,
   "id": "5a2e5b8d",
   "metadata": {},
   "outputs": [],
   "source": [
    "# calculating error metrics \n",
    "\n",
    "error_metrics=error_metrics_func('31','varmax includes promo',test,varmax_pred,error_metrics)\n",
    "\n",
    "error_metrics"
   ]
  },
  {
   "cell_type": "markdown",
   "id": "878a024e",
   "metadata": {},
   "source": [
    "#### Impulse response function "
   ]
  },
  {
   "cell_type": "code",
   "execution_count": null,
   "id": "e5807668",
   "metadata": {},
   "outputs": [],
   "source": [
    "impulse_response_function_fig = Varmax_model_fit.impulse_responses(20, orthogonalized=True).plot(figsize=(20,8))\n",
    "impulse_response_function_fig.set(xlabel='t', title='Responses to a shock to `sales`');"
   ]
  },
  {
   "cell_type": "markdown",
   "id": "e9c200d4",
   "metadata": {},
   "source": [
    "> Observation:\n",
    "We observe that while sales and customer variable have significant impact in the time frame, the same cannot be said of PROMO"
   ]
  },
  {
   "cell_type": "markdown",
   "id": "4cd8da8b",
   "metadata": {},
   "source": [
    "#### Varmax with 'open' variable"
   ]
  },
  {
   "cell_type": "markdown",
   "id": "4311975d",
   "metadata": {},
   "source": [
    "**NOTE** :\n",
    "To avoid spuroius relations ,We choose to consider only sales and customer as input series as both are correlated and can cause change in others. While the variables promo, dayofweek, open, stateholiday are not affected by sales or customers. We instead use them as exogeous variables. However, ASPC is a simple combination of Sales and customers, we avoid using it."
   ]
  },
  {
   "cell_type": "code",
   "execution_count": null,
   "id": "3c7b8b6f",
   "metadata": {},
   "outputs": [],
   "source": [
    "# Varmax model\n",
    "Varmax_model = sm.tsa.VARMAX(train[['Sales', 'Customers']], order=(7,0), trend='n',exog=train[['Promo','SchoolHoliday','DayOfWeek','Open']])\n",
    "Varmax_model_fit = Varmax_model.fit(maxiter=1000, disp=False)\n",
    "print(Varmax_model_fit.summary())"
   ]
  },
  {
   "cell_type": "code",
   "execution_count": null,
   "id": "62da7fcc",
   "metadata": {},
   "outputs": [],
   "source": [
    "start_index = test.index.min()\n",
    "end_index = test.index.max()\n",
    "varmax_pred = Varmax_model_fit.predict(start=start_index, end=end_index,exog=test[['Promo','SchoolHoliday','DayOfWeek','Open']])"
   ]
  },
  {
   "cell_type": "code",
   "execution_count": null,
   "id": "c6aecbd2",
   "metadata": {},
   "outputs": [],
   "source": [
    "# plotting test and prediction graphs\n",
    "plot_train_test_pred(train,test,varmax_pred)"
   ]
  },
  {
   "cell_type": "code",
   "execution_count": null,
   "id": "b24a1465",
   "metadata": {},
   "outputs": [],
   "source": [
    "# calculating error metrics \n",
    "\n",
    "error_metrics=error_metrics_func('31','varmax includes open',test,varmax_pred,error_metrics)\n",
    "\n",
    "error_metrics"
   ]
  },
  {
   "cell_type": "markdown",
   "id": "d6c1f3d4",
   "metadata": {},
   "source": [
    "#### Impulse response function "
   ]
  },
  {
   "cell_type": "code",
   "execution_count": null,
   "id": "14ca1dce",
   "metadata": {},
   "outputs": [],
   "source": [
    "impulse_response_function_fig = Varmax_model_fit.impulse_responses(20, orthogonalized=True,exog=['Promo','SchoolHoliday','DayOfWeek','Open']).plot(figsize=(20,8))\n",
    "impulse_response_function_fig.set(xlabel='t', title='Responses to a shock to `sales`');"
   ]
  },
  {
   "cell_type": "markdown",
   "id": "fe22dc82",
   "metadata": {},
   "source": [
    "> Observation:\n",
    "We observe that while sales and customer variable have significant impact in the time frame"
   ]
  },
  {
   "cell_type": "markdown",
   "id": "b10b5fb5",
   "metadata": {},
   "source": [
    "#### Final varmax_model\n"
   ]
  },
  {
   "cell_type": "code",
   "execution_count": null,
   "id": "f5b6702c",
   "metadata": {},
   "outputs": [],
   "source": [
    "# Varmax model\n",
    "Varmax_model = sm.tsa.VARMAX(train[['Sales', 'Customers']], order=(7,0), trend='n',exog=train[['Promo','SchoolHoliday','DayOfWeek']])\n",
    "Varmax_model_fit = Varmax_model.fit(maxiter=1000, disp=False)\n",
    "print(Varmax_model_fit.summary())"
   ]
  },
  {
   "cell_type": "code",
   "execution_count": null,
   "id": "9d0302f8",
   "metadata": {},
   "outputs": [],
   "source": [
    "start_index = test.index.min()\n",
    "end_index = test.index.max()\n",
    "varmax_pred = Varmax_model_fit.predict(start=start_index, end=end_index,exog=test[['Promo','SchoolHoliday','DayOfWeek']])"
   ]
  },
  {
   "cell_type": "code",
   "execution_count": null,
   "id": "7be6177e",
   "metadata": {},
   "outputs": [],
   "source": [
    "# plotting test and prediction graphs\n",
    "plot_train_test_pred(train,test,varmax_pred)"
   ]
  },
  {
   "cell_type": "code",
   "execution_count": null,
   "id": "52fdc9ad",
   "metadata": {},
   "outputs": [],
   "source": [
    "# calculating error metrics \n",
    "\n",
    "error_metrics=error_metrics_func('31','varmax',test,varmax_pred,error_metrics)\n",
    "\n",
    "error_metrics"
   ]
  },
  {
   "cell_type": "markdown",
   "id": "afd1e587",
   "metadata": {},
   "source": [
    "#### Impulse response function "
   ]
  },
  {
   "cell_type": "code",
   "execution_count": null,
   "id": "c9e91a6e",
   "metadata": {},
   "outputs": [],
   "source": [
    "impulse_response_function_fig = Varmax_model_fit.impulse_responses(20, orthogonalized=True,exog=['Promo','SchoolHoliday','DayOfWeek']).plot(figsize=(20,8))\n",
    "impulse_response_function_fig.set(xlabel='t', title='Responses to a shock to `sales`');"
   ]
  },
  {
   "cell_type": "markdown",
   "id": "696887b9",
   "metadata": {},
   "source": [
    "> Observation:\n",
    "We observe that while sales and customer variable have significant impact in the time frame"
   ]
  },
  {
   "cell_type": "markdown",
   "id": "db1685cc",
   "metadata": {},
   "source": [
    "### Summary"
   ]
  },
  {
   "cell_type": "code",
   "execution_count": null,
   "id": "17a433b8",
   "metadata": {},
   "outputs": [],
   "source": [
    "error_metrics.sort_values(by='MAPE',ascending=True,inplace=True)\n",
    "error_metrics"
   ]
  },
  {
   "cell_type": "code",
   "execution_count": null,
   "id": "1f8b7408",
   "metadata": {},
   "outputs": [],
   "source": [
    "# Saving top of each store value for final presentation\n",
    "top_model_for_each_store=pd.concat([top_model_for_each_store,error_metrics.head(1)])\n",
    "top_model_for_each_store"
   ]
  },
  {
   "cell_type": "code",
   "execution_count": null,
   "id": "48b0ce2f",
   "metadata": {},
   "outputs": [],
   "source": [
    "best_model_store_31=Varmax_model_fit"
   ]
  },
  {
   "cell_type": "markdown",
   "id": "689d699e",
   "metadata": {},
   "source": [
    "> Observation \n",
    "\n",
    "When the models are compare using MAPE metrics, we find that VARMAX model is the best performing model. "
   ]
  },
  {
   "cell_type": "markdown",
   "id": "2601bf5f",
   "metadata": {},
   "source": [
    "## Store 46\n"
   ]
  },
  {
   "cell_type": "code",
   "execution_count": null,
   "id": "dd9fb4ca",
   "metadata": {},
   "outputs": [],
   "source": [
    "# Sorting the data by date in ascending order and setting data as index column\n",
    "store_46.sort_values(by='Date',ascending=True,inplace=True)\n",
    "store_46.set_index(keys='Date',inplace=True)\n"
   ]
  },
  {
   "cell_type": "code",
   "execution_count": null,
   "id": "4457a20f",
   "metadata": {},
   "outputs": [],
   "source": [
    "store_46.nunique()"
   ]
  },
  {
   "cell_type": "markdown",
   "id": "aa4f0f0b",
   "metadata": {},
   "source": [
    "> Observation : It appears that only 3 variables are of continious type, and hence these are treated for outliers. Values above 99 percentile are capped"
   ]
  },
  {
   "cell_type": "code",
   "execution_count": null,
   "id": "942719dc",
   "metadata": {},
   "outputs": [],
   "source": [
    "num_cont_cols=[\"Sales\", \"Customers\",'ASPC']\n",
    "\n",
    "#capping numerical columns to 0 and 99 percentiles\n",
    "for col in num_cont_cols:\n",
    "    hq=store_46[[col]].quantile(q=99/100).values[0]\n",
    "    store_46[col].apply(lambda x : hq if x > hq else x )"
   ]
  },
  {
   "cell_type": "code",
   "execution_count": null,
   "id": "fb8819be",
   "metadata": {},
   "outputs": [],
   "source": [
    "# Visualising outliers\n",
    "plt.figure(figsize=(20,20))\n",
    "c=1\n",
    "for col in num_cont_cols:\n",
    "    plt.subplot(3,2,c)\n",
    "    sns.boxplot(x=store_46[col])\n",
    "    plt.title('Distribution of {}'.format(col))\n",
    "    c=c+1\n",
    "plt.show()"
   ]
  },
  {
   "cell_type": "code",
   "execution_count": null,
   "id": "e79535cd",
   "metadata": {},
   "outputs": [],
   "source": [
    "# Standardising numerical columns\n",
    "scale = StandardScaler()\n",
    "store_46[[\"Sales\", \"Customers\",'ASPC']] = scale.fit_transform(store_46[[\"Sales\", \"Customers\",'ASPC']])\n",
    "\n",
    "store_46.describe()"
   ]
  },
  {
   "cell_type": "code",
   "execution_count": null,
   "id": "b96b5a4b",
   "metadata": {},
   "outputs": [],
   "source": [
    "# Visualising data after standardising\n",
    "plt.figure(figsize=(20,20))\n",
    "c=1\n",
    "for col in num_cont_cols:\n",
    "    plt.subplot(3,2,c)\n",
    "    sns.distplot(x=store_46[col])\n",
    "    plt.title('Distribution of {}'.format(col))\n",
    "    c=c+1\n",
    "plt.show()"
   ]
  },
  {
   "cell_type": "markdown",
   "id": "a2f84f49",
   "metadata": {},
   "source": [
    "> Observation: \n",
    "we can obseve that the distplot shows a bi-modal plot. The major mode is normally distributed in all the 3 cases. However, this is not the case in the peak (where sales =0). This is because the store is closed on Sundays and hence has 0 sales. This is crucial information with respect to prediction, hence we choose to ignore it. "
   ]
  },
  {
   "cell_type": "markdown",
   "id": "d98bf784",
   "metadata": {},
   "source": [
    "### Visualisation"
   ]
  },
  {
   "cell_type": "code",
   "execution_count": null,
   "id": "923d3f5e",
   "metadata": {},
   "outputs": [],
   "source": [
    "# Visualising the trend of sales\n",
    "\n",
    "store_46['Sales'].plot(figsize=(20, 4))\n",
    "plt.title('Sales')\n",
    "plt.show()\n",
    "\n",
    "plt.figure(figsize=(20, 4))\n",
    "sns.boxplot(x=store_46['Sales'])\n",
    "plt.title('Distribution of {}'.format('Sales'))\n",
    "plt.show()\n",
    "\n"
   ]
  },
  {
   "cell_type": "markdown",
   "id": "caa5b89b",
   "metadata": {},
   "source": [
    "### Time series decomposition"
   ]
  },
  {
   "cell_type": "markdown",
   "id": "81eae102",
   "metadata": {},
   "source": [
    "**Note** \n",
    "As the values are missing for store 46 until jan 1 of 2015. We choose to start our analysis from Jan 1 of 2015 to keep things simple "
   ]
  },
  {
   "cell_type": "code",
   "execution_count": null,
   "id": "7e67de59",
   "metadata": {},
   "outputs": [],
   "source": [
    "store_46=store_46.loc['2015-01-01':]"
   ]
  },
  {
   "cell_type": "code",
   "execution_count": null,
   "id": "adbc9300",
   "metadata": {},
   "outputs": [],
   "source": [
    "rcParams['figure.figsize'] = (12, 8)\n",
    "decomposition = sm.tsa.seasonal_decompose(store_46.Sales, model='additive') # additive seasonal index\n",
    "fig = decomposition.plot()\n",
    "plt.show()"
   ]
  },
  {
   "cell_type": "markdown",
   "id": "bb4f43b2",
   "metadata": {},
   "source": [
    "> Observation : \n",
    "\n",
    "We observe that there is no significant pattern in the residuals, hence we select the additive model over the multiplicative model\n"
   ]
  },
  {
   "cell_type": "markdown",
   "id": "e5758a4d",
   "metadata": {},
   "source": [
    "### Splitting data into test and train"
   ]
  },
  {
   "cell_type": "code",
   "execution_count": null,
   "id": "eae2a084",
   "metadata": {},
   "outputs": [],
   "source": [
    "# Splitting dataset into test and train\n",
    "weeks=6\n",
    "n_of_obs=7*weeks#(7 days multiplied by 6 weeks)\n",
    "train = store_46.iloc[:len(store_46)-n_of_obs,:]\n",
    "test = store_46.iloc[len(store_46)-n_of_obs:,:]"
   ]
  },
  {
   "cell_type": "markdown",
   "id": "5f9ebbeb",
   "metadata": {},
   "source": [
    "### Modelling"
   ]
  },
  {
   "cell_type": "code",
   "execution_count": null,
   "id": "ecd9392a",
   "metadata": {},
   "outputs": [],
   "source": [
    "# Custom function for plotting test and predicted output\n",
    "def plot_train_test_pred(train,test,pred):\n",
    "    plt.figure(figsize=(20,8))\n",
    "    plt.plot(test['Sales'],label='Test')\n",
    "    plt.plot(pred['Sales'],label='Predicted')\n",
    "    plt.legend()\n",
    "    plt.title('Comparing test and predicted values')\n",
    "    plt.show()"
   ]
  },
  {
   "cell_type": "code",
   "execution_count": null,
   "id": "a2fe02bd",
   "metadata": {},
   "outputs": [],
   "source": [
    "# Custom function to calculate update error metrics\n",
    "def error_metrics_func(store,method,test, pred,error_metrics):\n",
    "    rmse=np.sqrt(mean_squared_error(test['Sales'],pred['Sales']))\n",
    "    mape=np.abs(np.mean(np.abs(test['Sales']-pred['Sales'])/test['Sales'])*100)\n",
    "    mae=mean_absolute_error(test['Sales'],pred['Sales'])\n",
    "    error=pd.DataFrame({'Store':[store],'Method':[method], 'MAPE': [mape], 'RMSE': [rmse], 'MAE': [mae]})\n",
    "    error_metrics=pd.concat([error_metrics,error])\n",
    "    return error_metrics\n",
    "    \n",
    "    "
   ]
  },
  {
   "cell_type": "code",
   "execution_count": null,
   "id": "d0fc8e45",
   "metadata": {},
   "outputs": [],
   "source": [
    "# Custom function to test stationarity at 0.95 confidence\n",
    "def stationary_test(df,col):\n",
    "    adf_test=adfuller(store_46[col])\n",
    "    print('='*116)\n",
    "    print('performing adf test on {}'. format(col))\n",
    "    print('ADF Stat:', adf_test[0])\n",
    "    print('Critical value at 0.05',adf_test[4]['5%'])\n",
    "    p_value=adf_test[1]\n",
    "    print('P-value:',adf_test[1])\n",
    "    print()\n",
    "    if p_value <0.05:\n",
    "        print('-> {} Series is stationary'.format(col))\n",
    "    else:\n",
    "        print('-> {} Series is not stationary'.format(col))\n",
    "    print('='*116)"
   ]
  },
  {
   "cell_type": "code",
   "execution_count": null,
   "id": "1182634d",
   "metadata": {},
   "outputs": [],
   "source": [
    "#  Initialising empty dataframe as error_metrics to be used later\n",
    "error_metrics=pd.DataFrame([])"
   ]
  },
  {
   "cell_type": "markdown",
   "id": "f0729d68",
   "metadata": {},
   "source": [
    "#### Naive method\n",
    "We first start with the naive method"
   ]
  },
  {
   "cell_type": "code",
   "execution_count": null,
   "id": "feeae4e4",
   "metadata": {},
   "outputs": [],
   "source": [
    "# Naive Method\n",
    "naive_pred = test.copy()\n",
    "naive_pred['Sales'] = train['Sales'][n_of_obs-1]"
   ]
  },
  {
   "cell_type": "code",
   "execution_count": null,
   "id": "6f1dfd3f",
   "metadata": {},
   "outputs": [],
   "source": [
    "# plotting test and prediction graphs\n",
    "plot_train_test_pred(train,test,naive_pred)"
   ]
  },
  {
   "cell_type": "code",
   "execution_count": null,
   "id": "909e6f36",
   "metadata": {},
   "outputs": [],
   "source": [
    "# calculating error metrics \n",
    "error_metrics=error_metrics_func('46','naive',test,naive_pred,error_metrics)\n",
    "error_metrics"
   ]
  },
  {
   "cell_type": "markdown",
   "id": "4b05f8ac",
   "metadata": {},
   "source": [
    "#### Simple moving average method\n",
    "\n",
    "We now attempt simple moving average model"
   ]
  },
  {
   "cell_type": "markdown",
   "id": "092f7367",
   "metadata": {},
   "source": [
    "on seeing the graph, it appears that the trend repeats after every 7 days, hence we keep the moving average also as 7 days"
   ]
  },
  {
   "cell_type": "code",
   "execution_count": null,
   "id": "781f4386",
   "metadata": {},
   "outputs": [],
   "source": [
    "ma_window=7"
   ]
  },
  {
   "cell_type": "code",
   "execution_count": null,
   "id": "ccbc6690",
   "metadata": {},
   "outputs": [],
   "source": [
    "# moving average method \n",
    "simple_moving_average_pred = test.copy()\n",
    "simple_moving_average_pred['Sales'] = store_46['Sales'].rolling(ma_window).mean()\n",
    "simple_moving_average_pred['Sales'][len(store_46)-n_of_obs:] = train['Sales'][n_of_obs-1]"
   ]
  },
  {
   "cell_type": "code",
   "execution_count": null,
   "id": "fed1f84e",
   "metadata": {},
   "outputs": [],
   "source": [
    "# plotting test and prediction graphs\n",
    "plot_train_test_pred(train,test,simple_moving_average_pred)"
   ]
  },
  {
   "cell_type": "code",
   "execution_count": null,
   "id": "c2b251c8",
   "metadata": {},
   "outputs": [],
   "source": [
    "# calculating error metrics \n",
    "error_metrics=error_metrics_func('46','simple_moving_average',test,simple_moving_average_pred,error_metrics)\n",
    "\n",
    "error_metrics"
   ]
  },
  {
   "cell_type": "markdown",
   "id": "02b9815b",
   "metadata": {},
   "source": [
    "#### holt winters method with additive trend and seasonality"
   ]
  },
  {
   "cell_type": "code",
   "execution_count": null,
   "id": "3ac04c9f",
   "metadata": {},
   "outputs": [],
   "source": [
    "# Attempting holt-winters additive trend with additive seasonality\n",
    "hwa_pred = test.copy()\n",
    "model = ExponentialSmoothing(np.asarray(train['Sales']) ,seasonal_periods=7 ,trend='add', seasonal='add')\n",
    "model_fit = model.fit(optimized=True)\n",
    "print(model_fit.params)\n",
    "hwa_pred['Sales'] = model_fit.forecast(42)"
   ]
  },
  {
   "cell_type": "code",
   "execution_count": null,
   "id": "f81608bf",
   "metadata": {},
   "outputs": [],
   "source": [
    "# plotting test and prediction graphs\n",
    "plot_train_test_pred(train,test,hwa_pred)"
   ]
  },
  {
   "cell_type": "code",
   "execution_count": null,
   "id": "42acbf30",
   "metadata": {},
   "outputs": [],
   "source": [
    "# calculating error metrics \n",
    "error_metrics=error_metrics_func'46','holt winters method with additive trend and seasonality',test,hwa_pred,error_metrics)\n",
    "error_metrics"
   ]
  },
  {
   "cell_type": "markdown",
   "id": "79a3e70a",
   "metadata": {},
   "source": [
    "#### ARIMA family pre-requisites"
   ]
  },
  {
   "cell_type": "code",
   "execution_count": null,
   "id": "f3cbbe9c",
   "metadata": {},
   "outputs": [],
   "source": [
    "# We perform the stationarity test on the numerical columns, Namely, Sales, Customers and ASPC\n",
    "\n",
    "stationary_test(store_46,'Sales')\n",
    "stationary_test(store_46,'Customers')\n",
    "stationary_test(store_46,'ASPC')\n",
    "stationary_test(store_46,'DayOfWeek')\n",
    "stationary_test(store_46,'Open')\n",
    "stationary_test(store_46,'Promo')"
   ]
  },
  {
   "cell_type": "markdown",
   "id": "7ba52da1",
   "metadata": {},
   "source": [
    "> Observation\n",
    "\n",
    "We find that all the desired endogenous variables are stationary with 95% confidence. This is acceptable for our study, hence we conclude that all the required series are stationary"
   ]
  },
  {
   "cell_type": "code",
   "execution_count": null,
   "id": "0c848c32",
   "metadata": {},
   "outputs": [],
   "source": [
    "# Plotting ACF graph to determin q\n",
    "plt.figure(figsize=(20,8))\n",
    "plot_acf(store_46['Customers'],ax=plt.gca(),lags=60)\n",
    "plt.show()"
   ]
  },
  {
   "cell_type": "markdown",
   "id": "79b7160a",
   "metadata": {},
   "source": [
    "> Observation \n",
    "It is clearly seen that there is a seasonal pattern in the ACF  graph, hence we consider q to be 0"
   ]
  },
  {
   "cell_type": "code",
   "execution_count": null,
   "id": "6bbd2170",
   "metadata": {},
   "outputs": [],
   "source": [
    "# Plotting PACF graph to determine p \n",
    "plt.figure(figsize=(20,8))\n",
    "plot_pacf(store_46['Customers'],ax=plt.gca(),lags=60)\n",
    "plt.show()"
   ]
  },
  {
   "cell_type": "markdown",
   "id": "9418600e",
   "metadata": {},
   "source": [
    "> Observation \n",
    "We observe that the graph dies down considerably after the 49th period. However, this would make our model very complex, hence we settle at a lower number of 14 after which the reduction in PACF values slows down"
   ]
  },
  {
   "cell_type": "markdown",
   "id": "3ad1e3f2",
   "metadata": {},
   "source": [
    "#### Arima model"
   ]
  },
  {
   "cell_type": "code",
   "execution_count": null,
   "id": "f0b173ed",
   "metadata": {
    "scrolled": true
   },
   "outputs": [],
   "source": [
    "# Arima model with p=14 , d=0 ( series was stationary without preprocessing) and q=0\n",
    "arima_model = SARIMAX(train['Sales'], order=(14, 0, 0))\n",
    "arima_model_fit = arima_model.fit()\n",
    "print(arima_model_fit.params)"
   ]
  },
  {
   "cell_type": "code",
   "execution_count": null,
   "id": "e5d8a233",
   "metadata": {},
   "outputs": [],
   "source": [
    "arima_pred = test.copy()\n",
    "arima_pred['Sales'] = arima_model_fit.predict(test.index.min(), test.index.max())"
   ]
  },
  {
   "cell_type": "code",
   "execution_count": null,
   "id": "994a7484",
   "metadata": {
    "scrolled": true
   },
   "outputs": [],
   "source": [
    "# plotting test and prediction graphs\n",
    "plot_train_test_pred(train,test,arima_pred)"
   ]
  },
  {
   "cell_type": "code",
   "execution_count": null,
   "id": "cba0bf99",
   "metadata": {},
   "outputs": [],
   "source": [
    "# calculating error metrics \n",
    "error_metrics=error_metrics_func('46','ARIMA',test,arima_pred,error_metrics)\n",
    "error_metrics"
   ]
  },
  {
   "cell_type": "code",
   "execution_count": null,
   "id": "83808fd3",
   "metadata": {},
   "outputs": [],
   "source": [
    "#SARIMA,SArima model with p=7 , d=0 ( series was stationary without preprocessing) and q=0\n",
    "# Values of PQD were arrived by trial and error while m is choosen to be 14 ( mulitple of 7)\n",
    "SARIMAX_model = SARIMAX(train['Sales'], order=(7, 0, 0),seasonal_order=(10,0,0, 14))\n",
    "SARIMAX_model_fit = SARIMAX_model.fit()\n",
    "print(SARIMAX_model_fit.params)"
   ]
  },
  {
   "cell_type": "code",
   "execution_count": null,
   "id": "cded13cb",
   "metadata": {},
   "outputs": [],
   "source": [
    "sarima_pred = test.copy()\n",
    "sarima_pred['Sales'] = SARIMAX_model_fit.predict(test.index.min(), test.index.max())"
   ]
  },
  {
   "cell_type": "code",
   "execution_count": null,
   "id": "dbba41cd",
   "metadata": {},
   "outputs": [],
   "source": [
    "# plotting test and prediction graphs\n",
    "plot_train_test_pred(train,test,sarima_pred)"
   ]
  },
  {
   "cell_type": "code",
   "execution_count": null,
   "id": "248f61e5",
   "metadata": {},
   "outputs": [],
   "source": [
    "# calculating error metrics \n",
    "error_metrics=error_metrics_func('46','SARIMA',test,sarima_pred,error_metrics)\n",
    "error_metrics"
   ]
  },
  {
   "cell_type": "code",
   "execution_count": null,
   "id": "505ebbdc",
   "metadata": {},
   "outputs": [],
   "source": [
    "#SARIMAX,SArima model with p=14 , d=0 ( series was stationary without preprocessing) and q=0\n",
    "# Values of PQD were arrived by trial and error while m is choosen to be 14 ( mulitple of 7)\n",
    "\n",
    "SARIMAX_model = SARIMAX(train['Sales'], order=(1, 0, 0),seasonal_order=(7,0,0,7),exog=train[['DayOfWeek','Promo','Open','StateHoliday_0']])\n",
    "SARIMAX_model_fit = SARIMAX_model.fit()\n",
    "print(SARIMAX_model_fit.params)\n",
    "\n"
   ]
  },
  {
   "cell_type": "code",
   "execution_count": null,
   "id": "f3165075",
   "metadata": {},
   "outputs": [],
   "source": [
    "sarimax_pred = test.copy()\n",
    "sarimax_pred['Sales'] = SARIMAX_model_fit.predict(test.index.min(), test.index.max(),exog=test[['DayOfWeek','Promo','Open','StateHoliday_0']])\n"
   ]
  },
  {
   "cell_type": "code",
   "execution_count": null,
   "id": "5ef8fc07",
   "metadata": {},
   "outputs": [],
   "source": [
    "# plotting test and prediction graphs\n",
    "plot_train_test_pred(train,test,sarimax_pred)"
   ]
  },
  {
   "cell_type": "code",
   "execution_count": null,
   "id": "a75721ab",
   "metadata": {},
   "outputs": [],
   "source": [
    "error_metrics=error_metrics_func('46','SARIMAX',test,sarimax_pred,error_metrics)\n",
    "error_metrics"
   ]
  },
  {
   "cell_type": "markdown",
   "id": "fb9da765",
   "metadata": {},
   "source": [
    "#### VAR Model pre-requisites"
   ]
  },
  {
   "cell_type": "markdown",
   "id": "47f667b1",
   "metadata": {},
   "source": [
    "check co-integration"
   ]
  },
  {
   "cell_type": "code",
   "execution_count": null,
   "id": "2d428534",
   "metadata": {},
   "outputs": [],
   "source": [
    "from statsmodels.tsa.vector_ar.vecm import select_coint_rank"
   ]
  },
  {
   "cell_type": "code",
   "execution_count": null,
   "id": "cee2011a",
   "metadata": {},
   "outputs": [],
   "source": [
    "store_46"
   ]
  },
  {
   "cell_type": "code",
   "execution_count": null,
   "id": "50bb7a6b",
   "metadata": {},
   "outputs": [],
   "source": [
    "rank=select_coint_rank(store_46[['Sales','Customers','ASPC','DayOfWeek','Promo','Open','SchoolHoliday','StateHoliday_0']],-1,1)\n",
    "print('The rank of trace matrix is: {} while it has {} cols' .format(rank.rank,8))"
   ]
  },
  {
   "cell_type": "markdown",
   "id": "323667f2",
   "metadata": {},
   "source": [
    "> Observation : We observe that the length of columns is not equal to rank, hence some of the elements are not con integerated. Hence by trial and error we identify the co-integerated ones"
   ]
  },
  {
   "cell_type": "code",
   "execution_count": null,
   "id": "e412b43b",
   "metadata": {},
   "outputs": [],
   "source": [
    "rank=select_coint_rank(store_46[['Sales','Customers','ASPC','DayOfWeek','Promo']],-1,1)\n",
    "print('The rank of trace matrix is: {} while it has {} cols' .format(rank.rank,5))"
   ]
  },
  {
   "cell_type": "markdown",
   "id": "69fa4df9",
   "metadata": {},
   "source": [
    "We know that, for 2 column trace matrix, If rank(π) = 2 ⇒ that there are unique values for \n",
    "ω\n",
    "1\n",
    " and \n",
    "ω\n",
    "2\n",
    " which is possible only when both \n",
    "y\n",
    "1\n",
    "t\n",
    " and \n",
    "y\n",
    "2\n",
    "t\n",
    " are stationary ⇒ \n",
    "y\n",
    "1\n",
    "t\n",
    " and \n",
    "y\n",
    "2\n",
    "t\n",
    " are not cointegrated ⇒ Since these are stationary, you can build a VAR/ VARMAX model"
   ]
  },
  {
   "cell_type": "markdown",
   "id": "74d22b44",
   "metadata": {},
   "source": [
    "Hence we can say that the columns 'Sales','Customers','ASPC','DayOfWeek','Promo' are all co-integerated and we can build a VAR Model without violating the principles"
   ]
  },
  {
   "cell_type": "markdown",
   "id": "66d25008",
   "metadata": {},
   "source": [
    "#### Varma model"
   ]
  },
  {
   "cell_type": "markdown",
   "id": "31bd23d9",
   "metadata": {},
   "source": [
    "**NOTE** :\n",
    "To avoid spuroius relations ,We choose to consider only sales and customer as input series as both are correlated and can cause change in others. While the variables promo, dayofweek, open, stateholiday are not affected by sales or customers. However, ASPC is a simple combination of Sales and customers, we avoid using it."
   ]
  },
  {
   "cell_type": "code",
   "execution_count": null,
   "id": "1f38a3e3",
   "metadata": {},
   "outputs": [],
   "source": [
    "# VARMA model\n",
    "\n",
    "VARMA_model = sm.tsa.VARMAX(train[['Sales', 'Customers']], order=(7,0), trend='n')\n",
    "VARMA_model_fit = VARMA_model.fit(maxiter=1000, disp=False)\n",
    "print(VARMA_model_fit.summary())"
   ]
  },
  {
   "cell_type": "code",
   "execution_count": null,
   "id": "df814ee1",
   "metadata": {},
   "outputs": [],
   "source": [
    "start_index = test.index.min()\n",
    "end_index = test.index.max()\n",
    "varma_pred = VARMA_model_fit.predict(start=start_index, end=end_index)"
   ]
  },
  {
   "cell_type": "code",
   "execution_count": null,
   "id": "422fa083",
   "metadata": {},
   "outputs": [],
   "source": [
    "# plotting test and prediction graphs\n",
    "plot_train_test_pred(train,test,varma_pred)"
   ]
  },
  {
   "cell_type": "code",
   "execution_count": null,
   "id": "0af28683",
   "metadata": {},
   "outputs": [],
   "source": [
    "# calculating error metrics \n",
    "error_metrics=error_metrics_func('46','varma',test,varma_pred,error_metrics)\n",
    "error_metrics"
   ]
  },
  {
   "cell_type": "markdown",
   "id": "f504df91",
   "metadata": {},
   "source": [
    "#### Varmax model "
   ]
  },
  {
   "cell_type": "code",
   "execution_count": null,
   "id": "204d6806",
   "metadata": {},
   "outputs": [],
   "source": [
    "store_46.columns"
   ]
  },
  {
   "cell_type": "code",
   "execution_count": null,
   "id": "1ec4c6e1",
   "metadata": {
    "scrolled": false
   },
   "outputs": [],
   "source": [
    "# Varmax model\n",
    "Varmax_model = sm.tsa.VARMAX(train[['Sales', 'Customers', 'Promo']], order=(7,0), trend='n')\n",
    "Varmax_model_fit = Varmax_model.fit(maxiter=1000, disp=False)\n",
    "print(Varmax_model_fit.summary())"
   ]
  },
  {
   "cell_type": "code",
   "execution_count": null,
   "id": "338538b6",
   "metadata": {},
   "outputs": [],
   "source": [
    "start_index = test.index.min()\n",
    "end_index = test.index.max()\n",
    "varmax_pred = Varmax_model_fit.predict(start=start_index, end=end_index)"
   ]
  },
  {
   "cell_type": "code",
   "execution_count": null,
   "id": "020629bd",
   "metadata": {},
   "outputs": [],
   "source": [
    "# plotting test and prediction graphs\n",
    "plot_train_test_pred(train,test,varmax_pred)"
   ]
  },
  {
   "cell_type": "code",
   "execution_count": null,
   "id": "fd04c7bb",
   "metadata": {},
   "outputs": [],
   "source": [
    "# calculating error metrics \n",
    "\n",
    "error_metrics=error_metrics_func('46','varmax includes promo',test,varmax_pred,error_metrics)\n",
    "\n",
    "error_metrics"
   ]
  },
  {
   "cell_type": "markdown",
   "id": "8f27bae8",
   "metadata": {},
   "source": [
    "#### Impulse response function "
   ]
  },
  {
   "cell_type": "code",
   "execution_count": null,
   "id": "c2fba4f8",
   "metadata": {},
   "outputs": [],
   "source": [
    "impulse_response_function_fig = Varmax_model_fit.impulse_responses(20, orthogonalized=True).plot(figsize=(20,8))\n",
    "impulse_response_function_fig.set(xlabel='t', title='Responses to a shock to `sales`');"
   ]
  },
  {
   "cell_type": "markdown",
   "id": "cc67b552",
   "metadata": {},
   "source": [
    "> Observation:\n",
    "We observe that while sales and customer variable have significant impact in the time frame, the same cannot be said of PROMO"
   ]
  },
  {
   "cell_type": "markdown",
   "id": "29ade783",
   "metadata": {},
   "source": [
    "#### Varmax with 'open' variable"
   ]
  },
  {
   "cell_type": "markdown",
   "id": "e4ade199",
   "metadata": {},
   "source": [
    "**NOTE** :\n",
    "To avoid spuroius relations ,We choose to consider only sales and customer as input series as both are correlated and can cause change in others. While the variables promo, dayofweek, open, stateholiday are not affected by sales or customers. We instead use them as exogeous variables. However, ASPC is a simple combination of Sales and customers, we avoid using it."
   ]
  },
  {
   "cell_type": "code",
   "execution_count": null,
   "id": "ac2c2cec",
   "metadata": {},
   "outputs": [],
   "source": [
    "# Varmax model\n",
    "Varmax_model = sm.tsa.VARMAX(train[['Sales', 'Customers']], order=(7,0), trend='n',exog=train[['Promo','SchoolHoliday','DayOfWeek','Open']])\n",
    "Varmax_model_fit = Varmax_model.fit(maxiter=1000, disp=False)\n",
    "print(Varmax_model_fit.summary())"
   ]
  },
  {
   "cell_type": "code",
   "execution_count": null,
   "id": "a0394d3f",
   "metadata": {},
   "outputs": [],
   "source": [
    "start_index = test.index.min()\n",
    "end_index = test.index.max()\n",
    "varmax_pred = Varmax_model_fit.predict(start=start_index, end=end_index,exog=test[['Promo','SchoolHoliday','DayOfWeek','Open']])"
   ]
  },
  {
   "cell_type": "code",
   "execution_count": null,
   "id": "69da3168",
   "metadata": {},
   "outputs": [],
   "source": [
    "# plotting test and prediction graphs\n",
    "plot_train_test_pred(train,test,varmax_pred)"
   ]
  },
  {
   "cell_type": "code",
   "execution_count": null,
   "id": "add503b8",
   "metadata": {},
   "outputs": [],
   "source": [
    "# calculating error metrics \n",
    "\n",
    "error_metrics=error_metrics_func('46','varmax includes open',test,varmax_pred,error_metrics)\n",
    "\n",
    "error_metrics"
   ]
  },
  {
   "cell_type": "markdown",
   "id": "1267cfd5",
   "metadata": {},
   "source": [
    "#### Impulse response function "
   ]
  },
  {
   "cell_type": "code",
   "execution_count": null,
   "id": "b33deb86",
   "metadata": {},
   "outputs": [],
   "source": [
    "impulse_response_function_fig = Varmax_model_fit.impulse_responses(20, orthogonalized=True,exog=['Promo','SchoolHoliday','DayOfWeek','Open']).plot(figsize=(20,8))\n",
    "impulse_response_function_fig.set(xlabel='t', title='Responses to a shock to `sales`');"
   ]
  },
  {
   "cell_type": "markdown",
   "id": "eb0cbfd7",
   "metadata": {},
   "source": [
    "> Observation:\n",
    "We observe that while sales and customer variable have significant impact in the time frame"
   ]
  },
  {
   "cell_type": "markdown",
   "id": "b85acd77",
   "metadata": {},
   "source": [
    "#### Final varmax_model\n"
   ]
  },
  {
   "cell_type": "code",
   "execution_count": null,
   "id": "88a44594",
   "metadata": {},
   "outputs": [],
   "source": [
    "# Varmax model\n",
    "Varmax_model = sm.tsa.VARMAX(train[['Sales', 'Customers']], order=(7,0), trend='n',exog=train[['Promo','SchoolHoliday','DayOfWeek']])\n",
    "Varmax_model_fit = Varmax_model.fit(maxiter=1000, disp=False)\n",
    "print(Varmax_model_fit.summary())"
   ]
  },
  {
   "cell_type": "code",
   "execution_count": null,
   "id": "4564839e",
   "metadata": {},
   "outputs": [],
   "source": [
    "start_index = test.index.min()\n",
    "end_index = test.index.max()\n",
    "varmax_pred = Varmax_model_fit.predict(start=start_index, end=end_index,exog=test[['Promo','SchoolHoliday','DayOfWeek']])"
   ]
  },
  {
   "cell_type": "code",
   "execution_count": null,
   "id": "a87672e9",
   "metadata": {},
   "outputs": [],
   "source": [
    "# plotting test and prediction graphs\n",
    "plot_train_test_pred(train,test,varmax_pred)"
   ]
  },
  {
   "cell_type": "code",
   "execution_count": null,
   "id": "a9907f79",
   "metadata": {},
   "outputs": [],
   "source": [
    "# calculating error metrics \n",
    "\n",
    "error_metrics=error_metrics_func('46','varmax',test,varmax_pred,error_metrics)\n",
    "\n",
    "error_metrics"
   ]
  },
  {
   "cell_type": "markdown",
   "id": "e7ed3a38",
   "metadata": {},
   "source": [
    "#### Impulse response function "
   ]
  },
  {
   "cell_type": "code",
   "execution_count": null,
   "id": "d6de0c0a",
   "metadata": {},
   "outputs": [],
   "source": [
    "impulse_response_function_fig = Varmax_model_fit.impulse_responses(20, orthogonalized=True,exog=['Promo','SchoolHoliday','DayOfWeek']).plot(figsize=(20,8))\n",
    "impulse_response_function_fig.set(xlabel='t', title='Responses to a shock to `sales`');"
   ]
  },
  {
   "cell_type": "markdown",
   "id": "711c7f22",
   "metadata": {},
   "source": [
    "> Observation:\n",
    "We observe that while sales and customer variable have significant impact in the time frame"
   ]
  },
  {
   "cell_type": "markdown",
   "id": "f486a82e",
   "metadata": {},
   "source": [
    "### Summary"
   ]
  },
  {
   "cell_type": "code",
   "execution_count": null,
   "id": "67c0d0a9",
   "metadata": {},
   "outputs": [],
   "source": [
    "error_metrics.sort_values(by='MAPE',ascending=True,inplace=True)\n",
    "error_metrics"
   ]
  },
  {
   "cell_type": "code",
   "execution_count": null,
   "id": "890be925",
   "metadata": {},
   "outputs": [],
   "source": [
    "# Saving top of each store value for final presentation\n",
    "top_model_for_each_store=pd.concat([top_model_for_each_store,error_metrics.head(1)])\n",
    "top_model_for_each_store"
   ]
  },
  {
   "cell_type": "code",
   "execution_count": null,
   "id": "2796e771",
   "metadata": {},
   "outputs": [],
   "source": [
    "best_model_store_46=Varmax_model_fit"
   ]
  },
  {
   "cell_type": "markdown",
   "id": "3067c804",
   "metadata": {},
   "source": [
    "> Observation \n",
    "\n",
    "When the models are compare using MAPE metrics, we find that SARIMAX model  is the best performing model. "
   ]
  },
  {
   "cell_type": "code",
   "execution_count": null,
   "id": "3854f8e1",
   "metadata": {},
   "outputs": [],
   "source": []
  },
  {
   "cell_type": "code",
   "execution_count": null,
   "id": "894f6fe5",
   "metadata": {},
   "outputs": [],
   "source": []
  }
 ],
 "metadata": {
  "hide_input": false,
  "kernelspec": {
   "display_name": "Python 3 (ipykernel)",
   "language": "python",
   "name": "python3"
  },
  "language_info": {
   "codemirror_mode": {
    "name": "ipython",
    "version": 3
   },
   "file_extension": ".py",
   "mimetype": "text/x-python",
   "name": "python",
   "nbconvert_exporter": "python",
   "pygments_lexer": "ipython3",
   "version": "3.11.5"
  },
  "toc": {
   "base_numbering": 1,
   "nav_menu": {},
   "number_sections": true,
   "sideBar": true,
   "skip_h1_title": false,
   "title_cell": "Table of Contents",
   "title_sidebar": "Contents",
   "toc_cell": true,
   "toc_position": {
    "height": "788px",
    "left": "465px",
    "top": "461.133px",
    "width": "165px"
   },
   "toc_section_display": true,
   "toc_window_display": false
  }
 },
 "nbformat": 4,
 "nbformat_minor": 5
}
